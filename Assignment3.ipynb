{
 "cells": [
  {
   "cell_type": "code",
   "execution_count": null,
   "id": "df7ba2aa-e119-433a-8d84-c3086554a1a8",
   "metadata": {},
   "outputs": [],
   "source": [
    "Q1. Create a python program to sort the given list of tuples based on integer value using a\n",
    "    lambda function.\n",
    "    [('Sachin Tendulkar', 34357), ('Ricky Ponting', 27483), ('Jack Kallis', 25534), ('Virat Kohli', 24936)]"
   ]
  },
  {
   "cell_type": "code",
   "execution_count": 1,
   "id": "81506bf6-f75e-48ae-9eba-af61b640c6e8",
   "metadata": {},
   "outputs": [],
   "source": [
    "l = [('Sachin Tendulkar', 34357), ('Ricky Ponting', 27483), ('Jack Kallis', 25534), ('Virat Kohli', 24936)]"
   ]
  },
  {
   "cell_type": "code",
   "execution_count": 32,
   "id": "d9f30d39-955a-4d01-b56f-9ea5c6651efb",
   "metadata": {},
   "outputs": [],
   "source": [
    "l.sort(key = lambda x: x[1])"
   ]
  },
  {
   "cell_type": "code",
   "execution_count": 33,
   "id": "b0bafd49-2c78-4761-87a9-482c278931f4",
   "metadata": {},
   "outputs": [
    {
     "data": {
      "text/plain": [
       "[('Virat Kohli', 24936),\n",
       " ('Jack Kallis', 25534),\n",
       " ('Ricky Ponting', 27483),\n",
       " ('Sachin Tendulkar', 34357)]"
      ]
     },
     "execution_count": 33,
     "metadata": {},
     "output_type": "execute_result"
    }
   ],
   "source": [
    "l"
   ]
  },
  {
   "cell_type": "code",
   "execution_count": null,
   "id": "bb680abe-76aa-4c17-ac42-aafcf8ff6782",
   "metadata": {},
   "outputs": [],
   "source": [
    "Q2. Write a Python Program to find the squares of all the numbers in the given list of integers using\n",
    "    lambda and map functions.\n",
    "    [1, 2, 3, 4, 5, 6, 7, 8, 9, 10]"
   ]
  },
  {
   "cell_type": "code",
   "execution_count": 36,
   "id": "9cdf81bf-55bd-4f44-9cb9-524929ef3e8d",
   "metadata": {},
   "outputs": [],
   "source": [
    "l1 =  [1, 2, 3, 4, 5, 6, 7, 8, 9, 10]"
   ]
  },
  {
   "cell_type": "code",
   "execution_count": 37,
   "id": "a7457241-0164-4929-a5b2-119dfe9a4cdf",
   "metadata": {},
   "outputs": [
    {
     "data": {
      "text/plain": [
       "[1, 4, 9, 16, 25, 36, 49, 64, 81, 100]"
      ]
     },
     "execution_count": 37,
     "metadata": {},
     "output_type": "execute_result"
    }
   ],
   "source": [
    "list(map(lambda x: x**2, l1))"
   ]
  },
  {
   "cell_type": "code",
   "execution_count": null,
   "id": "38d5e3cb-a84a-48f3-8a8e-c15f1fc93cd3",
   "metadata": {},
   "outputs": [],
   "source": [
    "Q3. Write a python program to convert the given list of integers into a tuple of strings. Use map and\n",
    "    lambda functions\n",
    "    Given String: [1, 2, 3, 4, 5, 6, 7, 8, 9, 10]\n",
    "    Expected output: ('1', '2', '3', '4', '5', '6', '7', '8', '9', '10')"
   ]
  },
  {
   "cell_type": "code",
   "execution_count": 38,
   "id": "3d246ddf-a748-4d1c-b538-5be2f9658de1",
   "metadata": {},
   "outputs": [],
   "source": [
    "l3 = [1, 2, 3, 4, 5, 6, 7, 8, 9, 10]"
   ]
  },
  {
   "cell_type": "code",
   "execution_count": 47,
   "id": "c72138a5-ca5a-460e-b9a4-6374515e1eea",
   "metadata": {},
   "outputs": [
    {
     "data": {
      "text/plain": [
       "('1', '2', '3', '4', '5', '6', '7', '8', '9', '10')"
      ]
     },
     "execution_count": 47,
     "metadata": {},
     "output_type": "execute_result"
    }
   ],
   "source": [
    "tuple(map(lambda x : str(x) ,l3))"
   ]
  },
  {
   "cell_type": "code",
   "execution_count": null,
   "id": "28b7d72d-d208-44cd-9109-edf6aaf2daa0",
   "metadata": {},
   "outputs": [],
   "source": [
    "Q4. Write a python program using reduce function to compute the product of a list containing numbers\n",
    "    from 1 to 25."
   ]
  },
  {
   "cell_type": "code",
   "execution_count": 50,
   "id": "b59ffd01-d060-4915-a6d8-8bc2ea65bd78",
   "metadata": {},
   "outputs": [],
   "source": [
    "l4 = []"
   ]
  },
  {
   "cell_type": "code",
   "execution_count": 51,
   "id": "16bbffef-e813-4d33-9a0d-be72eb4d38bf",
   "metadata": {},
   "outputs": [],
   "source": [
    "for i in range(1,26):\n",
    "    l4.append(i)"
   ]
  },
  {
   "cell_type": "code",
   "execution_count": 52,
   "id": "f4d5263b-1ebf-401e-afb9-f6fbd0d6d88d",
   "metadata": {},
   "outputs": [
    {
     "data": {
      "text/plain": [
       "[1,\n",
       " 2,\n",
       " 3,\n",
       " 4,\n",
       " 5,\n",
       " 6,\n",
       " 7,\n",
       " 8,\n",
       " 9,\n",
       " 10,\n",
       " 11,\n",
       " 12,\n",
       " 13,\n",
       " 14,\n",
       " 15,\n",
       " 16,\n",
       " 17,\n",
       " 18,\n",
       " 19,\n",
       " 20,\n",
       " 21,\n",
       " 22,\n",
       " 23,\n",
       " 24,\n",
       " 25]"
      ]
     },
     "execution_count": 52,
     "metadata": {},
     "output_type": "execute_result"
    }
   ],
   "source": [
    "l4"
   ]
  },
  {
   "cell_type": "code",
   "execution_count": 53,
   "id": "ae8b653d-fd58-48bd-9a32-3b8d291b7c98",
   "metadata": {},
   "outputs": [],
   "source": [
    "from functools import reduce"
   ]
  },
  {
   "cell_type": "code",
   "execution_count": 55,
   "id": "ecef1413-b86a-4d7f-bc80-d28c5ad35a46",
   "metadata": {},
   "outputs": [
    {
     "data": {
      "text/plain": [
       "15511210043330985984000000"
      ]
     },
     "execution_count": 55,
     "metadata": {},
     "output_type": "execute_result"
    }
   ],
   "source": [
    "reduce(lambda x,y: x*y,l4)"
   ]
  },
  {
   "cell_type": "code",
   "execution_count": null,
   "id": "48c84c6d-8c02-4c8c-8255-7e3445e240f1",
   "metadata": {},
   "outputs": [],
   "source": [
    "Q5. Write a python program to filter the numbers in a given list that are divisible by 2 and 3 using the\n",
    "    filter function.\n",
    "    [2, 3, 6, 9, 27, 60, 90, 120, 55, 46]"
   ]
  },
  {
   "cell_type": "code",
   "execution_count": 56,
   "id": "a1baf44e-282b-4736-9929-fd4920e6f032",
   "metadata": {},
   "outputs": [],
   "source": [
    "l5 = [2, 3, 6, 9, 27, 60, 90, 120, 55, 46]"
   ]
  },
  {
   "cell_type": "code",
   "execution_count": 57,
   "id": "307cdc83-fd15-4d14-87f1-6e284171bcbf",
   "metadata": {},
   "outputs": [
    {
     "data": {
      "text/plain": [
       "[6, 60, 90, 120]"
      ]
     },
     "execution_count": 57,
     "metadata": {},
     "output_type": "execute_result"
    }
   ],
   "source": [
    "list(filter(lambda x: x %2==0 and x %3 == 0,l5))"
   ]
  },
  {
   "cell_type": "code",
   "execution_count": null,
   "id": "4f2ff0c1-564e-4034-b832-6ee59762bb58",
   "metadata": {},
   "outputs": [],
   "source": [
    "Q6. Write a python program to find palindromes in the given list of strings using lambda and filter\n",
    "    function.\n",
    "    ['python', 'php', 'aba', 'radar', 'level']"
   ]
  },
  {
   "cell_type": "code",
   "execution_count": 58,
   "id": "f2e55dc4-5c24-4d3d-9716-6b01f416ed04",
   "metadata": {},
   "outputs": [
    {
     "data": {
      "text/plain": [
       "['php', 'aba', 'radar', 'level']"
      ]
     },
     "execution_count": 58,
     "metadata": {},
     "output_type": "execute_result"
    }
   ],
   "source": [
    "l6 = ['python', 'php', 'aba', 'radar', 'level']\n",
    "list(filter(lambda x: (x == \"\".join(reversed(x))), l6)) "
   ]
  },
  {
   "cell_type": "code",
   "execution_count": null,
   "id": "ae8fae7c-0127-4229-aee6-0c132ad49ef2",
   "metadata": {},
   "outputs": [],
   "source": []
  }
 ],
 "metadata": {
  "kernelspec": {
   "display_name": "Python 3 (ipykernel)",
   "language": "python",
   "name": "python3"
  },
  "language_info": {
   "codemirror_mode": {
    "name": "ipython",
    "version": 3
   },
   "file_extension": ".py",
   "mimetype": "text/x-python",
   "name": "python",
   "nbconvert_exporter": "python",
   "pygments_lexer": "ipython3",
   "version": "3.10.8"
  }
 },
 "nbformat": 4,
 "nbformat_minor": 5
}
