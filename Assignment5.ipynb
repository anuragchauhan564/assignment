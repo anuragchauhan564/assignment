{
 "cells": [
  {
   "cell_type": "code",
   "execution_count": null,
   "id": "f3235278-ec37-4cc1-8113-e608fd22eb80",
   "metadata": {},
   "outputs": [],
   "source": [
    "Q1. Who developed Python Programming Language?"
   ]
  },
  {
   "cell_type": "code",
   "execution_count": null,
   "id": "61278cb4-4b98-4c13-8fc3-17c1db6c9e6f",
   "metadata": {},
   "outputs": [],
   "source": [
    "Ans :- Guido van Rossum developed Python Programming Language?"
   ]
  },
  {
   "cell_type": "code",
   "execution_count": null,
   "id": "cbe3ac51-ce3a-4797-9b18-d4c151ed6761",
   "metadata": {},
   "outputs": [],
   "source": [
    "Q2. Which type of Programming does Python support?"
   ]
  },
  {
   "cell_type": "code",
   "execution_count": null,
   "id": "9e0afa88-0e2c-42e0-bdeb-c2481ffb2c18",
   "metadata": {},
   "outputs": [],
   "source": [
    "Ans:-Python suppor object-oriented, structured, and functional programming."
   ]
  },
  {
   "cell_type": "code",
   "execution_count": null,
   "id": "66df4666-a15e-4a5f-83f1-b75e8cc7bdb5",
   "metadata": {},
   "outputs": [],
   "source": [
    "Q3. Is Python case sensitive when dealing with identifiers?"
   ]
  },
  {
   "cell_type": "code",
   "execution_count": null,
   "id": "f0a1cc9a-b079-48d0-86e2-af848e91730f",
   "metadata": {},
   "outputs": [],
   "source": [
    "Ans:-Yes,Python case sensitive when dealing with identifiers.\n",
    "     Ex-- num ans Num they are two different identifiers in Python programming."
   ]
  },
  {
   "cell_type": "code",
   "execution_count": null,
   "id": "b70e1259-dc1b-4050-a36b-a0936ff1d8d3",
   "metadata": {},
   "outputs": [],
   "source": [
    "Q4. What is the correct extension of the Python Language?"
   ]
  },
  {
   "cell_type": "code",
   "execution_count": null,
   "id": "2aeda5c4-8b06-41e6-a91a-bbb058f6a40c",
   "metadata": {},
   "outputs": [],
   "source": [
    "Ans:- .py is the correct extension of the Python Language"
   ]
  },
  {
   "cell_type": "code",
   "execution_count": null,
   "id": "1fd6a7bb-f560-41af-90a1-7ca66acffda1",
   "metadata": {},
   "outputs": [],
   "source": [
    "Q5. Is Python code compiled or interpreted?"
   ]
  },
  {
   "cell_type": "code",
   "execution_count": null,
   "id": "727316c0-3276-44ae-98e2-4ea099f46983",
   "metadata": {},
   "outputs": [],
   "source": [
    "Ans :-Python code is interpreted."
   ]
  },
  {
   "cell_type": "code",
   "execution_count": null,
   "id": "cbf0da9e-f18d-4fe8-88c0-3e4dad297228",
   "metadata": {},
   "outputs": [],
   "source": [
    "Q6. Name a few blocks of code used to define in Python Language"
   ]
  },
  {
   "cell_type": "code",
   "execution_count": null,
   "id": "0105a7d8-008b-4de8-bb9b-8b061fe68b77",
   "metadata": {},
   "outputs": [],
   "source": [
    "Ans :-A module, a function body and a class definition are blocks of code \n",
    "      used to define in Python programming Language"
   ]
  },
  {
   "cell_type": "code",
   "execution_count": null,
   "id": "0b70c8f3-0f98-4bda-9a70-03fce08dcf83",
   "metadata": {},
   "outputs": [],
   "source": [
    "Q7. State a character used to give single-line comments in Pythom?"
   ]
  },
  {
   "cell_type": "code",
   "execution_count": null,
   "id": "99e4664f-a486-4a94-8cc8-33c2a8b49d84",
   "metadata": {},
   "outputs": [],
   "source": [
    "Ans :- \"#\" character used to single line coment in python."
   ]
  },
  {
   "cell_type": "code",
   "execution_count": null,
   "id": "ddb3f3cc-65fb-4673-a712-cd546ea3a00e",
   "metadata": {},
   "outputs": [],
   "source": [
    "Q8.Mention function which can help us to find the version of python that we are \n",
    "   currently working on?"
   ]
  },
  {
   "cell_type": "code",
   "execution_count": null,
   "id": "2e15756e-9d14-47dc-a6a3-10482afeb814",
   "metadata": {},
   "outputs": [],
   "source": [
    "Ans :-Using sys.version method\n",
    "      Using python_version() function\n",
    "      Using Python -V command"
   ]
  },
  {
   "cell_type": "code",
   "execution_count": null,
   "id": "8cf3c8f0-73a0-4c61-bbc3-3ea6b0cc64c5",
   "metadata": {},
   "outputs": [],
   "source": [
    "Q9.Python support the creation of anonymous function at runtime \n",
    "   using a construct called ______________"
   ]
  },
  {
   "cell_type": "code",
   "execution_count": null,
   "id": "e4a41461-270f-4462-98bf-c2320a50b576",
   "metadata": {},
   "outputs": [],
   "source": [
    "Ans:- lambda "
   ]
  },
  {
   "cell_type": "code",
   "execution_count": null,
   "id": "12ed05ab-1d2b-4244-965f-7811d4b9bcde",
   "metadata": {},
   "outputs": [],
   "source": [
    "Q10. What does pip stand for python?"
   ]
  },
  {
   "cell_type": "code",
   "execution_count": null,
   "id": "ba8901f2-b559-4f84-a6f2-8a7c87519226",
   "metadata": {},
   "outputs": [],
   "source": [
    "Ans:-pip stand for \"Preferred Installer Program\" in python"
   ]
  },
  {
   "cell_type": "code",
   "execution_count": null,
   "id": "476f478e-4977-4cb4-a109-f383d962bc40",
   "metadata": {},
   "outputs": [],
   "source": [
    "Q11.Mention a few built-in function in python?"
   ]
  },
  {
   "cell_type": "code",
   "execution_count": null,
   "id": "c992e9a4-9570-40c9-b564-3b4487c70a21",
   "metadata": {},
   "outputs": [],
   "source": [
    "Ans:- Some built-in function in python are \n",
    "      print()\n",
    "      sum()\n",
    "        range()\n",
    "        max()\n",
    "        str()\n",
    "        int()\n",
    "        input()"
   ]
  },
  {
   "cell_type": "code",
   "execution_count": null,
   "id": "32624bed-32d0-47d9-adf7-4ba0cdf45167",
   "metadata": {},
   "outputs": [],
   "source": [
    "Q12. What is the maximum possible length of an identifier in python?"
   ]
  },
  {
   "cell_type": "code",
   "execution_count": null,
   "id": "0abd09ec-8a7e-4f10-8c18-8c353ae42bb3",
   "metadata": {},
   "outputs": [],
   "source": [
    "Ans:- 79 characters"
   ]
  },
  {
   "cell_type": "code",
   "execution_count": null,
   "id": "96e0debb-4239-4f1e-ad30-bbf725b665ab",
   "metadata": {},
   "outputs": [],
   "source": [
    "Q13.What are benefits of using python?"
   ]
  },
  {
   "cell_type": "code",
   "execution_count": null,
   "id": "eb1bbecb-2b7d-4355-930b-3d5279727554",
   "metadata": {},
   "outputs": [],
   "source": [
    "Ans:-1. Large developer community\n",
    "     2. Extensive libraries\n",
    "     3. Write less, do more \n",
    "    4. Portability\n",
    "    5. Wide range of use cases"
   ]
  },
  {
   "cell_type": "code",
   "execution_count": null,
   "id": "933f028a-9757-4e7a-a3d0-f1a57a8f87b5",
   "metadata": {},
   "outputs": [],
   "source": [
    "Q14. How is memory managed in python?"
   ]
  },
  {
   "cell_type": "code",
   "execution_count": null,
   "id": "ccd1ad62-8660-4d0e-8f81-7ef1a9fec096",
   "metadata": {},
   "outputs": [],
   "source": [
    "Ans:-Memory management in Python involves a private heap\n",
    "     containing all Python objects and data structures."
   ]
  },
  {
   "cell_type": "code",
   "execution_count": null,
   "id": "8dacbfc8-7375-4fab-8e87-214e6a66831a",
   "metadata": {},
   "outputs": [],
   "source": [
    "Q15.How to install python on Windows and set path variables?"
   ]
  },
  {
   "cell_type": "code",
   "execution_count": null,
   "id": "4876eea3-b5fa-4d39-a613-38b60c0ec241",
   "metadata": {},
   "outputs": [],
   "source": [
    "Ans:-1. We can easily add Python to Windows path by downloading a recent version of Python,\n",
    "     2.The first step is to locate the directory in which your target Python executable lives. \n",
    "       The path to the directory is what you’ll be adding to the PATH environment variable\n",
    "    3.Clicking on the Environment Variables button on the bottom right.\n",
    "    4.In the System variables section, selecting the Path variable and clicking on Edit. The next screen will show all the directories that are currently a part of the PATH variable.\n",
    "    5.Clicking on New and entering Python’s install directory.\n",
    "     "
   ]
  },
  {
   "cell_type": "code",
   "execution_count": null,
   "id": "eac358ac-1adb-4719-b099-6121164478a4",
   "metadata": {},
   "outputs": [],
   "source": [
    "Q16. Is indentation required  in python?"
   ]
  },
  {
   "cell_type": "code",
   "execution_count": null,
   "id": "d181ad5e-866d-4f55-b457-2fcfaed911b5",
   "metadata": {},
   "outputs": [],
   "source": [
    "Ans :- Yes, indentation required in python."
   ]
  }
 ],
 "metadata": {
  "kernelspec": {
   "display_name": "Python 3 (ipykernel)",
   "language": "python",
   "name": "python3"
  },
  "language_info": {
   "codemirror_mode": {
    "name": "ipython",
    "version": 3
   },
   "file_extension": ".py",
   "mimetype": "text/x-python",
   "name": "python",
   "nbconvert_exporter": "python",
   "pygments_lexer": "ipython3",
   "version": "3.10.8"
  }
 },
 "nbformat": 4,
 "nbformat_minor": 5
}
