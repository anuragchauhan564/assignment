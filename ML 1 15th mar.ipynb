{
 "cells": [
  {
   "cell_type": "code",
   "execution_count": null,
   "id": "b7ff4bde-f31c-457b-92d1-756f46994c55",
   "metadata": {},
   "outputs": [],
   "source": [
    "QD- Explain thK following with an Kxample\n",
    "a) Artificial intelligence\n",
    "b) Machine Learning \n",
    "c) Deep Learning"
   ]
  },
  {
   "cell_type": "code",
   "execution_count": null,
   "id": "94275e04-0ce1-4c20-baeb-5d4243591834",
   "metadata": {},
   "outputs": [],
   "source": [
    "Ans : a)  Artificial intelligence:  \n",
    "                \n",
    "             Artificial intelligence is the simulation of human intelligence processes by machines, especially computer systems.\n",
    "            It is a smart application that can perform its own task without any human intervention.\n",
    "    \n",
    "    b) Machine Learning : \n",
    "             Machine Learning is a branch of artificial intelligence that develops algorithms by learning the hidden patterns of\n",
    "             the datasets used it to make predictions on new similar type data, without being explicitly programmed for each task.\n",
    "            It provide statstool to analyze, visualize, predictive models.\n",
    "                \n",
    "    c) Deep Learning  :\n",
    "          Deep learning is a branch of machine learning which is based on artificial neural networks. It is capable of learning \n",
    "            complex patterns and relationships within data.Deep Learning is a subfield of Machine Learning that involves the use\n",
    "            of neural networks to model and solve complex problems. Neural networks are modeled after the structure and function\n",
    "            of the human brain and consist of layers of interconnected nodes that process and transform data.\n",
    "    "
   ]
  },
  {
   "cell_type": "code",
   "execution_count": null,
   "id": "f3b25073-a9ec-4db2-9bbb-04aec3422430",
   "metadata": {},
   "outputs": [],
   "source": [
    "Q2- What is supervised learning? List some Examples of supervised learning."
   ]
  },
  {
   "cell_type": "code",
   "execution_count": null,
   "id": "bea9a400-5bb7-408f-a855-5ae9116d642a",
   "metadata": {},
   "outputs": [],
   "source": [
    "Ans: Supervised learning :\n",
    "    \n",
    "     Supervised learning, as the name indicates, has the presence of a supervisor as a teacher.\n",
    "     Basically supervised learning is when we teach or train the machine using data that is well-labelled. \n",
    "     Which means some data is already tagged with the correct answer. After that, the machine is provided with a new set\n",
    "     of examples(data) so that the supervised learning algorithm analyses the training data(set of training examples) and produces\n",
    "     a correct outcome from labeled data.\n",
    "        \n",
    "        \n",
    "        examples : Email Filtering, Credit Scoring, Voice Recognition"
   ]
  },
  {
   "cell_type": "code",
   "execution_count": null,
   "id": "5499e4a1-bd43-4f38-837a-d8df482e4550",
   "metadata": {},
   "outputs": [],
   "source": [
    "Q3- GWhat is unsupervised learning? List somK examples of unsupervised learning."
   ]
  },
  {
   "cell_type": "code",
   "execution_count": null,
   "id": "9ea4a247-d11e-4689-a66b-4b0b5270554d",
   "metadata": {},
   "outputs": [],
   "source": [
    "Ans : Unsupervised Learning : \n",
    "      Unsupervised learning is the training of a machine using information that is neither classified nor labeled and allowing the\n",
    "      algorithm to act on that information without guidance. Here the task of the machine is to group unsorted information according \n",
    "      to similarities, patterns, and differences without any prior training of data.\n",
    "       Unsupervised learning is when it can provide a set of unlabelled data, which it is required to analyze and find patterns inside.\n",
    "       The examples are dimension reduction and clustering.\n",
    "    \n",
    "    Examples : Organize computing clusters, Social network analysis, Market segmentation\n",
    "    "
   ]
  },
  {
   "cell_type": "code",
   "execution_count": null,
   "id": "3853a223-620d-4299-8c9c-e4d6b223f924",
   "metadata": {},
   "outputs": [],
   "source": [
    "Q4- What is the difference between AI, ML, DL, and DS?"
   ]
  },
  {
   "cell_type": "code",
   "execution_count": null,
   "id": "f1f62376-b214-4939-962a-d62c0dbdf232",
   "metadata": {},
   "outputs": [],
   "source": [
    "Ans :- Artificial Intelligence (AI) enables machines to think by understanding, learning from the data,\n",
    "        and taking decisions based on patterns hidden in the data or make inferences that would otherwise\n",
    "        be very difficult for humans to make manually. The end goal of using ML or DL is to create an AI application \n",
    "        or machine as smart as humans.\n",
    "\n",
    "- Machine Learning (ML) is a subset of AI, it provides us statistical tools/techniques like Supervised, Unsupervised, \n",
    "        and Reinforcement learning to explore and analyze the data.\n",
    "\n",
    "- Deep Learning (DL) is further a subset of ML, and the main idea behind it is to make machines learn by mimicking \n",
    "        the human brain. Here, we create a multi neural network architecture with the help of different techniques like ANN, CNN, and RNN.\n",
    "\n",
    "- Data Science (DS) is basically drawing insights from structured and unstructured data either by using ML or DL or without these techniques.\n",
    "      We can even use different visualization tools, statistics, and probability to gain these insights."
   ]
  },
  {
   "cell_type": "code",
   "execution_count": null,
   "id": "a020cdcc-8d3c-4b5b-8c8b-186577e70d8c",
   "metadata": {},
   "outputs": [],
   "source": [
    "Q5- What are the main differences between supervised, unsupervised, and semi-supervised learning?"
   ]
  },
  {
   "cell_type": "code",
   "execution_count": null,
   "id": "46c0672a-5dc5-4977-bc28-503c6e3cce31",
   "metadata": {},
   "outputs": [],
   "source": [
    "Ans : The main difference between these types is the level of availability of ground truth data, which is prior knowledge\n",
    "      of what the output of the model should be for a given input.\n",
    "    \n",
    "    Supervised learning aims to learn a function that, given a sample of data and desired outputs, approximates a function\n",
    "    that maps inputs to outputs.\n",
    "    \n",
    "    Semi-supervised learning aims to label unlabeled data points using knowledge learned from a small number of labeled data points.\n",
    "    \n",
    "    Unsupervised learning does not have (or need) any labeled outputs, so its goal is to infer the natural structure present within \n",
    "    a set of data points."
   ]
  },
  {
   "cell_type": "code",
   "execution_count": null,
   "id": "010288bf-69d5-448c-b89a-e56d1cb53ff7",
   "metadata": {},
   "outputs": [],
   "source": [
    "Q6- What is train, test and validation split? Explain the importance of Each term."
   ]
  },
  {
   "cell_type": "code",
   "execution_count": null,
   "id": "d0fa53dc-ed10-4f07-9373-a28597938d52",
   "metadata": {},
   "outputs": [],
   "source": [
    "Ans: Training set : It is the set of data that is used to train and make the model learn the hidden features/patterns in the data.\n",
    "                    The training set should have a diversified set of inputs so that the model is trained in all scenarios and can\n",
    "                    predict any unseen data sample that may appear in the future.\n",
    "        \n",
    "    The Validation Set : The validation set is a set of data, separate from the training set, that is used to validate our model \n",
    "                         performance during training.\n",
    "                        The model is trained on the training set, and, simultaneously, the model evaluation is performed on the validation\n",
    "                        set after every epoch.\n",
    "                \n",
    "    The Test Set : The test set is a separate set of data used to test the model after completing the training.\n",
    "                   It provides an unbiased final model performance metric in terms of accuracy, precision."
   ]
  },
  {
   "cell_type": "code",
   "execution_count": null,
   "id": "c416bf7c-1719-464e-8a07-4b77dd5cc626",
   "metadata": {},
   "outputs": [],
   "source": [
    "Q7- How can unsupervised learning be used in anomaly detection?"
   ]
  },
  {
   "cell_type": "code",
   "execution_count": null,
   "id": "bb33a068-8cf0-4923-b51a-38432e6e2221",
   "metadata": {},
   "outputs": [],
   "source": [
    "Ans : Unsupervised Anomaly Detection: This method does require any training data and instead assumes two things about\n",
    "                                      the data ie Only a small percentage of data is anomalous and Any anomaly is statistically \n",
    "                                      different from the normal samples. Based on the above assumptions, the data is then clustered\n",
    "                                      using a similarity measure and the data points which are far off from the cluster are considered \n",
    "                                      to be anomalies."
   ]
  },
  {
   "cell_type": "code",
   "execution_count": null,
   "id": "72fbf3af-b3e4-4ef5-b011-f888e1a47864",
   "metadata": {},
   "outputs": [],
   "source": [
    "Q8- List down some commonly used supervised learning algorithms and unsupervised learning\n",
    "     algorithms."
   ]
  },
  {
   "cell_type": "code",
   "execution_count": null,
   "id": "936cda84-4552-41fa-b2e4-4e059e9dbf59",
   "metadata": {},
   "outputs": [],
   "source": [
    "Ans :  supervised machine learning algorithms are:\n",
    "\n",
    "       1.Linear regression for regression problems.\n",
    "       2.Random forest for classification and regression problems.\n",
    "      3.Support vector machines for classification problems\n",
    "        \n",
    "        unsupervised learning algorithms are:\n",
    "\n",
    "            1.k-means for clustering problems.\n",
    "            2.Apriori algorithm for association rule learning problems."
   ]
  }
 ],
 "metadata": {
  "kernelspec": {
   "display_name": "Python 3 (ipykernel)",
   "language": "python",
   "name": "python3"
  },
  "language_info": {
   "codemirror_mode": {
    "name": "ipython",
    "version": 3
   },
   "file_extension": ".py",
   "mimetype": "text/x-python",
   "name": "python",
   "nbconvert_exporter": "python",
   "pygments_lexer": "ipython3",
   "version": "3.10.8"
  }
 },
 "nbformat": 4,
 "nbformat_minor": 5
}
