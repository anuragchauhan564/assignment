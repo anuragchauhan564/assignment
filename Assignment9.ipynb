{
 "cells": [
  {
   "cell_type": "code",
   "execution_count": null,
   "id": "ad0e5b1f-908d-486a-b78d-77c4d5ab227b",
   "metadata": {},
   "outputs": [],
   "source": [
    "Q1. What is Abstraction in OOps? Explain with an example."
   ]
  },
  {
   "cell_type": "code",
   "execution_count": null,
   "id": "ffa251e6-c691-456b-aad6-9199c07a3a78",
   "metadata": {},
   "outputs": [],
   "source": [
    "Ans-  Abstraction is the process of hiding the internal details\n",
    "      of an application from the outer world. Abstraction is used to describe \n",
    "      things in simple terms. It’s used to create a boundary between the application and the client programs\n",
    "        \n",
    "        Abstraction can be achieved by using abstract classes and interfaces."
   ]
  },
  {
   "cell_type": "code",
   "execution_count": 1,
   "id": "d2eff9fb-5031-4089-984f-8e8caac6d9e6",
   "metadata": {},
   "outputs": [],
   "source": [
    "# ex \n",
    "import abc\n",
    "\n",
    "class calculation:\n",
    "    \n",
    "    @abc.abstractmethod\n",
    "    def surface_area(self):\n",
    "        pass\n",
    "    \n",
    "    @abc.abstractmethod\n",
    "    def volume(self):\n",
    "        pass\n",
    "    \n",
    "    "
   ]
  },
  {
   "cell_type": "code",
   "execution_count": 10,
   "id": "37d5783e-d3be-4592-a56a-f5c7ea95b282",
   "metadata": {},
   "outputs": [],
   "source": [
    "class cube(calculation):\n",
    "    \n",
    "    def surface_area(self, l):\n",
    "        return 6 * l**2\n",
    "\n",
    "    def volume(self, l):\n",
    "        return l**3\n",
    "    \n",
    "    "
   ]
  },
  {
   "cell_type": "code",
   "execution_count": 11,
   "id": "0118b27b-0f3a-4fcb-a7c6-e4aa6b9f978c",
   "metadata": {},
   "outputs": [],
   "source": [
    "obj1 = cube()"
   ]
  },
  {
   "cell_type": "code",
   "execution_count": 12,
   "id": "3951d21e-f05f-410a-a8df-549cb4a05527",
   "metadata": {},
   "outputs": [
    {
     "data": {
      "text/plain": [
       "54"
      ]
     },
     "execution_count": 12,
     "metadata": {},
     "output_type": "execute_result"
    }
   ],
   "source": [
    "obj1.surface_area(3)"
   ]
  },
  {
   "cell_type": "code",
   "execution_count": 13,
   "id": "99ef4991-27e0-42e6-8b03-3c070c741c6b",
   "metadata": {},
   "outputs": [
    {
     "data": {
      "text/plain": [
       "27"
      ]
     },
     "execution_count": 13,
     "metadata": {},
     "output_type": "execute_result"
    }
   ],
   "source": [
    "obj1.volume(3)"
   ]
  },
  {
   "cell_type": "code",
   "execution_count": null,
   "id": "7e5c6124-08c5-45b1-911d-18a98abe75cd",
   "metadata": {},
   "outputs": [],
   "source": [
    "In the abive example  Abstraction hase been achieved by using abstract classes and interfaces.\n"
   ]
  },
  {
   "cell_type": "code",
   "execution_count": null,
   "id": "eacf0ffa-0081-4684-adf6-a3a27a88edc7",
   "metadata": {},
   "outputs": [],
   "source": [
    "Q2. Differentiate between Abstraction and Encapsulation. Explain with an example."
   ]
  },
  {
   "cell_type": "code",
   "execution_count": null,
   "id": "0e91eec3-9df2-49b0-a8f0-a3dd99375d63",
   "metadata": {},
   "outputs": [],
   "source": [
    "Ans -:  Abstraction is hiding the details and implementation of the code.\n",
    "        Encapsulation is hiding the data and controlling the visibility of the code.\n",
    "\n",
    "        Abstraction is a design level process.\n",
    "        Encapsulation is an implementation level process.\n",
    "\n",
    "        Abstraction is concerned about what a class instance can do, instead of the implementation of the class.\n",
    "        Encapsulation helps in data binding and control over maintaining the transparency of the data.\n",
    "        \n",
    "Example-: Abstraction is used in mobile phones’ GUI. When you click on the icons, abstraction allows them to\n",
    "          perform specific functions. \n",
    "          After the icon is clicked, the encapsulation works in the backend to guide the user on the next steps."
   ]
  },
  {
   "cell_type": "code",
   "execution_count": null,
   "id": "2b14209f-9ba9-4f45-ad57-35c561fdfdc4",
   "metadata": {},
   "outputs": [],
   "source": [
    "Q3. What is abc module in python? Why is it used?"
   ]
  },
  {
   "cell_type": "code",
   "execution_count": null,
   "id": "917ec96c-0563-4fc3-9734-7f55c1aa2bc6",
   "metadata": {},
   "outputs": [],
   "source": [
    "Ans -:  The 'abc' module in Python library provides the infrastructure for defining custom abstract base classes.\n",
    "        'abc' works by marking methods of the base class as abstract. This is done by @absttractmethod decorator"
   ]
  },
  {
   "cell_type": "code",
   "execution_count": null,
   "id": "807b393c-2e38-4a97-a471-611546b5e577",
   "metadata": {},
   "outputs": [],
   "source": [
    "Q4. How can we achieve data abstraction?"
   ]
  },
  {
   "cell_type": "code",
   "execution_count": null,
   "id": "b894945e-bd60-4afc-9797-9cae36e91a9b",
   "metadata": {},
   "outputs": [],
   "source": [
    "Ans-:Abstraction can be achieved by using abstract classes and methods in our programs."
   ]
  },
  {
   "cell_type": "code",
   "execution_count": null,
   "id": "728e0365-7f39-494d-af98-7e2a5b250db2",
   "metadata": {},
   "outputs": [],
   "source": [
    "Q5. Can we create an instance of an abstract class? Explain your answer."
   ]
  },
  {
   "cell_type": "code",
   "execution_count": null,
   "id": "ddcb65c4-a13c-430f-bb45-054072266815",
   "metadata": {},
   "outputs": [],
   "source": [
    "Ans-: Abstract classes are not complete, as they may have some methods that are not defined.\n",
    "      So we cannot create an instance or object of an abstract class in Python."
   ]
  }
 ],
 "metadata": {
  "kernelspec": {
   "display_name": "Python 3 (ipykernel)",
   "language": "python",
   "name": "python3"
  },
  "language_info": {
   "codemirror_mode": {
    "name": "ipython",
    "version": 3
   },
   "file_extension": ".py",
   "mimetype": "text/x-python",
   "name": "python",
   "nbconvert_exporter": "python",
   "pygments_lexer": "ipython3",
   "version": "3.10.8"
  }
 },
 "nbformat": 4,
 "nbformat_minor": 5
}
