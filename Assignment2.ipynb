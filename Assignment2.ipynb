{
 "cells": [
  {
   "cell_type": "code",
   "execution_count": null,
   "id": "0120feb9-73a6-4698-9be7-c640a8f94aab",
   "metadata": {},
   "outputs": [],
   "source": [
    "Q1. Which keyword is used to create a function? Create a function to return a list of odd numbers in the\n",
    "    range of 1 to 25."
   ]
  },
  {
   "cell_type": "code",
   "execution_count": null,
   "id": "137134cf-8e59-43d6-b192-0de4409a9eae",
   "metadata": {},
   "outputs": [],
   "source": [
    " Ans --: def keyword is used to create a function"
   ]
  },
  {
   "cell_type": "code",
   "execution_count": 3,
   "id": "1d49f142-74e9-4a73-8329-42813dbee411",
   "metadata": {},
   "outputs": [],
   "source": [
    "def odd_number(l):\n",
    "    l1 = []\n",
    "    for i in l:\n",
    "        if i % 2 == 1 :\n",
    "            l1.append(i)\n",
    "    return l1"
   ]
  },
  {
   "cell_type": "code",
   "execution_count": 4,
   "id": "c57500ee-8290-4a8a-a34f-5595aba6358f",
   "metadata": {},
   "outputs": [
    {
     "data": {
      "text/plain": [
       "[1, 3, 5, 7, 9, 11, 13, 15, 17, 19, 21, 23, 25]"
      ]
     },
     "execution_count": 4,
     "metadata": {},
     "output_type": "execute_result"
    }
   ],
   "source": [
    "l = []\n",
    "for i in range(1,26):\n",
    "    l.append(i)\n",
    "odd_number(l)"
   ]
  },
  {
   "cell_type": "code",
   "execution_count": null,
   "id": "6b80aaee-6064-411d-b363-1b38844f92e3",
   "metadata": {},
   "outputs": [],
   "source": [
    "Q2. Why *args and **kwargs is used in some functions? Create a function each for *args and **kwargs\n",
    "    to demonstrate their use."
   ]
  },
  {
   "cell_type": "code",
   "execution_count": null,
   "id": "96dfc7cd-00ef-4734-af07-aaf1300cadba",
   "metadata": {},
   "outputs": [],
   "source": [
    "Ans -- : We use *args and **kwargs as an argument when we are unsure about the number of arguments to pass in the functions.\n",
    "         and also **kwargs if use to get the output in the form of keys and values form"
   ]
  },
  {
   "cell_type": "code",
   "execution_count": 5,
   "id": "72910a76-b055-4ba9-9717-dc8063d8c4fe",
   "metadata": {},
   "outputs": [],
   "source": [
    "# function for *args"
   ]
  },
  {
   "cell_type": "code",
   "execution_count": 6,
   "id": "b52fe59e-b830-4ce1-a2a3-3ad2d6f193f0",
   "metadata": {},
   "outputs": [],
   "source": [
    "def add(*args):\n",
    "    sum = 0\n",
    "    for n in args:\n",
    "        sum = sum + n\n",
    "    return \"Sum is : \" ,sum"
   ]
  },
  {
   "cell_type": "code",
   "execution_count": 8,
   "id": "b8f2749c-2cc8-4abe-a63b-85848dd71b21",
   "metadata": {},
   "outputs": [
    {
     "data": {
      "text/plain": [
       "('Sum is : ', 17)"
      ]
     },
     "execution_count": 8,
     "metadata": {},
     "output_type": "execute_result"
    }
   ],
   "source": [
    "add(2,3,5,2,5)"
   ]
  },
  {
   "cell_type": "code",
   "execution_count": 9,
   "id": "4b7d6551-1637-445b-9ad4-a621817a50df",
   "metadata": {},
   "outputs": [],
   "source": [
    "# function for **kwargs"
   ]
  },
  {
   "cell_type": "code",
   "execution_count": 44,
   "id": "4b398f5a-60e8-4711-9679-34463d09352e",
   "metadata": {},
   "outputs": [],
   "source": [
    "def example(**kwargs):\n",
    "    for k,v in kwargs.items():\n",
    "        print(\"keys\",k ,\":\",v*2)"
   ]
  },
  {
   "cell_type": "code",
   "execution_count": 45,
   "id": "7eb58dff-c031-4a76-abaf-9013ca3f0f6f",
   "metadata": {},
   "outputs": [
    {
     "name": "stdout",
     "output_type": "stream",
     "text": [
      "keys a : 20\n",
      "keys b : 40\n",
      "keys c : 20\n",
      "keys d : 60\n"
     ]
    }
   ],
   "source": [
    "example(a=10,b=20,c=10,d=30)"
   ]
  },
  {
   "cell_type": "code",
   "execution_count": null,
   "id": "f2daef8a-16ec-4696-a7dc-0d7d32618867",
   "metadata": {},
   "outputs": [],
   "source": [
    "Q3. What is an iterator in python? Name the method used to initialise the iterator object and the method\n",
    "    used for iteration. Use these methods to print the first five elements of the given list [2, 4, 6, 8, 10, 12, 14,\n",
    "    16, 18, 20]."
   ]
  },
  {
   "cell_type": "code",
   "execution_count": null,
   "id": "dedd8eaa-b634-481f-93d4-bff618e6284f",
   "metadata": {},
   "outputs": [],
   "source": []
  },
  {
   "cell_type": "code",
   "execution_count": null,
   "id": "27515245-74a4-42ec-8046-7fbfaf1b5628",
   "metadata": {},
   "outputs": [],
   "source": [
    "Ans --: Iterator in Python is an Object that is used to iterate over iterable\n",
    "        Objects like lists,tuples, dicts,etc.The iterator object is initialized using the iter() method. \n",
    "        It uses the next() method for iteration."
   ]
  },
  {
   "cell_type": "code",
   "execution_count": 54,
   "id": "f4c1c4d1-65b4-4d28-9eee-d03eeb8f3bd4",
   "metadata": {},
   "outputs": [
    {
     "data": {
      "text/plain": [
       "2"
      ]
     },
     "execution_count": 54,
     "metadata": {},
     "output_type": "execute_result"
    }
   ],
   "source": [
    "l = [2, 4, 6, 8, 10, 12, 14,16, 18, 20]\n",
    "l1 = iter(l)\n",
    "next(l1)\n"
   ]
  },
  {
   "cell_type": "code",
   "execution_count": 55,
   "id": "36d74966-45e8-42df-8121-804013cba450",
   "metadata": {},
   "outputs": [
    {
     "data": {
      "text/plain": [
       "4"
      ]
     },
     "execution_count": 55,
     "metadata": {},
     "output_type": "execute_result"
    }
   ],
   "source": [
    "next(l1)"
   ]
  },
  {
   "cell_type": "code",
   "execution_count": 56,
   "id": "9d111d92-3686-4911-81b6-1a0f1ba3e9ad",
   "metadata": {},
   "outputs": [
    {
     "data": {
      "text/plain": [
       "6"
      ]
     },
     "execution_count": 56,
     "metadata": {},
     "output_type": "execute_result"
    }
   ],
   "source": [
    "next(l1)"
   ]
  },
  {
   "cell_type": "code",
   "execution_count": 57,
   "id": "1b876f26-8e0c-4695-8e1e-324f590a706e",
   "metadata": {},
   "outputs": [
    {
     "data": {
      "text/plain": [
       "8"
      ]
     },
     "execution_count": 57,
     "metadata": {},
     "output_type": "execute_result"
    }
   ],
   "source": [
    "next(l1)"
   ]
  },
  {
   "cell_type": "code",
   "execution_count": 58,
   "id": "8a84d9c6-81a5-4018-8e24-614aaeef7e7a",
   "metadata": {},
   "outputs": [
    {
     "data": {
      "text/plain": [
       "10"
      ]
     },
     "execution_count": 58,
     "metadata": {},
     "output_type": "execute_result"
    }
   ],
   "source": [
    "next(l1)"
   ]
  },
  {
   "cell_type": "code",
   "execution_count": null,
   "id": "f3024703-54e2-4570-a207-f11d53f46e02",
   "metadata": {},
   "outputs": [],
   "source": [
    "Q4. What is a generator function in python? Why yield keyword is used? Give an example of a generator\n",
    "    function."
   ]
  },
  {
   "cell_type": "code",
   "execution_count": null,
   "id": "d0d77777-3d66-44bd-991c-ebb04c235738",
   "metadata": {},
   "outputs": [],
   "source": [
    "Ans --: Generator functions are those functions that, instead of returning a single value, return an iterable generator object.\n",
    "        yield keyword is used to create a generator function."
   ]
  },
  {
   "cell_type": "code",
   "execution_count": 187,
   "id": "0e66ad46-f3a5-47b6-86ee-febab86aa8ac",
   "metadata": {},
   "outputs": [],
   "source": [
    "def generator_fun(n):\n",
    "    a=n\n",
    "    for i in range(1,11):\n",
    "        # a = n* i\n",
    "        yield  n*i\n",
    "        "
   ]
  },
  {
   "cell_type": "code",
   "execution_count": 188,
   "id": "ec00efb6-3ce9-4f07-b577-d7f0dff54f90",
   "metadata": {},
   "outputs": [
    {
     "data": {
      "text/plain": [
       "generator"
      ]
     },
     "execution_count": 188,
     "metadata": {},
     "output_type": "execute_result"
    }
   ],
   "source": [
    "y = generator_fun(10)\n",
    "type(y)"
   ]
  },
  {
   "cell_type": "code",
   "execution_count": 189,
   "id": "674ee864-df65-416a-8544-26d870a0dc1d",
   "metadata": {},
   "outputs": [
    {
     "name": "stdout",
     "output_type": "stream",
     "text": [
      "10\n",
      "20\n",
      "30\n",
      "40\n",
      "50\n",
      "60\n",
      "70\n",
      "80\n",
      "90\n",
      "100\n"
     ]
    }
   ],
   "source": [
    "for n in range(10):\n",
    "    print(next(y))"
   ]
  },
  {
   "cell_type": "code",
   "execution_count": null,
   "id": "3daf7605-20bf-4121-9d63-e1ed589e29ea",
   "metadata": {},
   "outputs": [],
   "source": [
    "Q5. Create a generator function for prime numbers less than 1000. Use the next() method to print the\n",
    "    first 20 prime numbers."
   ]
  },
  {
   "cell_type": "code",
   "execution_count": 14,
   "id": "dd31b0cf-6eff-49e6-ac55-df02c7b9cd97",
   "metadata": {},
   "outputs": [],
   "source": [
    "def prime():\n",
    "    for i in range(1,1001):\n",
    "        a = 2\n",
    "        count = 0\n",
    "        while a <= i/2:\n",
    "            if i % a ==0:\n",
    "                count = count + 1\n",
    "                break  \n",
    "            a = a +1\n",
    "        if count == 0:\n",
    "            yield i\n",
    "        "
   ]
  },
  {
   "cell_type": "code",
   "execution_count": 15,
   "id": "67346e41-009a-42a8-8ced-19ac98847fec",
   "metadata": {},
   "outputs": [],
   "source": [
    "y = prime()"
   ]
  },
  {
   "cell_type": "code",
   "execution_count": 16,
   "id": "a1d23fdd-d760-4b70-bd4d-a7f431f73b72",
   "metadata": {},
   "outputs": [
    {
     "name": "stdout",
     "output_type": "stream",
     "text": [
      "1\n",
      "2\n",
      "3\n",
      "5\n",
      "7\n",
      "11\n",
      "13\n",
      "17\n",
      "19\n",
      "23\n",
      "29\n",
      "31\n",
      "37\n",
      "41\n",
      "43\n",
      "47\n",
      "53\n",
      "59\n",
      "61\n",
      "67\n"
     ]
    }
   ],
   "source": [
    "for i in range(20):\n",
    "    print(next(y))"
   ]
  },
  {
   "cell_type": "code",
   "execution_count": null,
   "id": "bc41c3d2-d2cd-45b4-a5a5-2c9bef1ad58c",
   "metadata": {},
   "outputs": [],
   "source": [
    "Q6. Write a python program to print the first 10 Fibonacci numbers using a while loop."
   ]
  },
  {
   "cell_type": "code",
   "execution_count": 27,
   "id": "ff2715d9-392e-499f-83c5-4b0d3f7dab9d",
   "metadata": {},
   "outputs": [],
   "source": [
    "def fibonacci(n):\n",
    "    a ,b = 0,1\n",
    "    i = 0\n",
    "    ans = 0\n",
    "    while i<=n:\n",
    "        print(a)\n",
    "        ans = a + b\n",
    "        a = b\n",
    "        b = ans\n",
    "        i = i + 1\n",
    "       \n",
    "        "
   ]
  },
  {
   "cell_type": "code",
   "execution_count": 28,
   "id": "db262cfe-f11a-4f50-8ae8-ebbf96be13ee",
   "metadata": {},
   "outputs": [
    {
     "name": "stdout",
     "output_type": "stream",
     "text": [
      "0\n",
      "1\n",
      "1\n",
      "2\n",
      "3\n",
      "5\n",
      "8\n",
      "13\n",
      "21\n",
      "34\n",
      "55\n"
     ]
    }
   ],
   "source": [
    "fibonacci(10)"
   ]
  },
  {
   "cell_type": "code",
   "execution_count": null,
   "id": "e7f9377e-eaf1-493f-91ba-d952a167ffc5",
   "metadata": {},
   "outputs": [],
   "source": [
    "Q7. Write a List Comprehension to iterate through the given string: ‘pwskills’.\n",
    "    Expected output: ['p', 'w', 's', 'k', 'i', 'l', 'l', 's'] "
   ]
  },
  {
   "cell_type": "code",
   "execution_count": 31,
   "id": "b29b7bf6-88df-458a-bb4e-5892f502ecb0",
   "metadata": {},
   "outputs": [],
   "source": [
    "st = \"pwskills\"\n",
    "l = []\n",
    "for i in st:\n",
    "    l.append(i)"
   ]
  },
  {
   "cell_type": "code",
   "execution_count": 32,
   "id": "8dd06819-b6a8-4aba-94f2-c8c28d9f2698",
   "metadata": {},
   "outputs": [
    {
     "data": {
      "text/plain": [
       "['p', 'w', 's', 'k', 'i', 'l', 'l', 's']"
      ]
     },
     "execution_count": 32,
     "metadata": {},
     "output_type": "execute_result"
    }
   ],
   "source": [
    "l"
   ]
  },
  {
   "cell_type": "code",
   "execution_count": null,
   "id": "ef55d453-1fb9-4f88-8ea1-dd336266b21f",
   "metadata": {},
   "outputs": [],
   "source": [
    "Q8. Write a python program to check whether a given number is Palindrome or not using a while loop."
   ]
  },
  {
   "cell_type": "code",
   "execution_count": 52,
   "id": "10f5c6d4-ec0e-4dc5-97c7-76cb45ba33c5",
   "metadata": {},
   "outputs": [],
   "source": [
    "def palindrome(n):\n",
    "    temp = n\n",
    "    remd = 0\n",
    "    while temp >0:\n",
    "        remd = remd *10 + temp % 10\n",
    "        temp = temp//10\n",
    "    if remd == n:\n",
    "        print(\"Given Number is Palindrome.\")\n",
    "    else:\n",
    "        print(\"Given Number is not Palindrome.\")"
   ]
  },
  {
   "cell_type": "code",
   "execution_count": 53,
   "id": "e04ab36e-75b7-4bb1-b751-684e37bac425",
   "metadata": {},
   "outputs": [
    {
     "name": "stdout",
     "output_type": "stream",
     "text": [
      "Given Number is Palindrome.\n"
     ]
    }
   ],
   "source": [
    "palindrome(11311)"
   ]
  },
  {
   "cell_type": "code",
   "execution_count": 54,
   "id": "8f6eaf20-bf12-475c-b143-1e2ef49c5a8b",
   "metadata": {},
   "outputs": [
    {
     "name": "stdout",
     "output_type": "stream",
     "text": [
      "Given Number is not Palindrome.\n"
     ]
    }
   ],
   "source": [
    "palindrome(22332)"
   ]
  },
  {
   "cell_type": "code",
   "execution_count": null,
   "id": "33732395-08fd-4d52-9671-b9e939d8fb9b",
   "metadata": {},
   "outputs": [],
   "source": [
    "Q9.Write a code to print odd numbers from 1 to 100 using list comprehension."
   ]
  },
  {
   "cell_type": "code",
   "execution_count": 55,
   "id": "aed910d2-46b5-4f75-aa71-785a2dd3477c",
   "metadata": {},
   "outputs": [],
   "source": [
    "l2 = []\n",
    "for i in range(1,101):\n",
    "    if i % 2 !=0:\n",
    "        l2.append(i)"
   ]
  },
  {
   "cell_type": "code",
   "execution_count": 56,
   "id": "9d75254d-900e-40c4-bb7e-26857bb4501e",
   "metadata": {},
   "outputs": [
    {
     "data": {
      "text/plain": [
       "[1,\n",
       " 3,\n",
       " 5,\n",
       " 7,\n",
       " 9,\n",
       " 11,\n",
       " 13,\n",
       " 15,\n",
       " 17,\n",
       " 19,\n",
       " 21,\n",
       " 23,\n",
       " 25,\n",
       " 27,\n",
       " 29,\n",
       " 31,\n",
       " 33,\n",
       " 35,\n",
       " 37,\n",
       " 39,\n",
       " 41,\n",
       " 43,\n",
       " 45,\n",
       " 47,\n",
       " 49,\n",
       " 51,\n",
       " 53,\n",
       " 55,\n",
       " 57,\n",
       " 59,\n",
       " 61,\n",
       " 63,\n",
       " 65,\n",
       " 67,\n",
       " 69,\n",
       " 71,\n",
       " 73,\n",
       " 75,\n",
       " 77,\n",
       " 79,\n",
       " 81,\n",
       " 83,\n",
       " 85,\n",
       " 87,\n",
       " 89,\n",
       " 91,\n",
       " 93,\n",
       " 95,\n",
       " 97,\n",
       " 99]"
      ]
     },
     "execution_count": 56,
     "metadata": {},
     "output_type": "execute_result"
    }
   ],
   "source": [
    "l2"
   ]
  },
  {
   "cell_type": "code",
   "execution_count": null,
   "id": "3a7274e2-dd12-4ee5-852e-5a38926ffa8c",
   "metadata": {},
   "outputs": [],
   "source": []
  }
 ],
 "metadata": {
  "kernelspec": {
   "display_name": "Python 3 (ipykernel)",
   "language": "python",
   "name": "python3"
  },
  "language_info": {
   "codemirror_mode": {
    "name": "ipython",
    "version": 3
   },
   "file_extension": ".py",
   "mimetype": "text/x-python",
   "name": "python",
   "nbconvert_exporter": "python",
   "pygments_lexer": "ipython3",
   "version": "3.10.8"
  }
 },
 "nbformat": 4,
 "nbformat_minor": 5
}
