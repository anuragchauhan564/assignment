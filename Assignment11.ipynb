{
 "cells": [
  {
   "cell_type": "code",
   "execution_count": null,
   "id": "0a7b3a97-da42-46f8-b3d3-2cd985853c6b",
   "metadata": {},
   "outputs": [],
   "source": [
    "Q1. Which function is used to open a file? What are the different modes of opening a file? \n",
    "    Explain each mode of file opening."
   ]
  },
  {
   "cell_type": "code",
   "execution_count": null,
   "id": "5158d07e-ffbd-42dd-8b24-06b5c61d4430",
   "metadata": {},
   "outputs": [],
   "source": [
    "Ans -:  open() function is used to open a file.\n",
    "       The open() function takes two parameters; filename, and mode.\n",
    "     \n",
    "        Defferent moods of the opening a file are -\n",
    "        \n",
    "      \"r\" - Read - Opens a file for reading, error if the file does not exist\n",
    "      \"a\" - Append - Opens a file for appending, creates the file if it does not exist\n",
    "      \"w\" - Write - Opens a file for writing, creates the file if it does not exist\n",
    "      \"x\" - Create - Creates the specified file, returns an error if the file exists\n",
    "      \"t\" - Text - Default value. Text mode\n",
    "      \"b\" - Binary - Binary mode (e.g. images)\n",
    "        "
   ]
  },
  {
   "cell_type": "code",
   "execution_count": null,
   "id": "6e778311-52f1-4073-bcd4-e7d8acefb902",
   "metadata": {},
   "outputs": [],
   "source": [
    "Q2. Why close() function is used? Why is it important to close a file?"
   ]
  },
  {
   "cell_type": "code",
   "execution_count": null,
   "id": "fbe1f4c0-1535-4ad8-859c-a93e4b522b1a",
   "metadata": {},
   "outputs": [],
   "source": [
    "Ans-: The close() method closes an open file \n",
    "        It is important to close file  Because files are limited resources managed by the operating system, \n",
    "        making sure files are closed after use will protect against hard-to-debug issues like running out of\n",
    "        file handles or experiencing corrupted data. The best defense is always to open files with a context\n",
    "        manager"
   ]
  },
  {
   "cell_type": "code",
   "execution_count": null,
   "id": "3b566479-88ae-40c5-ab51-8376561840ee",
   "metadata": {},
   "outputs": [],
   "source": [
    "Q3. Write a python program to create a text file. Write ‘I want to become a Data Scientist’ in that file. Then\n",
    "    close the file. Open this file and read the content of the file."
   ]
  },
  {
   "cell_type": "code",
   "execution_count": 1,
   "id": "af91ee30-7a5f-4382-837c-d312bed585b5",
   "metadata": {},
   "outputs": [
    {
     "data": {
      "text/plain": [
       "33"
      ]
     },
     "execution_count": 1,
     "metadata": {},
     "output_type": "execute_result"
    }
   ],
   "source": [
    "f = open(\"text.txt\",'w')\n",
    "f.write(\"I want to becom a Data Scientist.\")"
   ]
  },
  {
   "cell_type": "code",
   "execution_count": 2,
   "id": "dc30c7a3-b588-482f-ac8a-ab8ec4b27bd4",
   "metadata": {},
   "outputs": [],
   "source": [
    "f.close()"
   ]
  },
  {
   "cell_type": "code",
   "execution_count": 6,
   "id": "7c5874df-4832-4a62-a4f3-1234727284b8",
   "metadata": {},
   "outputs": [
    {
     "data": {
      "text/plain": [
       "'I want to becom a Data Scientist.'"
      ]
     },
     "execution_count": 6,
     "metadata": {},
     "output_type": "execute_result"
    }
   ],
   "source": [
    "f= open(\"text.txt\",'r') \n",
    "f.read()"
   ]
  },
  {
   "cell_type": "code",
   "execution_count": null,
   "id": "32cf1f4a-db4e-4785-8591-e448e86f2514",
   "metadata": {},
   "outputs": [],
   "source": [
    "Q4. Explain the following with python code: read(), readline() and readlines()."
   ]
  },
  {
   "cell_type": "code",
   "execution_count": null,
   "id": "b2178f36-d1b3-41dc-9ee6-4ac1d77def3e",
   "metadata": {},
   "outputs": [],
   "source": [
    "Ans- : read() -: Returns the read bytes in the form of a string. \n",
    "                 Reads n bytes; if n is not specified, then reads the entire file.\n",
    "    \n",
    "      readline() -: Reads a line of the file and returns in the form of a string. For specified n, \n",
    "                    reads at most n bytes. readline() function does not read more than one line at a time;\n",
    "                    even if n exceeds, it reads only one line. readline() function reads a line of the file \n",
    "                    and returns it in the string.\n",
    "                    It takes an integer value n as a parameter to read the number of characters read at a time.\n",
    "        \n",
    "    readlines() -: Reads all the lines and returns them as a string element in a list. \n",
    "                   readlines() is used to read all the lines at a single go and then return them as a string element\n",
    "                   in a list. This function can be used for small files, as it reads the whole file content to the \n",
    "                   memory, then splits it into separate lines."
   ]
  },
  {
   "cell_type": "code",
   "execution_count": 7,
   "id": "58ef8b6a-e3fd-4460-bcc8-6ad042ad3567",
   "metadata": {},
   "outputs": [],
   "source": [
    "f = open(\"text1.txt\", 'w')"
   ]
  },
  {
   "cell_type": "code",
   "execution_count": 8,
   "id": "e484ad2b-afb5-4dba-b2a2-553f1c5f75fc",
   "metadata": {},
   "outputs": [
    {
     "data": {
      "text/plain": [
       "276"
      ]
     },
     "execution_count": 8,
     "metadata": {},
     "output_type": "execute_result"
    }
   ],
   "source": [
    "f.write(\"Python offers some excellent ways of using files. In python, there are multiple functions to read data from a file and write data to a file. These functions allow us to work with files efficiently. In this article, we will learn about all those functions and how to use them. \")"
   ]
  },
  {
   "cell_type": "code",
   "execution_count": 11,
   "id": "f4f46e21-77b8-4536-bfa6-4089260d725e",
   "metadata": {},
   "outputs": [],
   "source": [
    "f = open(\"text1.txt\",'r')"
   ]
  },
  {
   "cell_type": "code",
   "execution_count": 12,
   "id": "3b96093a-c22b-4bc1-b324-a704bfe731fd",
   "metadata": {},
   "outputs": [
    {
     "data": {
      "text/plain": [
       "'Python offers some excellent ways of using files. In python, there are multiple functions to read data from a file and write data to a file. These functions allow us to work with files efficiently. In this article, we will learn about all those functions and how to use them. '"
      ]
     },
     "execution_count": 12,
     "metadata": {},
     "output_type": "execute_result"
    }
   ],
   "source": [
    "f.read()"
   ]
  },
  {
   "cell_type": "code",
   "execution_count": 14,
   "id": "ce44cbc5-07f7-478c-bd65-1e95b2082eee",
   "metadata": {},
   "outputs": [
    {
     "data": {
      "text/plain": [
       "0"
      ]
     },
     "execution_count": 14,
     "metadata": {},
     "output_type": "execute_result"
    }
   ],
   "source": [
    "f.seek(0)"
   ]
  },
  {
   "cell_type": "code",
   "execution_count": 16,
   "id": "bafc2721-95cd-4154-b34d-d82302e20331",
   "metadata": {},
   "outputs": [
    {
     "data": {
      "text/plain": [
       "'In python, there are multiple functions to read data from a file and write data to a file. These functions allow us to work with files efficiently. In this article, we will learn about all those functions and how to use them. '"
      ]
     },
     "execution_count": 16,
     "metadata": {},
     "output_type": "execute_result"
    }
   ],
   "source": [
    "f.readline()"
   ]
  },
  {
   "cell_type": "code",
   "execution_count": 18,
   "id": "772d494c-597d-4917-b38e-0aa72956fe82",
   "metadata": {},
   "outputs": [
    {
     "data": {
      "text/plain": [
       "0"
      ]
     },
     "execution_count": 18,
     "metadata": {},
     "output_type": "execute_result"
    }
   ],
   "source": [
    "f.seek(0)"
   ]
  },
  {
   "cell_type": "code",
   "execution_count": 19,
   "id": "ddfb629b-6c7a-426e-b1e9-44fc76cb06a0",
   "metadata": {},
   "outputs": [
    {
     "data": {
      "text/plain": [
       "['Python offers some excellent ways of using files. In python, there are multiple functions to read data from a file and write data to a file. These functions allow us to work with files efficiently. In this article, we will learn about all those functions and how to use them. ']"
      ]
     },
     "execution_count": 19,
     "metadata": {},
     "output_type": "execute_result"
    }
   ],
   "source": [
    "f.readlines()"
   ]
  },
  {
   "cell_type": "code",
   "execution_count": null,
   "id": "36f48e4f-ecbe-4e97-94c7-0a7f4890cc3d",
   "metadata": {},
   "outputs": [],
   "source": [
    "readlines() returns the lines in the form of list"
   ]
  },
  {
   "cell_type": "code",
   "execution_count": null,
   "id": "2288e620-c557-4de0-a2e8-2f77e779830e",
   "metadata": {},
   "outputs": [],
   "source": [
    "Q5. Explain why with statement is used with open(). What is the advantage of using with statement and\n",
    "    open() together?"
   ]
  },
  {
   "cell_type": "code",
   "execution_count": null,
   "id": "64b9a201-dec0-4e60-915e-4a1dc6dbf7cb",
   "metadata": {},
   "outputs": [],
   "source": [
    "Ans -: The with statement works with the open() function to open a file.\n",
    "\n",
    "       Using with means that the file will be closed as soon as you leave the block. This is beneficial\n",
    "       because closing a file is something that can easily be forgotten and ties up resources that you no\n",
    "        longer need. "
   ]
  },
  {
   "cell_type": "code",
   "execution_count": null,
   "id": "1e8f6951-8375-4d09-9b5e-50d6502d04d0",
   "metadata": {},
   "outputs": [],
   "source": [
    "Q6. Explain the write() and writelines() functions. Give a suitable example."
   ]
  },
  {
   "cell_type": "code",
   "execution_count": null,
   "id": "d7502b10-0b77-45c5-ae60-843ca1c720bc",
   "metadata": {},
   "outputs": [],
   "source": [
    "Ans - : write() -: The write() function will write the content in the file without adding any extra characters.\n",
    "\n",
    "        writelines()-:   The writelines() method writes the items of a list to the file.\n",
    "                         Where the texts will be inserted depends on the file mode and stream position."
   ]
  },
  {
   "cell_type": "code",
   "execution_count": 40,
   "id": "86901cd1-77ef-479e-a6c1-1139d8d42864",
   "metadata": {},
   "outputs": [],
   "source": [
    "with open(\"text2.txt\" , 'w') as f:\n",
    "    f.write(\"This is the example of write function\")"
   ]
  },
  {
   "cell_type": "code",
   "execution_count": 41,
   "id": "bd345fab-dbe0-4cab-8564-c74754f4322c",
   "metadata": {},
   "outputs": [],
   "source": [
    "f = open(\"text2.txt\",'r')"
   ]
  },
  {
   "cell_type": "code",
   "execution_count": 42,
   "id": "a2c76596-1358-47e3-ba71-25013ce9fc54",
   "metadata": {},
   "outputs": [
    {
     "data": {
      "text/plain": [
       "'This is the example of write function'"
      ]
     },
     "execution_count": 42,
     "metadata": {},
     "output_type": "execute_result"
    }
   ],
   "source": [
    "f.read()"
   ]
  },
  {
   "cell_type": "code",
   "execution_count": 43,
   "id": "01656b5c-30ce-4a3a-9ad5-0871b01978f1",
   "metadata": {},
   "outputs": [],
   "source": [
    "with open(\"text2.txt\" , '') as f:\n",
    "    f.writelines(\" See you soon. I will come\")"
   ]
  },
  {
   "cell_type": "code",
   "execution_count": 44,
   "id": "2aa97bc1-cb4c-4725-925e-a8264af50cd2",
   "metadata": {},
   "outputs": [],
   "source": [
    "f = open(\"text2.txt\",'r')\n"
   ]
  },
  {
   "cell_type": "code",
   "execution_count": 45,
   "id": "34b99344-aedd-41f5-8bd8-36606e099c74",
   "metadata": {},
   "outputs": [
    {
     "data": {
      "text/plain": [
       "' See you soon. I will come'"
      ]
     },
     "execution_count": 45,
     "metadata": {},
     "output_type": "execute_result"
    }
   ],
   "source": [
    "f.read()"
   ]
  },
  {
   "cell_type": "code",
   "execution_count": null,
   "id": "f3087128-08cd-4f65-aea6-971e7e3b8a33",
   "metadata": {},
   "outputs": [],
   "source": []
  }
 ],
 "metadata": {
  "kernelspec": {
   "display_name": "Python 3 (ipykernel)",
   "language": "python",
   "name": "python3"
  },
  "language_info": {
   "codemirror_mode": {
    "name": "ipython",
    "version": 3
   },
   "file_extension": ".py",
   "mimetype": "text/x-python",
   "name": "python",
   "nbconvert_exporter": "python",
   "pygments_lexer": "ipython3",
   "version": "3.10.8"
  }
 },
 "nbformat": 4,
 "nbformat_minor": 5
}
