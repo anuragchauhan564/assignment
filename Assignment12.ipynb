{
 "cells": [
  {
   "cell_type": "code",
   "execution_count": null,
   "id": "c0faefb5-2138-411a-a93a-9c921f375c14",
   "metadata": {},
   "outputs": [],
   "source": [
    "Q1. What is an Exception in python? Write the difference between Exception and Syntax error."
   ]
  },
  {
   "cell_type": "code",
   "execution_count": null,
   "id": "61e542da-63f1-4568-81b4-fb51b7cf159b",
   "metadata": {},
   "outputs": [],
   "source": [
    "Ans - : An exception is an event, which occurs during the execution of a program that disrupts \n",
    "        the normal flow of the program's instructions\n",
    "        An exception is an unexpected event that occurs during program execution\n",
    "        \n",
    "        A syntax error occurs when the structure of a program does not conform to the rules of the programming language. \n",
    "        Syntax errors are usually detected by the  interpreter when the program is being compiled or executed,\n",
    "        and they prevent the program from running. Syntax errors are usually caused by mistakes in the source code, such as typs, \n",
    "        incorrect use of syntax.\n",
    "\n",
    "        An exception is an abnormal event that occurs during the execution of a program.\n",
    "        Exceptions are usually caused by runtime errors, such as dividing by zero, trying to access an element in an array with an\n",
    "        out-of-bounds index, or trying to access a file that does not exist.\n",
    "        Exceptions are not syntax errors, but they can still prevent the program from running if they are not handled properly."
   ]
  },
  {
   "cell_type": "code",
   "execution_count": null,
   "id": "c81dd49e-9622-4285-a908-4db81cac7df3",
   "metadata": {},
   "outputs": [],
   "source": [
    "Q2.What happens when an exception is not handled? Explain with an example."
   ]
  },
  {
   "cell_type": "code",
   "execution_count": null,
   "id": "9dd12603-e2a7-4a1a-9201-04a393376e45",
   "metadata": {},
   "outputs": [],
   "source": [
    "Ans-: If the exception is not handled by an except clause, the exception is re-raised after\n",
    "      the finally clause has been executed."
   ]
  },
  {
   "cell_type": "code",
   "execution_count": 2,
   "id": "52bdba2f-6504-4090-8754-d09d8e52f763",
   "metadata": {},
   "outputs": [
    {
     "name": "stdout",
     "output_type": "stream",
     "text": [
      "Exception\n"
     ]
    },
    {
     "ename": "ZeroDivisionError",
     "evalue": "division by zero",
     "output_type": "error",
     "traceback": [
      "\u001b[0;31m---------------------------------------------------------------------------\u001b[0m",
      "\u001b[0;31mZeroDivisionError\u001b[0m                         Traceback (most recent call last)",
      "Cell \u001b[0;32mIn[2], line 2\u001b[0m\n\u001b[1;32m      1\u001b[0m \u001b[38;5;28;01mtry\u001b[39;00m: \n\u001b[0;32m----> 2\u001b[0m     a \u001b[38;5;241m=\u001b[39m \u001b[38;5;241;43m7\u001b[39;49m\u001b[38;5;241;43m/\u001b[39;49m\u001b[38;5;241;43m0\u001b[39;49m\n\u001b[1;32m      3\u001b[0m \u001b[38;5;66;03m# except ZeroDivisionError as e:\u001b[39;00m\n\u001b[1;32m      4\u001b[0m \u001b[38;5;66;03m#     print(\"Zero Division \", e)\u001b[39;00m\n\u001b[1;32m      5\u001b[0m \u001b[38;5;28;01mfinally\u001b[39;00m:\n\u001b[1;32m      6\u001b[0m     \u001b[38;5;28mprint\u001b[39m(\u001b[38;5;124m\"\u001b[39m\u001b[38;5;124mException\u001b[39m\u001b[38;5;124m\"\u001b[39m)\n",
      "\u001b[0;31mZeroDivisionError\u001b[0m: division by zero"
     ]
    }
   ],
   "source": [
    "try: \n",
    "    a = 7/0\n",
    "# except ZeroDivisionError as e:\n",
    "#     print(\"Zero Division \", e)\n",
    "finally:\n",
    "    print(\"Exception\")"
   ]
  },
  {
   "cell_type": "code",
   "execution_count": null,
   "id": "dde04359-8aa3-4f85-b812-c74ef7d4e891",
   "metadata": {},
   "outputs": [],
   "source": [
    "Q3. Which Python statements are used to catch and handle exception? Explain with an example."
   ]
  },
  {
   "cell_type": "code",
   "execution_count": null,
   "id": "55ca3368-bb76-4e72-818d-ccb3c879c315",
   "metadata": {},
   "outputs": [],
   "source": [
    "Ans - : try and except block are use catch and handle exception in python."
   ]
  },
  {
   "cell_type": "code",
   "execution_count": 3,
   "id": "100f3832-c7e8-4bf9-8ef4-3acb96f40ea5",
   "metadata": {},
   "outputs": [
    {
     "name": "stdout",
     "output_type": "stream",
     "text": [
      "Zero Division  division by zero\n"
     ]
    }
   ],
   "source": [
    "try: \n",
    "    a = 7/0\n",
    "except ZeroDivisionError as e:\n",
    "    print(\"Zero Division \", e)"
   ]
  },
  {
   "cell_type": "code",
   "execution_count": null,
   "id": "554a698f-f048-48aa-bd44-1fd5adeb5e75",
   "metadata": {},
   "outputs": [],
   "source": [
    "Q4. Explain with an example:\n",
    "     a. try and else \n",
    "     b. finally\n",
    "    c. raise"
   ]
  },
  {
   "cell_type": "code",
   "execution_count": null,
   "id": "9e229153-03aa-475e-a1ef-37e009d83bb6",
   "metadata": {},
   "outputs": [],
   "source": [
    "Ans -: a) try and else:\n",
    "            try: This block will test the excepted error to occur\n",
    "            else: If there is no exception then this block will be executed if there is any exception else block will not be executed."
   ]
  },
  {
   "cell_type": "code",
   "execution_count": 4,
   "id": "1744c39d-e053-4b25-b22a-d3f8d17ac3de",
   "metadata": {},
   "outputs": [
    {
     "name": "stdout",
     "output_type": "stream",
     "text": [
      "There is no exception in the program\n"
     ]
    }
   ],
   "source": [
    "try: \n",
    "    a = 7/2\n",
    "except ZeroDivisionError as e:\n",
    "    print(\"Zero Division \", e)\n",
    "else:\n",
    "    print(\"There is no exception in the program\")"
   ]
  },
  {
   "cell_type": "code",
   "execution_count": null,
   "id": "df8b4620-6fcb-4b89-9a14-3e443af10629",
   "metadata": {},
   "outputs": [],
   "source": [
    "b) finally\n",
    "   Finally: Finally block always gets executed either exception is generated or not"
   ]
  },
  {
   "cell_type": "code",
   "execution_count": 5,
   "id": "d0e5068c-64bc-499a-a194-ba4809d0be80",
   "metadata": {},
   "outputs": [
    {
     "name": "stdout",
     "output_type": "stream",
     "text": [
      "Zero Division  division by zero\n",
      " Finally block always gets executed either exception is generated or not\n"
     ]
    }
   ],
   "source": [
    "try: \n",
    "    a = 7/0\n",
    "except ZeroDivisionError as e:\n",
    "    print(\"Zero Division \", e)\n",
    "finally:\n",
    "    print(\" Finally block always gets executed either exception is generated or not\")"
   ]
  },
  {
   "cell_type": "code",
   "execution_count": null,
   "id": "626a1a7e-bf54-4452-b075-0740251c5df9",
   "metadata": {},
   "outputs": [],
   "source": [
    "c) raise \n",
    "    The raise keyword is used to raise an exception"
   ]
  },
  {
   "cell_type": "code",
   "execution_count": 24,
   "id": "af94e838-54f0-450b-af19-2116eb9dd9c8",
   "metadata": {},
   "outputs": [],
   "source": [
    "class check(Exception):\n",
    "    def __int__(self,meg):\n",
    "        self.meg = meg"
   ]
  },
  {
   "cell_type": "code",
   "execution_count": 28,
   "id": "5f687731-86cf-49c8-a11b-2857bc9c78bf",
   "metadata": {},
   "outputs": [],
   "source": [
    "def isgreater(x):\n",
    "    if x <0:\n",
    "        raise check(\"x is not greater than 0\")"
   ]
  },
  {
   "cell_type": "code",
   "execution_count": 29,
   "id": "66b88e56-eeed-40bb-bfcb-206f914ccb20",
   "metadata": {},
   "outputs": [
    {
     "name": "stdout",
     "output_type": "stream",
     "text": [
      "x is not greater than 0\n"
     ]
    }
   ],
   "source": [
    "try:\n",
    "    a =-1\n",
    "    isgreater(a)\n",
    "except check as e:\n",
    "    print(e)"
   ]
  },
  {
   "cell_type": "code",
   "execution_count": null,
   "id": "14c229f3-3317-42b9-bb5f-b5608da527ef",
   "metadata": {},
   "outputs": [],
   "source": [
    "Q5. What are Custom Exceptions in python? Why do we need Custom Exception ? Explain with an example."
   ]
  },
  {
   "cell_type": "code",
   "execution_count": null,
   "id": "c7110158-adb0-4c48-b037-c1cbf9e05c74",
   "metadata": {},
   "outputs": [],
   "source": [
    "Ans -:  Custom Exceptions are user  created exception. When user want to give his own message when exception is generated.\n",
    "        Using custom exceptions can help us improve this even more, especially when we are designing our package"
   ]
  },
  {
   "cell_type": "code",
   "execution_count": 31,
   "id": "d3f0cc6b-5989-4388-a629-32c5c181391f",
   "metadata": {},
   "outputs": [
    {
     "name": "stdout",
     "output_type": "stream",
     "text": [
      "x is not a number \n"
     ]
    }
   ],
   "source": [
    "class check(Exception):\n",
    "    def __int__(self,meg):\n",
    "        self.meg = meg\n",
    "        \n",
    "        \n",
    "def isnum(x):\n",
    "    if type(x)!=int:\n",
    "        raise check(\"x is not a number \")\n",
    "        \n",
    "try:\n",
    "    a =\"hello\"\n",
    "    isnum(a)\n",
    "except check as e:\n",
    "    print(e)"
   ]
  },
  {
   "cell_type": "code",
   "execution_count": null,
   "id": "951044ec-b2ed-4a0a-87d6-4317cd492a13",
   "metadata": {},
   "outputs": [],
   "source": [
    "Q6.Create a custom exception class.Use this class handle an exception."
   ]
  },
  {
   "cell_type": "code",
   "execution_count": 34,
   "id": "f6daf72c-fe9d-4900-88a8-908fbb7a6800",
   "metadata": {},
   "outputs": [],
   "source": [
    "class check1(Exception):\n",
    "    def __int__(self,meg):\n",
    "        self.meg = meg\n",
    "        \n",
    "        \n",
    "def isstr(x):\n",
    "    if type(x)!=str:\n",
    "        raise check1(\"x is not a number \")\n",
    "        \n",
    "try:\n",
    "    a =\"hello\"\n",
    "    isstr(a)\n",
    "except check1 as e:\n",
    "    print(e)"
   ]
  },
  {
   "cell_type": "code",
   "execution_count": null,
   "id": "b87acbaa-9c8a-4da1-9d7a-7f1865354b7e",
   "metadata": {},
   "outputs": [],
   "source": []
  }
 ],
 "metadata": {
  "kernelspec": {
   "display_name": "Python 3 (ipykernel)",
   "language": "python",
   "name": "python3"
  },
  "language_info": {
   "codemirror_mode": {
    "name": "ipython",
    "version": 3
   },
   "file_extension": ".py",
   "mimetype": "text/x-python",
   "name": "python",
   "nbconvert_exporter": "python",
   "pygments_lexer": "ipython3",
   "version": "3.10.8"
  }
 },
 "nbformat": 4,
 "nbformat_minor": 5
}
