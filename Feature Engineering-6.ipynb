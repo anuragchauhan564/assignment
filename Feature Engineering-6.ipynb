{
 "cells": [
  {
   "cell_type": "code",
   "execution_count": null,
   "id": "c7305b27-3d0f-4441-a35c-d022285e378e",
   "metadata": {},
   "outputs": [],
   "source": [
    "Q1. Pearson correlation coefficient is a measure of the linear relationship between two variables. Suppose\n",
    "    you have collected data on the amount of time students spend studying for an exam and their final exam\n",
    "    scores. Calculate the Pearson correlation coefficient between these two variables and interpret the result."
   ]
  },
  {
   "cell_type": "code",
   "execution_count": 92,
   "id": "2f6dbbea-bcf8-49ea-bbf1-6cf985c734b4",
   "metadata": {},
   "outputs": [],
   "source": [
    "data =  {'studying_time' : [10, 15, 20, 25, 12, 8, 16, 22, 18, 14],\n",
    "          'exam_scores' : [80, 85, 90, 95, 82, 78, 87, 92, 88, 84]\n",
    "}"
   ]
  },
  {
   "cell_type": "code",
   "execution_count": 93,
   "id": "e34ef767-5435-4ee2-9e37-4a0593448c0d",
   "metadata": {},
   "outputs": [],
   "source": [
    "df = pd.DataFrame(data)"
   ]
  },
  {
   "cell_type": "code",
   "execution_count": 94,
   "id": "f806c417-65b9-476e-89db-c139f5812b31",
   "metadata": {},
   "outputs": [
    {
     "data": {
      "text/html": [
       "<div>\n",
       "<style scoped>\n",
       "    .dataframe tbody tr th:only-of-type {\n",
       "        vertical-align: middle;\n",
       "    }\n",
       "\n",
       "    .dataframe tbody tr th {\n",
       "        vertical-align: top;\n",
       "    }\n",
       "\n",
       "    .dataframe thead th {\n",
       "        text-align: right;\n",
       "    }\n",
       "</style>\n",
       "<table border=\"1\" class=\"dataframe\">\n",
       "  <thead>\n",
       "    <tr style=\"text-align: right;\">\n",
       "      <th></th>\n",
       "      <th>studying_time</th>\n",
       "      <th>exam_scores</th>\n",
       "    </tr>\n",
       "  </thead>\n",
       "  <tbody>\n",
       "    <tr>\n",
       "      <th>0</th>\n",
       "      <td>10</td>\n",
       "      <td>80</td>\n",
       "    </tr>\n",
       "    <tr>\n",
       "      <th>1</th>\n",
       "      <td>15</td>\n",
       "      <td>85</td>\n",
       "    </tr>\n",
       "    <tr>\n",
       "      <th>2</th>\n",
       "      <td>20</td>\n",
       "      <td>90</td>\n",
       "    </tr>\n",
       "    <tr>\n",
       "      <th>3</th>\n",
       "      <td>25</td>\n",
       "      <td>95</td>\n",
       "    </tr>\n",
       "    <tr>\n",
       "      <th>4</th>\n",
       "      <td>12</td>\n",
       "      <td>82</td>\n",
       "    </tr>\n",
       "    <tr>\n",
       "      <th>5</th>\n",
       "      <td>8</td>\n",
       "      <td>78</td>\n",
       "    </tr>\n",
       "    <tr>\n",
       "      <th>6</th>\n",
       "      <td>16</td>\n",
       "      <td>87</td>\n",
       "    </tr>\n",
       "    <tr>\n",
       "      <th>7</th>\n",
       "      <td>22</td>\n",
       "      <td>92</td>\n",
       "    </tr>\n",
       "    <tr>\n",
       "      <th>8</th>\n",
       "      <td>18</td>\n",
       "      <td>88</td>\n",
       "    </tr>\n",
       "    <tr>\n",
       "      <th>9</th>\n",
       "      <td>14</td>\n",
       "      <td>84</td>\n",
       "    </tr>\n",
       "  </tbody>\n",
       "</table>\n",
       "</div>"
      ],
      "text/plain": [
       "   studying_time  exam_scores\n",
       "0             10           80\n",
       "1             15           85\n",
       "2             20           90\n",
       "3             25           95\n",
       "4             12           82\n",
       "5              8           78\n",
       "6             16           87\n",
       "7             22           92\n",
       "8             18           88\n",
       "9             14           84"
      ]
     },
     "execution_count": 94,
     "metadata": {},
     "output_type": "execute_result"
    }
   ],
   "source": [
    "df\n"
   ]
  },
  {
   "cell_type": "code",
   "execution_count": 95,
   "id": "c0bb37f8-5305-43e2-af41-0b02a3c32d56",
   "metadata": {},
   "outputs": [
    {
     "data": {
      "text/html": [
       "<div>\n",
       "<style scoped>\n",
       "    .dataframe tbody tr th:only-of-type {\n",
       "        vertical-align: middle;\n",
       "    }\n",
       "\n",
       "    .dataframe tbody tr th {\n",
       "        vertical-align: top;\n",
       "    }\n",
       "\n",
       "    .dataframe thead th {\n",
       "        text-align: right;\n",
       "    }\n",
       "</style>\n",
       "<table border=\"1\" class=\"dataframe\">\n",
       "  <thead>\n",
       "    <tr style=\"text-align: right;\">\n",
       "      <th></th>\n",
       "      <th>studying_time</th>\n",
       "      <th>exam_scores</th>\n",
       "    </tr>\n",
       "  </thead>\n",
       "  <tbody>\n",
       "    <tr>\n",
       "      <th>studying_time</th>\n",
       "      <td>1.00000</td>\n",
       "      <td>0.99826</td>\n",
       "    </tr>\n",
       "    <tr>\n",
       "      <th>exam_scores</th>\n",
       "      <td>0.99826</td>\n",
       "      <td>1.00000</td>\n",
       "    </tr>\n",
       "  </tbody>\n",
       "</table>\n",
       "</div>"
      ],
      "text/plain": [
       "               studying_time  exam_scores\n",
       "studying_time        1.00000      0.99826\n",
       "exam_scores          0.99826      1.00000"
      ]
     },
     "execution_count": 95,
     "metadata": {},
     "output_type": "execute_result"
    }
   ],
   "source": [
    "df.corr(method='pearson')"
   ]
  },
  {
   "cell_type": "code",
   "execution_count": null,
   "id": "2d9f5fa4-64bc-47dc-b019-c82b8760638a",
   "metadata": {},
   "outputs": [],
   "source": [
    " the Pearson correlation coefficient is close to 1 (e.g., 0.99826), it indicates a strong positive linear relationship. \n",
    "This means that as the amount of time spent studying increases, the final exam scores tend to increase as well."
   ]
  },
  {
   "cell_type": "code",
   "execution_count": null,
   "id": "3d93941e-33ed-44eb-8a23-f3558fc7775c",
   "metadata": {},
   "outputs": [],
   "source": [
    "Q2. Spearman's rank correlation is a measure of the monotonic relationship between two variables.\n",
    "    Suppose you have collected data on the amount of sleep individuals get each night and their overall job\n",
    "    satisfaction level on a scale of 1 to 10. Calculate the Spearman's rank correlation between these two\n",
    "    variables and interpret the result."
   ]
  },
  {
   "cell_type": "code",
   "execution_count": 1,
   "id": "461cbd82-f0cf-4159-9113-e74fa361368b",
   "metadata": {},
   "outputs": [],
   "source": [
    "import numpy as np"
   ]
  },
  {
   "cell_type": "code",
   "execution_count": 2,
   "id": "a8a7dfd8-49a0-4600-a924-5edb30ddc784",
   "metadata": {},
   "outputs": [],
   "source": [
    "import pandas as pd"
   ]
  },
  {
   "cell_type": "code",
   "execution_count": 17,
   "id": "1400533e-e02e-48b1-bc3a-7b59eb761360",
   "metadata": {},
   "outputs": [],
   "source": [
    "df = pd.DataFrame([6,8,7,5,6],columns=['sleep'])"
   ]
  },
  {
   "cell_type": "code",
   "execution_count": 18,
   "id": "2d3523d0-8d28-44f4-bbd0-000b838d97e8",
   "metadata": {},
   "outputs": [],
   "source": [
    "df['satisfaction'] = [9, 7, 6, 8, 5]"
   ]
  },
  {
   "cell_type": "code",
   "execution_count": 19,
   "id": "a6646ec7-a882-4b2f-8531-d6152e6c81ec",
   "metadata": {},
   "outputs": [
    {
     "data": {
      "text/html": [
       "<div>\n",
       "<style scoped>\n",
       "    .dataframe tbody tr th:only-of-type {\n",
       "        vertical-align: middle;\n",
       "    }\n",
       "\n",
       "    .dataframe tbody tr th {\n",
       "        vertical-align: top;\n",
       "    }\n",
       "\n",
       "    .dataframe thead th {\n",
       "        text-align: right;\n",
       "    }\n",
       "</style>\n",
       "<table border=\"1\" class=\"dataframe\">\n",
       "  <thead>\n",
       "    <tr style=\"text-align: right;\">\n",
       "      <th></th>\n",
       "      <th>sleep</th>\n",
       "      <th>satisfaction</th>\n",
       "    </tr>\n",
       "  </thead>\n",
       "  <tbody>\n",
       "    <tr>\n",
       "      <th>0</th>\n",
       "      <td>6</td>\n",
       "      <td>9</td>\n",
       "    </tr>\n",
       "    <tr>\n",
       "      <th>1</th>\n",
       "      <td>8</td>\n",
       "      <td>7</td>\n",
       "    </tr>\n",
       "    <tr>\n",
       "      <th>2</th>\n",
       "      <td>7</td>\n",
       "      <td>6</td>\n",
       "    </tr>\n",
       "    <tr>\n",
       "      <th>3</th>\n",
       "      <td>5</td>\n",
       "      <td>8</td>\n",
       "    </tr>\n",
       "    <tr>\n",
       "      <th>4</th>\n",
       "      <td>6</td>\n",
       "      <td>5</td>\n",
       "    </tr>\n",
       "  </tbody>\n",
       "</table>\n",
       "</div>"
      ],
      "text/plain": [
       "   sleep  satisfaction\n",
       "0      6             9\n",
       "1      8             7\n",
       "2      7             6\n",
       "3      5             8\n",
       "4      6             5"
      ]
     },
     "execution_count": 19,
     "metadata": {},
     "output_type": "execute_result"
    }
   ],
   "source": [
    "df"
   ]
  },
  {
   "cell_type": "code",
   "execution_count": 20,
   "id": "505ecdea-f04c-411c-8d12-1ba5253339bd",
   "metadata": {},
   "outputs": [
    {
     "data": {
      "text/html": [
       "<div>\n",
       "<style scoped>\n",
       "    .dataframe tbody tr th:only-of-type {\n",
       "        vertical-align: middle;\n",
       "    }\n",
       "\n",
       "    .dataframe tbody tr th {\n",
       "        vertical-align: top;\n",
       "    }\n",
       "\n",
       "    .dataframe thead th {\n",
       "        text-align: right;\n",
       "    }\n",
       "</style>\n",
       "<table border=\"1\" class=\"dataframe\">\n",
       "  <thead>\n",
       "    <tr style=\"text-align: right;\">\n",
       "      <th></th>\n",
       "      <th>sleep</th>\n",
       "      <th>satisfaction</th>\n",
       "    </tr>\n",
       "  </thead>\n",
       "  <tbody>\n",
       "    <tr>\n",
       "      <th>sleep</th>\n",
       "      <td>1.000000</td>\n",
       "      <td>-0.307794</td>\n",
       "    </tr>\n",
       "    <tr>\n",
       "      <th>satisfaction</th>\n",
       "      <td>-0.307794</td>\n",
       "      <td>1.000000</td>\n",
       "    </tr>\n",
       "  </tbody>\n",
       "</table>\n",
       "</div>"
      ],
      "text/plain": [
       "                 sleep  satisfaction\n",
       "sleep         1.000000     -0.307794\n",
       "satisfaction -0.307794      1.000000"
      ]
     },
     "execution_count": 20,
     "metadata": {},
     "output_type": "execute_result"
    }
   ],
   "source": [
    "df.corr(method='spearman')"
   ]
  },
  {
   "cell_type": "code",
   "execution_count": null,
   "id": "d22d9120-ae34-4cae-8f1c-db53c548d5b6",
   "metadata": {},
   "outputs": [],
   "source": [
    "Ans:  negative value indicates a negative monotonic relationship. The closer the value is to -1 or 1, the stronger the correlation.\n"
   ]
  },
  {
   "cell_type": "code",
   "execution_count": null,
   "id": "a6b07e64-7049-45ae-8b93-7531ed69ff3e",
   "metadata": {},
   "outputs": [],
   "source": [
    "Q3. Suppose you are conducting a study to examine the relationship between the number of hours of\n",
    "    exercise per week and body mass index (BMI) in a sample of adults. You collected data on both variables\n",
    "    for 50 participants. Calculate the Pearson correlation coefficient and the Spearman's rank correlation\n",
    "    between these two variables and compare the results."
   ]
  },
  {
   "cell_type": "code",
   "execution_count": 81,
   "id": "74800413-9f50-433b-ae35-0d71106af628",
   "metadata": {},
   "outputs": [],
   "source": [
    "# number of hours of exercise per week\n",
    "df = {'exercise_hours': [3, 5, 2, 7, 4, 6, 5, 2, 4, 3, 1, 5, 6, 3, 2, 4, 2, 6, 5, 4, 3, 1, 2, 4, 6, 3, 5, 2, 4, 3,\n",
    "                  1, 6, 5, 7, 2, 4, 3, 5, 2, 6, 3, 4, 2, 1, 5, 6, 4, 3, 2, 5, 3, 4],\n",
    "\n",
    "# body mass index (BMI) in a sample of adults\n",
    "\n",
    "       'bmi' : [25.2, 29.4, 22.1, 31.5, 27.6, 30.1, 29.0, 22.7, 26.8, 24.5, 21.6, 27.5, 29.9, 24.4, 21.8, 26.2, 22.3,\n",
    "       30.2, 28.8, 26.3, 24.7, 20.9, 22.2, 26.1, 30.3, 24.3, 28.0, 21.9, 26.6, 24.2, 21.0, 29.8, 28.7, 32.1,\n",
    "       22.4, 26.7, 24.6, 28.9, 21.7, 30.0, 24.9, 26.4, 21.3, 20.8, 27.3, 31.0, 26.5, 24.1, 23.3, 29.5, 24.8,\n",
    "       25.8]}"
   ]
  },
  {
   "cell_type": "code",
   "execution_count": 82,
   "id": "2730f429-05a2-4976-99eb-ba6d7b85b985",
   "metadata": {},
   "outputs": [],
   "source": [
    "df = pd.DataFrame(df)"
   ]
  },
  {
   "cell_type": "code",
   "execution_count": null,
   "id": "dca6ce9f-bc67-4478-a1f6-97d59cda4aee",
   "metadata": {},
   "outputs": [],
   "source": []
  },
  {
   "cell_type": "code",
   "execution_count": 83,
   "id": "363123a1-f527-4798-8791-1716cc8bfea9",
   "metadata": {},
   "outputs": [
    {
     "data": {
      "text/html": [
       "<div>\n",
       "<style scoped>\n",
       "    .dataframe tbody tr th:only-of-type {\n",
       "        vertical-align: middle;\n",
       "    }\n",
       "\n",
       "    .dataframe tbody tr th {\n",
       "        vertical-align: top;\n",
       "    }\n",
       "\n",
       "    .dataframe thead th {\n",
       "        text-align: right;\n",
       "    }\n",
       "</style>\n",
       "<table border=\"1\" class=\"dataframe\">\n",
       "  <thead>\n",
       "    <tr style=\"text-align: right;\">\n",
       "      <th></th>\n",
       "      <th>exercise_hours</th>\n",
       "      <th>bmi</th>\n",
       "    </tr>\n",
       "  </thead>\n",
       "  <tbody>\n",
       "    <tr>\n",
       "      <th>0</th>\n",
       "      <td>3</td>\n",
       "      <td>25.2</td>\n",
       "    </tr>\n",
       "    <tr>\n",
       "      <th>1</th>\n",
       "      <td>5</td>\n",
       "      <td>29.4</td>\n",
       "    </tr>\n",
       "    <tr>\n",
       "      <th>2</th>\n",
       "      <td>2</td>\n",
       "      <td>22.1</td>\n",
       "    </tr>\n",
       "    <tr>\n",
       "      <th>3</th>\n",
       "      <td>7</td>\n",
       "      <td>31.5</td>\n",
       "    </tr>\n",
       "    <tr>\n",
       "      <th>4</th>\n",
       "      <td>4</td>\n",
       "      <td>27.6</td>\n",
       "    </tr>\n",
       "  </tbody>\n",
       "</table>\n",
       "</div>"
      ],
      "text/plain": [
       "   exercise_hours   bmi\n",
       "0               3  25.2\n",
       "1               5  29.4\n",
       "2               2  22.1\n",
       "3               7  31.5\n",
       "4               4  27.6"
      ]
     },
     "execution_count": 83,
     "metadata": {},
     "output_type": "execute_result"
    }
   ],
   "source": [
    "df.head()"
   ]
  },
  {
   "cell_type": "code",
   "execution_count": 84,
   "id": "1c74ac1f-9641-4bfe-9672-b2610fa1e160",
   "metadata": {},
   "outputs": [
    {
     "data": {
      "text/html": [
       "<div>\n",
       "<style scoped>\n",
       "    .dataframe tbody tr th:only-of-type {\n",
       "        vertical-align: middle;\n",
       "    }\n",
       "\n",
       "    .dataframe tbody tr th {\n",
       "        vertical-align: top;\n",
       "    }\n",
       "\n",
       "    .dataframe thead th {\n",
       "        text-align: right;\n",
       "    }\n",
       "</style>\n",
       "<table border=\"1\" class=\"dataframe\">\n",
       "  <thead>\n",
       "    <tr style=\"text-align: right;\">\n",
       "      <th></th>\n",
       "      <th>exercise_hours</th>\n",
       "      <th>bmi</th>\n",
       "    </tr>\n",
       "  </thead>\n",
       "  <tbody>\n",
       "    <tr>\n",
       "      <th>exercise_hours</th>\n",
       "      <td>1.000000</td>\n",
       "      <td>0.984949</td>\n",
       "    </tr>\n",
       "    <tr>\n",
       "      <th>bmi</th>\n",
       "      <td>0.984949</td>\n",
       "      <td>1.000000</td>\n",
       "    </tr>\n",
       "  </tbody>\n",
       "</table>\n",
       "</div>"
      ],
      "text/plain": [
       "                exercise_hours       bmi\n",
       "exercise_hours        1.000000  0.984949\n",
       "bmi                   0.984949  1.000000"
      ]
     },
     "execution_count": 84,
     "metadata": {},
     "output_type": "execute_result"
    }
   ],
   "source": [
    "df.corr(method=\"pearson\")"
   ]
  },
  {
   "cell_type": "code",
   "execution_count": null,
   "id": "10856207-54fb-403c-a430-1f75088cc86a",
   "metadata": {},
   "outputs": [],
   "source": [
    "value ranges from -1 to 1, indicating the strength and direction of the linear relationship between the two variables. \n",
    "A value close to 1 indicates a strong positive linear relationship, a value close to -1 indicates a strong negative linear \n",
    "relationship, and a value close to 0 indicates a weak or no linear relationship."
   ]
  },
  {
   "cell_type": "code",
   "execution_count": 34,
   "id": "74aeb5c0-7ef5-4965-a137-a37b8289990f",
   "metadata": {},
   "outputs": [
    {
     "data": {
      "text/html": [
       "<div>\n",
       "<style scoped>\n",
       "    .dataframe tbody tr th:only-of-type {\n",
       "        vertical-align: middle;\n",
       "    }\n",
       "\n",
       "    .dataframe tbody tr th {\n",
       "        vertical-align: top;\n",
       "    }\n",
       "\n",
       "    .dataframe thead th {\n",
       "        text-align: right;\n",
       "    }\n",
       "</style>\n",
       "<table border=\"1\" class=\"dataframe\">\n",
       "  <thead>\n",
       "    <tr style=\"text-align: right;\">\n",
       "      <th></th>\n",
       "      <th>exeercise hours</th>\n",
       "      <th>bmi</th>\n",
       "    </tr>\n",
       "  </thead>\n",
       "  <tbody>\n",
       "    <tr>\n",
       "      <th>exeercise hours</th>\n",
       "      <td>1.000000</td>\n",
       "      <td>0.983083</td>\n",
       "    </tr>\n",
       "    <tr>\n",
       "      <th>bmi</th>\n",
       "      <td>0.983083</td>\n",
       "      <td>1.000000</td>\n",
       "    </tr>\n",
       "  </tbody>\n",
       "</table>\n",
       "</div>"
      ],
      "text/plain": [
       "                 exeercise hours       bmi\n",
       "exeercise hours         1.000000  0.983083\n",
       "bmi                     0.983083  1.000000"
      ]
     },
     "execution_count": 34,
     "metadata": {},
     "output_type": "execute_result"
    }
   ],
   "source": [
    "df.corr(method='spearman')"
   ]
  },
  {
   "cell_type": "code",
   "execution_count": null,
   "id": "5e8d406a-1add-4259-976a-ef160e4e48a4",
   "metadata": {},
   "outputs": [],
   "source": [
    " value ranges from -1 to 1, indicating the strength and direction of the monotonic relationship between the two variables.\n",
    "A value close to 1 indicates a strong positive monotonic relationship, a value close to -1 indicates a strong negative \n",
    "monotonic relationship, and a value close to 0 indicates a weak or no monotonic relationship."
   ]
  },
  {
   "cell_type": "code",
   "execution_count": null,
   "id": "6dd9e2a5-cf8c-475b-a9ad-7fdf4933ec2b",
   "metadata": {},
   "outputs": [],
   "source": [
    "Q4. A researcher is interested in examining the relationship between the number of hours individuals\n",
    "    spend watching television per day and their level of physical activity. The researcher collected data on\n",
    "    both variables from a sample of 50 participants. Calculate the Pearson correlation coefficient between\n",
    "    these two variables."
   ]
  },
  {
   "cell_type": "code",
   "execution_count": 77,
   "id": "253a564f-9dd8-4da9-b577-07f93a7b913c",
   "metadata": {},
   "outputs": [],
   "source": [
    "# Number of hours spent watching television per day (X) \n",
    "df = {'tv_hours' : [3, 2, 4, 5, 1, 2, 3, 1, 4, 2, 3, 1, 2, 5, 3, 4, 2, 1, 3, 5, 2, 4, 1, 3, 2, 4, 5, 3, 1, 2,\n",
    "            4, 3, 1, 2, 5, 4, 3, 2, 1, 4, 2, 3, 1, 5, 2, 3, 4, 2, 1, 3, 5],\n",
    "\n",
    "# level of physical activity (Y) data\n",
    "       'physical_activity' : [2, 3, 1, 1, 4, 3, 2, 4, 1, 3, 2, 4, 3, 1, 2, 1, 4, 3, 2, 5, 1, 2, 4, 3, 1, 2, 1, 3, 4,\n",
    "                     2, 5, 1, 2, 4, 3, 1, 2, 4, 3, 5, 1, 2, 3, 1, 4, 2, 3, 1, 2, 4, 3]}"
   ]
  },
  {
   "cell_type": "code",
   "execution_count": 78,
   "id": "0402c368-3053-4c92-a7c4-6579f6caac5e",
   "metadata": {},
   "outputs": [],
   "source": [
    "df = pd.DataFrame(df)"
   ]
  },
  {
   "cell_type": "code",
   "execution_count": 79,
   "id": "e699dd99-f21b-4c0d-843b-024f72136979",
   "metadata": {},
   "outputs": [
    {
     "data": {
      "text/html": [
       "<div>\n",
       "<style scoped>\n",
       "    .dataframe tbody tr th:only-of-type {\n",
       "        vertical-align: middle;\n",
       "    }\n",
       "\n",
       "    .dataframe tbody tr th {\n",
       "        vertical-align: top;\n",
       "    }\n",
       "\n",
       "    .dataframe thead th {\n",
       "        text-align: right;\n",
       "    }\n",
       "</style>\n",
       "<table border=\"1\" class=\"dataframe\">\n",
       "  <thead>\n",
       "    <tr style=\"text-align: right;\">\n",
       "      <th></th>\n",
       "      <th>tv_hours</th>\n",
       "      <th>physical_activity</th>\n",
       "    </tr>\n",
       "  </thead>\n",
       "  <tbody>\n",
       "    <tr>\n",
       "      <th>0</th>\n",
       "      <td>3</td>\n",
       "      <td>2</td>\n",
       "    </tr>\n",
       "    <tr>\n",
       "      <th>1</th>\n",
       "      <td>2</td>\n",
       "      <td>3</td>\n",
       "    </tr>\n",
       "    <tr>\n",
       "      <th>2</th>\n",
       "      <td>4</td>\n",
       "      <td>1</td>\n",
       "    </tr>\n",
       "    <tr>\n",
       "      <th>3</th>\n",
       "      <td>5</td>\n",
       "      <td>1</td>\n",
       "    </tr>\n",
       "    <tr>\n",
       "      <th>4</th>\n",
       "      <td>1</td>\n",
       "      <td>4</td>\n",
       "    </tr>\n",
       "  </tbody>\n",
       "</table>\n",
       "</div>"
      ],
      "text/plain": [
       "   tv_hours  physical_activity\n",
       "0         3                  2\n",
       "1         2                  3\n",
       "2         4                  1\n",
       "3         5                  1\n",
       "4         1                  4"
      ]
     },
     "execution_count": 79,
     "metadata": {},
     "output_type": "execute_result"
    }
   ],
   "source": [
    "df.head()"
   ]
  },
  {
   "cell_type": "code",
   "execution_count": 80,
   "id": "f5c0974c-d54f-4d6a-9271-413c31a38040",
   "metadata": {},
   "outputs": [
    {
     "data": {
      "text/html": [
       "<div>\n",
       "<style scoped>\n",
       "    .dataframe tbody tr th:only-of-type {\n",
       "        vertical-align: middle;\n",
       "    }\n",
       "\n",
       "    .dataframe tbody tr th {\n",
       "        vertical-align: top;\n",
       "    }\n",
       "\n",
       "    .dataframe thead th {\n",
       "        text-align: right;\n",
       "    }\n",
       "</style>\n",
       "<table border=\"1\" class=\"dataframe\">\n",
       "  <thead>\n",
       "    <tr style=\"text-align: right;\">\n",
       "      <th></th>\n",
       "      <th>tv_hours</th>\n",
       "      <th>physical_activity</th>\n",
       "    </tr>\n",
       "  </thead>\n",
       "  <tbody>\n",
       "    <tr>\n",
       "      <th>tv_hours</th>\n",
       "      <td>1.000000</td>\n",
       "      <td>-0.286232</td>\n",
       "    </tr>\n",
       "    <tr>\n",
       "      <th>physical_activity</th>\n",
       "      <td>-0.286232</td>\n",
       "      <td>1.000000</td>\n",
       "    </tr>\n",
       "  </tbody>\n",
       "</table>\n",
       "</div>"
      ],
      "text/plain": [
       "                   tv_hours  physical_activity\n",
       "tv_hours           1.000000          -0.286232\n",
       "physical_activity -0.286232           1.000000"
      ]
     },
     "execution_count": 80,
     "metadata": {},
     "output_type": "execute_result"
    }
   ],
   "source": [
    "df.corr(method='pearson')"
   ]
  },
  {
   "cell_type": "code",
   "execution_count": null,
   "id": "b898b2e7-3cb5-47f4-88f1-acab29c27713",
   "metadata": {},
   "outputs": [],
   "source": [
    "Q5. A survey was conducted to examine the relationship between age and preference for a particular\n",
    "    brand of soft drink. The survey results are shown below:\n",
    "        \n",
    "        Age(Years)        Soft drink Preference\n",
    "         25                 Coke\n",
    "         42                 Pepsi\n",
    "         37                 Mountain dew\n",
    "         19                 Coke\n",
    "         31                 Pepsi\n",
    "         28                 Coke\n",
    "         "
   ]
  },
  {
   "cell_type": "code",
   "execution_count": 85,
   "id": "cb7369ee-ea39-43d8-b1f1-34c951b26bb6",
   "metadata": {},
   "outputs": [],
   "source": [
    "df = {'age' :[25,42,37,19,31,28],\n",
    "\n",
    "       'soft_drink' :['coke','pepsi','mountain dew','coke','pepsi','coke']}"
   ]
  },
  {
   "cell_type": "code",
   "execution_count": 86,
   "id": "4e59aa7e-691f-43c5-ba74-1097a1ce293c",
   "metadata": {},
   "outputs": [],
   "source": [
    "df = pd.DataFrame(df)"
   ]
  },
  {
   "cell_type": "code",
   "execution_count": 87,
   "id": "47339aaf-f904-44a9-89a7-c007da1e5ec1",
   "metadata": {},
   "outputs": [
    {
     "data": {
      "text/html": [
       "<div>\n",
       "<style scoped>\n",
       "    .dataframe tbody tr th:only-of-type {\n",
       "        vertical-align: middle;\n",
       "    }\n",
       "\n",
       "    .dataframe tbody tr th {\n",
       "        vertical-align: top;\n",
       "    }\n",
       "\n",
       "    .dataframe thead th {\n",
       "        text-align: right;\n",
       "    }\n",
       "</style>\n",
       "<table border=\"1\" class=\"dataframe\">\n",
       "  <thead>\n",
       "    <tr style=\"text-align: right;\">\n",
       "      <th></th>\n",
       "      <th>age</th>\n",
       "      <th>soft_drink</th>\n",
       "    </tr>\n",
       "  </thead>\n",
       "  <tbody>\n",
       "    <tr>\n",
       "      <th>0</th>\n",
       "      <td>25</td>\n",
       "      <td>coke</td>\n",
       "    </tr>\n",
       "    <tr>\n",
       "      <th>1</th>\n",
       "      <td>42</td>\n",
       "      <td>pepsi</td>\n",
       "    </tr>\n",
       "    <tr>\n",
       "      <th>2</th>\n",
       "      <td>37</td>\n",
       "      <td>mountain dew</td>\n",
       "    </tr>\n",
       "    <tr>\n",
       "      <th>3</th>\n",
       "      <td>19</td>\n",
       "      <td>coke</td>\n",
       "    </tr>\n",
       "    <tr>\n",
       "      <th>4</th>\n",
       "      <td>31</td>\n",
       "      <td>pepsi</td>\n",
       "    </tr>\n",
       "    <tr>\n",
       "      <th>5</th>\n",
       "      <td>28</td>\n",
       "      <td>coke</td>\n",
       "    </tr>\n",
       "  </tbody>\n",
       "</table>\n",
       "</div>"
      ],
      "text/plain": [
       "   age    soft_drink\n",
       "0   25          coke\n",
       "1   42         pepsi\n",
       "2   37  mountain dew\n",
       "3   19          coke\n",
       "4   31         pepsi\n",
       "5   28          coke"
      ]
     },
     "execution_count": 87,
     "metadata": {},
     "output_type": "execute_result"
    }
   ],
   "source": [
    "df"
   ]
  },
  {
   "cell_type": "code",
   "execution_count": 88,
   "id": "2b8afb90-2f70-4eed-ae99-1538c0298acd",
   "metadata": {},
   "outputs": [
    {
     "data": {
      "text/plain": [
       "soft_drink\n",
       "coke            3\n",
       "mountain dew    1\n",
       "pepsi           2\n",
       "dtype: int64"
      ]
     },
     "execution_count": 88,
     "metadata": {},
     "output_type": "execute_result"
    }
   ],
   "source": [
    "df.groupby(\"soft_drink\").size()"
   ]
  },
  {
   "cell_type": "code",
   "execution_count": null,
   "id": "f0430476-ec51-4312-a2a2-8a525f5d0157",
   "metadata": {},
   "outputs": [],
   "source": [
    "Q6. A company is interested in examining the relationship between the number of sales calls made per day\n",
    "    and the number of sales made per week. The company collected data on both variables from a sample of\n",
    "    30 sales representatives. Calculate the Pearson correlation coefficient between these two variables."
   ]
  },
  {
   "cell_type": "code",
   "execution_count": 89,
   "id": "50ea1b6d-243d-4ab2-b242-79fdb30ffd99",
   "metadata": {},
   "outputs": [],
   "source": [
    "data = { 'sales_calls' : [30, 25, 40, 35, 20, 15, 30, 25, 45, 40, 20, 15, 30, 25, 40, 35, 20, 15, 30, 25, 40, 35, 20, 15, \n",
    "               30, 25, 40, 35, 20, 15],\n",
    "         \n",
    "          \"sales_per_week\" : [10, 8, 12, 11, 6, 5, 9, 8, 13, 12, 6, 5, 10, 8, 12, 11, 6, 5, 10, 8, 12, 11, 6, 5, 10, 8, 12, 11,\n",
    "                              6, 5]}"
   ]
  },
  {
   "cell_type": "code",
   "execution_count": 90,
   "id": "0d821048-2891-4298-9a86-f8c0bc794ca8",
   "metadata": {},
   "outputs": [],
   "source": [
    "df = pd.DataFrame(data)"
   ]
  },
  {
   "cell_type": "code",
   "execution_count": 91,
   "id": "f83a8129-a41c-4815-b073-3a8c14001eb2",
   "metadata": {},
   "outputs": [
    {
     "data": {
      "text/html": [
       "<div>\n",
       "<style scoped>\n",
       "    .dataframe tbody tr th:only-of-type {\n",
       "        vertical-align: middle;\n",
       "    }\n",
       "\n",
       "    .dataframe tbody tr th {\n",
       "        vertical-align: top;\n",
       "    }\n",
       "\n",
       "    .dataframe thead th {\n",
       "        text-align: right;\n",
       "    }\n",
       "</style>\n",
       "<table border=\"1\" class=\"dataframe\">\n",
       "  <thead>\n",
       "    <tr style=\"text-align: right;\">\n",
       "      <th></th>\n",
       "      <th>sales_calls</th>\n",
       "      <th>sales_per_week</th>\n",
       "    </tr>\n",
       "  </thead>\n",
       "  <tbody>\n",
       "    <tr>\n",
       "      <th>sales_calls</th>\n",
       "      <td>1.00000</td>\n",
       "      <td>0.99078</td>\n",
       "    </tr>\n",
       "    <tr>\n",
       "      <th>sales_per_week</th>\n",
       "      <td>0.99078</td>\n",
       "      <td>1.00000</td>\n",
       "    </tr>\n",
       "  </tbody>\n",
       "</table>\n",
       "</div>"
      ],
      "text/plain": [
       "                sales_calls  sales_per_week\n",
       "sales_calls         1.00000         0.99078\n",
       "sales_per_week      0.99078         1.00000"
      ]
     },
     "execution_count": 91,
     "metadata": {},
     "output_type": "execute_result"
    }
   ],
   "source": [
    "df.corr(method='pearson')"
   ]
  },
  {
   "cell_type": "code",
   "execution_count": null,
   "id": "66840073-c35d-475a-9dd6-28c6d903abfd",
   "metadata": {},
   "outputs": [],
   "source": []
  }
 ],
 "metadata": {
  "kernelspec": {
   "display_name": "Python 3 (ipykernel)",
   "language": "python",
   "name": "python3"
  },
  "language_info": {
   "codemirror_mode": {
    "name": "ipython",
    "version": 3
   },
   "file_extension": ".py",
   "mimetype": "text/x-python",
   "name": "python",
   "nbconvert_exporter": "python",
   "pygments_lexer": "ipython3",
   "version": "3.10.8"
  }
 },
 "nbformat": 4,
 "nbformat_minor": 5
}
