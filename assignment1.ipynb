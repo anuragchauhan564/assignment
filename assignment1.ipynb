{
 "cells": [
  {
   "cell_type": "code",
   "execution_count": 2,
   "id": "8468871e-c539-4418-86fb-f3b96b5b1bbf",
   "metadata": {},
   "outputs": [],
   "source": [
    "Q1. Explain with an example each when to use a for loop and a while loop.\n",
    "\n",
    "Ans - The for loop iterates through a collection or iterable object (like - set, string, list etc.) or generator function.\n",
    "    ex-"
   ]
  },
  {
   "cell_type": "code",
   "execution_count": 9,
   "id": "8604e11a-586e-4ba5-9091-a44fa81a1db4",
   "metadata": {},
   "outputs": [
    {
     "name": "stdout",
     "output_type": "stream",
     "text": [
      "1\n",
      "2\n",
      "3\n",
      "4\n",
      "5\n",
      "6\n",
      "7\n",
      "8\n",
      "9\n",
      "10\n"
     ]
    }
   ],
   "source": [
    "l1= [1,2,3,4,5,6,7,8,9,10]\n",
    "for i in l1:\n",
    "    print(i)"
   ]
  },
  {
   "cell_type": "code",
   "execution_count": null,
   "id": "10466f1c-bd4d-4926-abba-c1c7914ede3f",
   "metadata": {},
   "outputs": [],
   "source": [
    "     The while statement simply loops until a condition is False, while check the condition before starting the while ."
   ]
  },
  {
   "cell_type": "code",
   "execution_count": 6,
   "id": "969eb5bb-ad90-4cdf-89a0-f89b961f97ff",
   "metadata": {},
   "outputs": [
    {
     "name": "stdout",
     "output_type": "stream",
     "text": [
      "number  is  1\n",
      "number  is  2\n",
      "number  is  3\n",
      "number  is  4\n",
      "number  is  5\n",
      "number  is  6\n",
      "number  is  7\n",
      "number  is  8\n",
      "number  is  9\n",
      "number  is  10\n"
     ]
    }
   ],
   "source": [
    "num = 10\n",
    "counter = 1\n",
    "while counter <=num:\n",
    "    print(\"number  is \",counter)\n",
    "    counter = counter +1"
   ]
  },
  {
   "cell_type": "code",
   "execution_count": null,
   "id": "fc129144-7017-4559-9ee6-03aad77f0548",
   "metadata": {},
   "outputs": [],
   "source": [
    "Q2. Write a python program to print the sum and product of the first 10 natural numbers using for\n",
    "    and while loop."
   ]
  },
  {
   "cell_type": "code",
   "execution_count": 7,
   "id": "6b82408d-bb1f-415a-a5d3-466c8c7c6a9f",
   "metadata": {},
   "outputs": [],
   "source": [
    "# for loop SUM and PRODUCT OF THE FIRST 10 NATURAL NUMBER"
   ]
  },
  {
   "cell_type": "code",
   "execution_count": 8,
   "id": "fd280544-9653-4d8b-80bb-564c3f8f153f",
   "metadata": {},
   "outputs": [
    {
     "name": "stdout",
     "output_type": "stream",
     "text": [
      "Sum of first 10 natural numbers is :  55\n",
      "Product of first 10 natural number is :  3628800\n"
     ]
    }
   ],
   "source": [
    "add = 0\n",
    "product = 1\n",
    "for i in range(1,11):\n",
    "    add = add +i\n",
    "    product = product *i\n",
    "print(\"Sum of first 10 natural numbers is : \",add)\n",
    "print(\"Product of first 10 natural number is : \",product)"
   ]
  },
  {
   "cell_type": "code",
   "execution_count": null,
   "id": "3c52a000-dd44-41da-b1a7-2303ed5593d4",
   "metadata": {},
   "outputs": [],
   "source": [
    "Q3. Create a python program to compute the electricity bill for a household.\n",
    "\n",
    "The per-unit charges in rupees are as follows: For the first 100 units, the user will be charged Rs. 4.5 per\n",
    "unit, for the next 100 units, the user will be charged Rs. 6 per unit, and for the next 100 units, the user will\n",
    "be charged Rs. 10 per unit, After 300 units and above the user will be charged Rs. 20 per unit.\n",
    "\n",
    "You are required to take the units of electricity consumed in a month from the user as input.\n",
    "\n",
    "Your program must pass this test case: when the unit of electricity consumed by the user in a month is\n",
    "310, the total electricity bill should be 2250."
   ]
  },
  {
   "cell_type": "code",
   "execution_count": 18,
   "id": "ff05a317-e338-4c7f-a2e9-975712718dd2",
   "metadata": {},
   "outputs": [
    {
     "name": "stdin",
     "output_type": "stream",
     "text": [
      "Enter the units of Electricity consume :  310\n"
     ]
    },
    {
     "name": "stdout",
     "output_type": "stream",
     "text": [
      "Your Electricity Bill is :  2250.0\n"
     ]
    }
   ],
   "source": [
    "unit = int(input(\"Enter the units of Electricity consume : \"))\n",
    "bill = 0\n",
    "rate = 0\n",
    "\n",
    "if unit > 0:\n",
    "    if unit > 300:\n",
    "        rate = unit -300\n",
    "        bill = bill + rate * 20\n",
    "        unit  = unit - rate        \n",
    "    if unit >= 200 :\n",
    "        rate = unit - 200\n",
    "        bill = bill + rate *10\n",
    "        unit = unit - rate\n",
    "    if unit >= 100:\n",
    "        rate = unit - 100\n",
    "        bill = bill + rate * 6\n",
    "        unit = unit - rate\n",
    "    if unit <=100:\n",
    "        bill = bill + unit * 4.5\n",
    "else:\n",
    "    print(\"Wrong Input!!\")\n",
    "print(\"Your Electricity Bill is : \",bill)   "
   ]
  },
  {
   "cell_type": "code",
   "execution_count": null,
   "id": "b3021ef4-7cce-45b6-8f6c-97f6b55dd125",
   "metadata": {},
   "outputs": [],
   "source": [
    "Q4. Create a list of numbers from 1 to 100. Use for loop and while loop to calculate the cube of each\n",
    "    number and if the cube of that number is divisible by 4 or 5 then append that number in a list and print\n",
    "    that list."
   ]
  },
  {
   "cell_type": "code",
   "execution_count": 23,
   "id": "039288bf-1c95-4282-a9c8-a0cbd90bfb72",
   "metadata": {},
   "outputs": [
    {
     "name": "stdout",
     "output_type": "stream",
     "text": [
      "[2, 4, 5, 6, 8, 10, 12, 14, 15, 16, 18, 20, 22, 24, 25, 26, 28, 30, 32, 34, 35, 36, 38, 40, 42, 44, 45, 46, 48, 50, 52, 54, 55, 56, 58, 60, 62, 64, 65, 66, 68, 70, 72, 74, 75, 76, 78, 80, 82, 84, 85, 86, 88, 90, 92, 94, 95, 96, 98, 100]\n"
     ]
    }
   ],
   "source": [
    "# for loop \n",
    "l1 = []\n",
    "l2 = []\n",
    "for i in range(1,101):\n",
    "    l2.append(i)\n",
    "for n in l2:\n",
    "    cub = n*n*n\n",
    "    if cub % 4 == 0 or cub % 5 == 0:\n",
    "        l1.append(n)\n",
    "\n",
    "print(l1)\n"
   ]
  },
  {
   "cell_type": "code",
   "execution_count": 27,
   "id": "614d7ccb-66b2-48b0-8272-90d46187add0",
   "metadata": {},
   "outputs": [
    {
     "name": "stdout",
     "output_type": "stream",
     "text": [
      "[2, 4, 5, 6, 8, 10, 12, 14, 15, 16, 18, 20, 22, 24, 25, 26, 28, 30, 32, 34, 35, 36, 38, 40, 42, 44, 45, 46, 48, 50, 52, 54, 55, 56, 58, 60, 62, 64, 65, 66, 68, 70, 72, 74, 75, 76, 78, 80, 82, 84, 85, 86, 88, 90, 92, 94, 95, 96, 98, 100]\n"
     ]
    }
   ],
   "source": [
    "# while loop\n",
    "\n",
    "l3 = []\n",
    "l4 = []\n",
    "for i in range(1,101):\n",
    "    l4.append(i)\n",
    "n = 1\n",
    "while n<=100:\n",
    "    cub = n*n*n\n",
    "    if cub % 4 == 0 or cub % 5 == 0:\n",
    "        l3.append(n)\n",
    "    n = n + 1\n",
    "print(l3)\n"
   ]
  },
  {
   "cell_type": "code",
   "execution_count": null,
   "id": "7c42ddca-7f4b-40c2-8934-e52bf7a4689e",
   "metadata": {},
   "outputs": [],
   "source": [
    "Q5. Write a program to filter count vowels in the below-given string.\n",
    "    string = \"I want to become a data scientist\""
   ]
  },
  {
   "cell_type": "code",
   "execution_count": 98,
   "id": "cf1bf9c1-42f4-4284-b702-e224a990a962",
   "metadata": {},
   "outputs": [
    {
     "name": "stdout",
     "output_type": "stream",
     "text": [
      "Number of vowels are: 12\n"
     ]
    }
   ],
   "source": [
    "string=\"I want to become a data scientist\"\n",
    "count = 0\n",
    "vowels=0\n",
    "for i in string:\n",
    "      if(i=='a' or i=='e' or i=='i' or i=='o' or i=='u' or i=='A' or i=='E' or i=='I' or i=='O' or i=='U'):\n",
    "            count=count+1\n",
    "print(\"Number of vowels are:\",count)\n"
   ]
  },
  {
   "cell_type": "code",
   "execution_count": null,
   "id": "3e6668a4-1f14-473f-b116-857ecf78c715",
   "metadata": {},
   "outputs": [],
   "source": []
  }
 ],
 "metadata": {
  "kernelspec": {
   "display_name": "Python 3 (ipykernel)",
   "language": "python",
   "name": "python3"
  },
  "language_info": {
   "codemirror_mode": {
    "name": "ipython",
    "version": 3
   },
   "file_extension": ".py",
   "mimetype": "text/x-python",
   "name": "python",
   "nbconvert_exporter": "python",
   "pygments_lexer": "ipython3",
   "version": "3.10.8"
  }
 },
 "nbformat": 4,
 "nbformat_minor": 5
}
