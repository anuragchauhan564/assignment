{
 "cells": [
  {
   "cell_type": "code",
   "execution_count": null,
   "id": "2e7591c4-5f35-48e2-a06c-f720c467f429",
   "metadata": {},
   "outputs": [],
   "source": [
    "Q1. What is multithreading in python?Why is it used? Name the module used to handle threads in python"
   ]
  },
  {
   "cell_type": "code",
   "execution_count": null,
   "id": "55c36e0b-d012-4bf9-8d00-7be166e3ee97",
   "metadata": {},
   "outputs": [],
   "source": [
    "Ans:-  Multithreading is a threading technique in Python programming to run multiple threads concurrently by rapidly\n",
    "       switching between threads with a CPU help (called context switching).\n",
    "    \n",
    "        Besides, it allows sharing of its data space with the main threads inside a process that share information and \n",
    "        communication with other threads easier than individual processes. Multithreading aims to perform multiple tasks simultaneously, \n",
    "        which increases performance, speed and improves the rendering of the application.\n",
    "        \n",
    "        use for :-\n",
    "        1. It ensures effective utilization of computer system resources.\n",
    "        2. Multithreaded applications are more responsive.\n",
    "        3.It shares resources and its state with sub-threads (child) which makes it more economical.\n",
    "        4.It makes the multiprocessor architecture more effective due to similarity.\n",
    "        5.It saves time by executing multiple threads at the same time.\n",
    "        6.The system does not require too much memory to store multiple threads.\n",
    "        \n",
    "        \n",
    "        \n",
    "        There are two modules which support the usage of threads in Python:\n",
    "\n",
    "            1.thread\n",
    "            2.threading"
   ]
  },
  {
   "cell_type": "code",
   "execution_count": null,
   "id": "a77d1cd4-153e-4212-b64b-675beb0f2d07",
   "metadata": {},
   "outputs": [],
   "source": [
    "Q2. Why threading module used? Write the use of the following functions\n",
    "     1.activeCount()\n",
    "     2.currentThread()\n",
    "    3.enumerate()"
   ]
  },
  {
   "cell_type": "code",
   "execution_count": null,
   "id": "4bcbf5d0-c7c6-496d-95f2-ef8874e0689e",
   "metadata": {},
   "outputs": [],
   "source": [
    "Ans:- This method starts a new thread and return its identifier. \n",
    "        The thread executes the function \"function\" (function is a reference to a function) with the argument list args \n",
    "        (which must be a list or a tuple).The optional kwargs argument specifies a dictionary of keyword arguments\n",
    "        \n",
    "        \n",
    "        1. activeCount() :- used from the threading module is used to count the currently active or running threads.\n",
    "        \n",
    "        2.currentThread() :- It is used to return the current Thread object, which corresponds to the caller's thread of control.\n",
    "    \n",
    "        3.enumerate()  :- the enumerate function takes as input, an iterable and adds a counter to each iterable element, and returns \n",
    "                          an enumerate object."
   ]
  },
  {
   "cell_type": "code",
   "execution_count": null,
   "id": "ca2c7bb3-c3ac-4c65-8329-b0c1321e9bf1",
   "metadata": {},
   "outputs": [],
   "source": [
    "Q3. Explain the following functions\n",
    "         1.run()\n",
    "         2.start()\n",
    "         3. join()\n",
    "        4.isAlive()"
   ]
  },
  {
   "cell_type": "code",
   "execution_count": null,
   "id": "5ada3cb9-cb01-470b-8b5d-e94051262939",
   "metadata": {},
   "outputs": [],
   "source": [
    "Ans : - 1 .run() method is an inbuilt method of the Thread class of the threading module in Python. \n",
    "         This method is used to represent a thread's activity. It calls the method expressed as the target\n",
    "        argument in the Thread object along with the positional and keyword arguments taken from the args and \n",
    "        kwargs arguments, respectively.\n",
    "        \n",
    "        2. .start() A start method is the technique used to start child processes in Python\n",
    "        \n",
    "        3. .join()   The join in Python takes all the elements of an iterable and joins them into a single string. \n",
    "                    It will return the joined string. \n",
    "        \n",
    "         4.isAlive() is_alive() method is an inbuilt method of the Thread class of the threading module in Python.\n",
    "            It uses a Thread object, and checks whether that thread is alive or not, ie, it is still running or not. \n",
    "            This method returns True before the run() starts until just after the run() method is executed."
   ]
  },
  {
   "cell_type": "code",
   "execution_count": null,
   "id": "0974706c-7c98-4847-8aec-a4dc1b0fafa1",
   "metadata": {},
   "outputs": [],
   "source": [
    "4. Write a python program to create two threads. Thread one must print the list of squares and thread\n",
    "    two must print the list of cubes"
   ]
  },
  {
   "cell_type": "code",
   "execution_count": 2,
   "id": "394c9f97-0900-4d75-95b5-e8724e468c7b",
   "metadata": {},
   "outputs": [
    {
     "name": "stdout",
     "output_type": "stream",
     "text": [
      "Square: 100\n",
      "Cube: 1000\n"
     ]
    }
   ],
   "source": [
    "import threading\n",
    " \n",
    "def print_cube(num):\n",
    "     print(\"Cube: {}\" .format(num * num * num))\n",
    "def print_square(num):\n",
    "     print(\"Square: {}\" .format(num * num))\n",
    " \n",
    " \n",
    "if __name__ ==\"__main__\":\n",
    "\n",
    "    t1 = threading.Thread(target=print_square, args=(10,))\n",
    "    t2 = threading.Thread(target=print_cube, args=(10,))\n",
    "    \n",
    "    t1.start()\n",
    "    t2.start()\n",
    " \n",
    "    t1.join()\n",
    "    t2.join()\n",
    " "
   ]
  },
  {
   "cell_type": "code",
   "execution_count": null,
   "id": "f2975bd5-475b-4ba6-8feb-3df252e76e33",
   "metadata": {},
   "outputs": [],
   "source": [
    "Q5. State advantages and disadvantages of multithreading"
   ]
  },
  {
   "cell_type": "code",
   "execution_count": null,
   "id": "ed7a9320-3ed2-4135-b083-d9d0c293dc35",
   "metadata": {},
   "outputs": [],
   "source": [
    "Ans :\n",
    "    ADVANTAGES :\n",
    "    1. Enhanced performance by decreased development time\n",
    "    2. Simplified and streamlined program coding\n",
    "    3. Improvised GUI responsiveness\n",
    "    4. Simultaneous and parallelized occurrence of tasks\n",
    "    5. Better use of cache storage by utilization of resources\n",
    "    6. Decreased cost of maintenance\n",
    "    7. Better use of CPU resource\n",
    "    \n",
    "    DISADVANTAGES\n",
    "    1. Complex debugging and testing processes\n",
    "    2. Overhead switching of context\n",
    "    3. Increased potential for deadlock occurrence\n",
    "    4. Increased difficulty level in writing a program\n",
    "    5. Unpredictable results"
   ]
  },
  {
   "cell_type": "code",
   "execution_count": null,
   "id": "6ee9a623-4d7c-4091-9e9d-81abca3c5475",
   "metadata": {},
   "outputs": [],
   "source": [
    "6. Explain deadlocks and race conditions."
   ]
  },
  {
   "cell_type": "code",
   "execution_count": null,
   "id": "76b06f6b-b397-48bc-8087-5116d766d40e",
   "metadata": {},
   "outputs": [],
   "source": [
    "Ans :-Race conditions :- A race condition occurs when two threads access a shared variable at the same time. \n",
    "                         The first thread reads the variable, and the second thread reads the same value from the variable.\n",
    "                         Then the first thread and second thread perform their operations on the value, and they race to see which thread can \n",
    "                        write the value last to the shared variable. The value of the thread that writes its value last is preserved, because the\n",
    "                        thread is writing over the value that the previous thread wrote.\n",
    "    \n",
    "    \n",
    "    Deadlock :-A deadlock occurs when two threads each lock a different variable at the same time and then try to lock the variable\n",
    "                that the other thread already locked. As a result, each thread stops executing and waits for the other thread to release \n",
    "                the variable. Because each thread is holding the variable that the other thread wants, nothing occurs, and the threads remain\n",
    "                deadlocked."
   ]
  }
 ],
 "metadata": {
  "kernelspec": {
   "display_name": "Python 3 (ipykernel)",
   "language": "python",
   "name": "python3"
  },
  "language_info": {
   "codemirror_mode": {
    "name": "ipython",
    "version": 3
   },
   "file_extension": ".py",
   "mimetype": "text/x-python",
   "name": "python",
   "nbconvert_exporter": "python",
   "pygments_lexer": "ipython3",
   "version": "3.10.8"
  }
 },
 "nbformat": 4,
 "nbformat_minor": 5
}
