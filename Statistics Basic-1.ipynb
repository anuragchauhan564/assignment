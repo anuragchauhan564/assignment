{
 "cells": [
  {
   "cell_type": "code",
   "execution_count": null,
   "id": "9c2b80d9-39cc-499b-a707-2f5fd698f289",
   "metadata": {},
   "outputs": [],
   "source": [
    "Q1. What is Statistics?"
   ]
  },
  {
   "cell_type": "code",
   "execution_count": null,
   "id": "1e034de6-2821-48d7-ab06-649577688893",
   "metadata": {},
   "outputs": [],
   "source": [
    "Ans : Statistics is the Science of collecting organizing and analysing data."
   ]
  },
  {
   "cell_type": "code",
   "execution_count": null,
   "id": "1bebb4f9-a3f1-4ad5-81ab-69253a62a606",
   "metadata": {},
   "outputs": [],
   "source": [
    "Q2. Define the different types of statistics and give an example of when each type might be used."
   ]
  },
  {
   "cell_type": "code",
   "execution_count": null,
   "id": "be90324f-902b-417f-995b-455766cd2f24",
   "metadata": {},
   "outputs": [],
   "source": [
    "Ans : Statistics have majorly categorised into two types:\n",
    "\n",
    "        1.Descriptive statistics\n",
    "             In this type of statistics, the data is summarised through the given observations.\n",
    "             The summarisation is one from a sample of population using parameters such as the mean\n",
    "             or standard deviation.\n",
    "            Descriptive statistics is a way to organise, represent and describe a collection of data\n",
    "            using tables, graphs, and summary measures.\n",
    "            \n",
    "        2.Inferential statistics\n",
    "           Inferential Statistics is a method that allows us to use information collected from a sample\n",
    "           to make decisions, predictions or inferences from a population.\n",
    "          \n",
    "            \n",
    "            eg : Let we have the height of 30 student in a class of a college.\n",
    "            \n",
    "            Descriptive \n",
    "               what is the average height of the student in the class.\n",
    "                \n",
    "            Inferential \n",
    "              Are the height of the student in a classroom is same as expected  in the college."
   ]
  },
  {
   "cell_type": "code",
   "execution_count": null,
   "id": "2c55ba90-b95a-4761-b742-6e7057dece6b",
   "metadata": {},
   "outputs": [],
   "source": [
    "Q3. What are the different types of data and how do they differ from each other? Provide an example of\n",
    "    each type of data."
   ]
  },
  {
   "cell_type": "code",
   "execution_count": null,
   "id": "01d9a1b5-27f4-4e07-893c-df052322137f",
   "metadata": {},
   "outputs": [],
   "source": [
    "Ans : There are two type of data \n",
    "\n",
    "   1. Quantitative Data :Quantitative data can be expressed in numerical values, making it countable and \n",
    "       including statistical data analysis.These kinds of data are also known as Numerical data.\n",
    "        It answers the questions like “how much,” “how many,” and “how often\".\n",
    "        \n",
    "        \n",
    "    The Quantitative data are further classified into two parts :\n",
    "        \n",
    "       1. Discrete Data: Discrete Data fall under or natural nuber  Whole number\n",
    "                    eg : Total number of the student in a class \n",
    "        2. Continuous Data : Any number comes under the Continuous Data \n",
    "                   eg : Length of the object, height of the object\n",
    "    \n",
    "    2. Qualitative Data: Qualitative or Categorical Data is data that can’t be measured or counted in the form\n",
    "                         of numbers.These types of data are sorted by category, not by number. That’s why it is\n",
    "                         also known as Categorical Data\n",
    "            \n",
    "        it is also classified into two parts \n",
    "        \n",
    "        1. Nominal Data: Nominal Data is used to label variables without any order or quantitative value. \n",
    "                  eg : The color of hair can be considered nominal data, as one color can’t be compared with \n",
    "                        another color.\n",
    "                Colour of hair (Blonde, red, Brown, Black, etc.)\n",
    "                Marital status (Single, Widowed, Married)\n",
    "                Nationality (Indian, German, American)\n",
    "                Gender (Male, Female, Others)\n",
    "                Eye Color (Black, Brown, etc.)\n",
    "        \n",
    "        \n",
    "        2.Ordinal data: Ordinal data have natural ordering where a number is present in some kind of order by \n",
    "                        their position on the scale.\n",
    "            eg : Letter grades in the exam (A, B, C, D, etc.)\n",
    "                 Education Level (Higher, Secondary, Primary)"
   ]
  },
  {
   "cell_type": "code",
   "execution_count": null,
   "id": "72263ebd-ce39-44c7-abf5-62eada683d80",
   "metadata": {},
   "outputs": [],
   "source": [
    "Q4. Categorise the following datasets with respect to quantitative and qualitative data types:\n",
    "(i) Grading in exam: A+, A, B+, B, C+, C, D, E\n",
    "(ii) Colour of mangoes: yellow, green, orange, red\n",
    "(iii) Height data of a class: [178.9, 179, 179.5, 176, 177.2, 178.3, 175.8,...]\n",
    "(iv) Number of mangoes exported by a farm: [500, 600, 478, 672, ...]"
   ]
  },
  {
   "cell_type": "code",
   "execution_count": null,
   "id": "cb496e2e-116e-4491-be40-7f299564bfad",
   "metadata": {},
   "outputs": [],
   "source": [
    "Ans : (i) Qualitative data  - Ordinal data\n",
    "      (ii) Qualitative data - Nominal Data\n",
    "      (iii) Quantitative data -Continuous Data \n",
    "      (iv)  Quantitative data - Discrete Data"
   ]
  },
  {
   "cell_type": "code",
   "execution_count": null,
   "id": "64bb9c3a-fde2-4dd9-9c2c-6e9f11fe0540",
   "metadata": {},
   "outputs": [],
   "source": [
    "Q5. Explain the concept of levels of measurement and give an example of a variable for each level."
   ]
  },
  {
   "cell_type": "code",
   "execution_count": null,
   "id": "8125b107-20fe-4ef6-b54c-81d677e32b5e",
   "metadata": {},
   "outputs": [],
   "source": [
    "Ans : Levels of measurement, also called scales of measurement are descriptors that indicate the precision\n",
    "        with which you can record variables\n",
    "    \n",
    "        There are 4 levels of measurement:\n",
    "\n",
    "        1.Nominal: the data can only be categorized.Nominal measurement organizes data by labeling items in\n",
    "                   mutually exclusive categories\n",
    "            eg : Gender\n",
    "                 Ethnicity\n",
    "                 Marital status\n",
    "                 Income level\n",
    "                \n",
    "        2.Ordinal: the data can be categorized and ranked\n",
    "             eg : Top 5 Olympic medallists\n",
    "                  Language ability \n",
    "                \n",
    "        3.Interval: the data can be categorized, ranked, and evenly spaced\n",
    "              eg : Test scores (e.g., IQ or exams)\n",
    "                    Personality inventories\n",
    "                    Temperature in Fahrenheit or Celsius\n",
    "                    \n",
    "        4.Ratio: the data can be categorized, ranked, evenly spaced, and has a natural zero\n",
    "        \n",
    "                eg : Height\n",
    "                     Age\n",
    "                     Weight\n",
    "                     Temperature in Kelvin"
   ]
  },
  {
   "cell_type": "code",
   "execution_count": null,
   "id": "e051adde-af4d-46a0-9dd8-007f9b83178e",
   "metadata": {},
   "outputs": [],
   "source": [
    "Q6. Why is it important to understand the level of measurement when analyzing data? Provide an\n",
    "    example to illustrate your answer."
   ]
  },
  {
   "cell_type": "code",
   "execution_count": null,
   "id": "d218c3e9-5e95-4bba-86aa-c7af9b6dee59",
   "metadata": {},
   "outputs": [],
   "source": [
    "Ans : It is important to understand the level of measurement of variables in research, because the level of \n",
    "      measurement determines the type of statistical analysis that can be conducted, and, therefore, the type \n",
    "      of conclusions that can be drawn from the research."
   ]
  },
  {
   "cell_type": "code",
   "execution_count": null,
   "id": "0f47bfe8-aeb4-48e7-a5da-762c145ebd71",
   "metadata": {},
   "outputs": [],
   "source": [
    "Q7. How nominal data type is different from ordinal data type."
   ]
  },
  {
   "cell_type": "code",
   "execution_count": null,
   "id": "5808e31d-dfca-48db-8d0e-b22668329ee7",
   "metadata": {},
   "outputs": [],
   "source": [
    "Ans : Key Difference between Nominal and Ordinal Data\n",
    "    \n",
    "         1.Nominal data is a group of non-parametric variables, whereas Ordinal data is a group of non-parametric ordered variables.\n",
    "        \n",
    "        2.Ordinal data is analyzed by mode, median, quartiles, and percentile, whereas nominal data is analyzed by grouping variables\n",
    "          into categories and calculating the distribution mode.\n",
    "        3.Nominal data are categorical, whereas Ordinal data are both categorical and quantitative.\n",
    "        4.Both nominal and ordinal data can be analyzed using percentage and mode."
   ]
  },
  {
   "cell_type": "code",
   "execution_count": null,
   "id": "8139d47d-922d-4cc2-bde3-8c916d124f59",
   "metadata": {},
   "outputs": [],
   "source": [
    "Q8. Which type of plot can be used to display data in terms of range?"
   ]
  },
  {
   "cell_type": "code",
   "execution_count": null,
   "id": "e6b60937-e3df-4d8f-9f85-23fc0b61af03",
   "metadata": {},
   "outputs": [],
   "source": [
    "Ans : 1.histogram\n",
    "      2. Box plot"
   ]
  },
  {
   "cell_type": "code",
   "execution_count": null,
   "id": "bc538fde-91e6-4572-a729-0b12a212d332",
   "metadata": {},
   "outputs": [],
   "source": [
    "Q9. Describe the difference between descriptive and inferential statistics. Give an example of each\n",
    "    type of statistics and explain how they are used."
   ]
  },
  {
   "cell_type": "code",
   "execution_count": null,
   "id": "583dffc3-6548-4fc8-aba6-49b700db1424",
   "metadata": {},
   "outputs": [],
   "source": [
    "Ans: Descriptive statistics summarize the characteristics of a data set.\n",
    "     \n",
    "        eg : Suppose the marks of students belonging to class A are {70, 85, 90, 65} and class B are {60, 40, 89, 96}.\n",
    "             Then the average marks of each class can be given by the mean as 77.5 and 71.25. This denotes that the average\n",
    "             of class A is more than class B.\n",
    "                \n",
    "            it is used to get mean miden and mode.\n",
    "\n",
    "        Inferential statistics allow you to test a hypothesis or assess whether your data is generalizable to the broader\n",
    "        population.\n",
    "    \n",
    "            eg : Suppose the mean marks of 100 students in a particular country are known. \n",
    "                 Using this sample information the mean marks of students in the country can be approximated using inferential\n",
    "                statistics\n",
    "    \n",
    "    "
   ]
  },
  {
   "cell_type": "code",
   "execution_count": null,
   "id": "33520ce0-3088-4d25-8228-4bd0e1d6b0d3",
   "metadata": {},
   "outputs": [],
   "source": [
    "Q10. What are some common measures of central tendency and variability used in statistics? Explain\n",
    "     how each measure can be used to describe a dataset."
   ]
  },
  {
   "cell_type": "code",
   "execution_count": null,
   "id": "c2bece53-b775-439d-92c4-ba532aafac4b",
   "metadata": {},
   "outputs": [],
   "source": [
    "Ans:  Some common measures of central tendency and variability used in ststistics- \n",
    "\n",
    "      Central tendency : the tendency of quantitative data to cluster around some central value.\n",
    "                          The closeness with which the values surround the central value is commonly \n",
    "                          quantified using the standard deviation.\n",
    "      \n",
    "    1.Mean: The sum of all measurements divided by the number of observations.\n",
    "            Can be used with discrete and continuous data. It is value that is most common.\n",
    "        \n",
    "    2.Median: The middle value that separates the higher half from the lower half.\n",
    "               Mean and median can be compared with each other to determine if the population is\n",
    "              of normal distribution or not. Numbers are arranged in either ascending or descending order. \n",
    "             The middle number is than taken.\n",
    "        \n",
    "    3.Mode: The most frequent value. It shows most popular option and is the highest bar in histogram.\n",
    "            Example of use: to determine the most common blood group.\n",
    "        \n",
    "        \n",
    "        \n",
    "        \n",
    "    Measures of variability\n",
    "            1.Variance:  A measure of how far a set of numbers are spread out from each other. \n",
    "                         It describes how far the numbers lie from the mean (expected value). \n",
    "                         It is the square of standard deviation.\n",
    "                \n",
    "            2.Standard deviation (SD): it is only used for data that are “normally distributed”. \n",
    "                                       SD indicates how much a set of values is spread around the average.\n",
    "                                       SD is determined by the variance (SD=the root of the variance)."
   ]
  }
 ],
 "metadata": {
  "kernelspec": {
   "display_name": "Python 3 (ipykernel)",
   "language": "python",
   "name": "python3"
  },
  "language_info": {
   "codemirror_mode": {
    "name": "ipython",
    "version": 3
   },
   "file_extension": ".py",
   "mimetype": "text/x-python",
   "name": "python",
   "nbconvert_exporter": "python",
   "pygments_lexer": "ipython3",
   "version": "3.10.8"
  }
 },
 "nbformat": 4,
 "nbformat_minor": 5
}
