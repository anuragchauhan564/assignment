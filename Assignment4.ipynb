{
 "cells": [
  {
   "cell_type": "code",
   "execution_count": null,
   "id": "043b4a63-edca-4424-9876-6c5d6b6fec6d",
   "metadata": {},
   "outputs": [],
   "source": [
    "Q1. Explain Class and Object with respect to Object-Oriented Programming. Give a suitable example."
   ]
  },
  {
   "cell_type": "code",
   "execution_count": null,
   "id": "abcfc41c-b468-4086-9cd0-83b6bb01b814",
   "metadata": {},
   "outputs": [],
   "source": [
    "Ans --: A class is considered as a blueprint of objects. \n",
    "        to create a class we write class keyword followed by the class_name (class Bike:)\n",
    "    \n",
    "        An object is called an instance of a class.  \n",
    "        to create a object of a class we write \n",
    "        \n",
    "        boject_name  = class_name()\n",
    "        \n",
    "        For example, suppose Bike is a class then we can create objects like bike1,  \n",
    "        bike2, etc from the class Bike.\n",
    "        \n",
    "        ex:-  class bike:\n",
    "                  pass\n",
    "            bike1 = bike()"
   ]
  },
  {
   "cell_type": "code",
   "execution_count": null,
   "id": "f4749641-24b6-40a5-bd45-e8c940f7f587",
   "metadata": {},
   "outputs": [],
   "source": [
    "Q2. Name the four pillars of OOPs."
   ]
  },
  {
   "cell_type": "code",
   "execution_count": null,
   "id": "8f319c46-17a4-40c8-bf8b-a75338260b7e",
   "metadata": {},
   "outputs": [],
   "source": [
    "Ans :- Four pillars of  OOPs are\n",
    "       1. Inheritance, 2. Polymorphism, 3. Encapsulation 4. Abstraction."
   ]
  },
  {
   "cell_type": "code",
   "execution_count": null,
   "id": "e80bfb47-4501-4303-8daf-3e39fc71d207",
   "metadata": {},
   "outputs": [],
   "source": [
    "Q3. Explain why the __init__() function is used. Give a suitable example."
   ]
  },
  {
   "cell_type": "code",
   "execution_count": null,
   "id": "12283eff-50c8-4896-8b2c-5bf591d7c9de",
   "metadata": {},
   "outputs": [],
   "source": [
    "Ans :- THe __init__() function is used for to initialize the attributes of that class, (constructors)\n",
    "       this function get run when a object created"
   ]
  },
  {
   "cell_type": "code",
   "execution_count": null,
   "id": "96c9f1ce-1cf1-4b03-8dbc-32b261a6ed57",
   "metadata": {},
   "outputs": [],
   "source": [
    "Q4. Why self is used in OOPs?"
   ]
  },
  {
   "cell_type": "code",
   "execution_count": null,
   "id": "33a8ca93-02aa-4ed7-a088-8cd813af8b0d",
   "metadata": {},
   "outputs": [],
   "source": [
    "Ans :-The use of self makes it easier to distinguish between instance attributes \n",
    "      (and methods) from local variables."
   ]
  },
  {
   "cell_type": "code",
   "execution_count": null,
   "id": "fb17fdef-c17a-4c5f-98cf-5672c430721b",
   "metadata": {},
   "outputs": [],
   "source": [
    "Q5. What is inheritance? Give an example for each type of inheritance."
   ]
  },
  {
   "cell_type": "code",
   "execution_count": null,
   "id": "f0070112-333b-4694-bea1-5ec1b140f492",
   "metadata": {},
   "outputs": [],
   "source": [
    "Ans:-Inheritance is a mechanism of acquiring the features and behaviors of a class by another class.\n",
    "\n",
    "    1.Single inheritance:- In this inheritance, a derived class is created from a single base class.\n",
    "\n",
    "    2.Multi-level inheritance:- In this inheritance, a derived class is created from another derived class.\n",
    "    \n",
    "    3.Multiple inheritance :- In this inheritance, a derived class is created from more than one base class.\n",
    "\n",
    "    4.Multipath inheritance :- In this inheritance, a derived class is created from other derived classes \n",
    "                               and the same base class of other derived classes. \n",
    "\n",
    "    5.Hierarchical Inheritance :-In this inheritance, more than one derived class is created from a single base\n",
    "                                 class and further child classes act as parent classes for more than one child class.\n",
    "\n",
    "    6.Hybrid Inheritance :-This is a combination of more than one inheritance."
   ]
  }
 ],
 "metadata": {
  "kernelspec": {
   "display_name": "Python 3 (ipykernel)",
   "language": "python",
   "name": "python3"
  },
  "language_info": {
   "codemirror_mode": {
    "name": "ipython",
    "version": 3
   },
   "file_extension": ".py",
   "mimetype": "text/x-python",
   "name": "python",
   "nbconvert_exporter": "python",
   "pygments_lexer": "ipython3",
   "version": "3.10.8"
  }
 },
 "nbformat": 4,
 "nbformat_minor": 5
}
