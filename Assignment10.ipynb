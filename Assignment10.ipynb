{
 "cells": [
  {
   "cell_type": "code",
   "execution_count": null,
   "id": "8dcb6861-e287-4bba-921f-ce4fb4475ebe",
   "metadata": {},
   "outputs": [],
   "source": [
    "Q1, Create a vehicle class with an init method having instance variables as name_of_vehicle, max_speed\n",
    "    and average_of_vehicle."
   ]
  },
  {
   "cell_type": "code",
   "execution_count": 1,
   "id": "4711a3e6-9f66-4981-91d8-8d13cc420ae8",
   "metadata": {},
   "outputs": [],
   "source": [
    "class vehicle:\n",
    "    def __init__(self, name_of_vehicle, max_speed, average_of_vehicle):\n",
    "        self.name_of_vehicle = name_of_vehicle\n",
    "        self.max_speed = max_speed\n",
    "        self.average_of_vehicle = average_of_vehicle"
   ]
  },
  {
   "cell_type": "code",
   "execution_count": null,
   "id": "111629de-3d43-48b1-bec0-476370d0eb6e",
   "metadata": {},
   "outputs": [],
   "source": [
    "Q2. Create a child class car from the vehicle class created in Que 1, which will inherit the vehicle class.\n",
    "    Create a method named seating_capacity which takes capacity as an argument and returns the name of\n",
    "    the vehicle and its seating capacity."
   ]
  },
  {
   "cell_type": "code",
   "execution_count": 10,
   "id": "7246e515-8211-42fe-8301-7896d7edd936",
   "metadata": {},
   "outputs": [],
   "source": [
    "class car(vehicle):\n",
    "    \n",
    "    def seating_capacity(self, capacity):\n",
    "        self.capacity = capacity\n",
    "        \n",
    "        return \"name of the vehical \", self.name_of_vehicle, \"and it's seating capacity \", self.capacity"
   ]
  },
  {
   "cell_type": "code",
   "execution_count": null,
   "id": "d870bfaa-110f-469d-93b1-5bd7ec8bca59",
   "metadata": {},
   "outputs": [],
   "source": [
    "Q3. What is multiple inheritance? Write a python code to demonstrate multiple inheritance."
   ]
  },
  {
   "cell_type": "code",
   "execution_count": null,
   "id": "672836e1-868d-44f2-a335-1c62842ba221",
   "metadata": {},
   "outputs": [],
   "source": [
    "Ans -: When a class is derived from more than one base class it is called multiple Inheritance.\n",
    "       The derived class inherits all the features of all  the base case."
   ]
  },
  {
   "cell_type": "code",
   "execution_count": 20,
   "id": "70c06feb-7c53-463d-8ac9-ce308116dd10",
   "metadata": {},
   "outputs": [],
   "source": [
    "# Program \n",
    "\n",
    "class base_class1:\n",
    "    def function_of_base1(self):\n",
    "        print(\"I am in base class 1 \")\n",
    "\n",
    "class base_class2:\n",
    "    def function_of_base2(self):\n",
    "        print(\"I am in base class 2 \")"
   ]
  },
  {
   "cell_type": "code",
   "execution_count": 21,
   "id": "78ba7692-a50e-4be1-b823-874abc63202c",
   "metadata": {},
   "outputs": [],
   "source": [
    "class derived_class(base_class1, base_class2):\n",
    "    def fun_derive_class(self):\n",
    "        print(\"I am in derived class\")"
   ]
  },
  {
   "cell_type": "code",
   "execution_count": 22,
   "id": "9ba98545-38dd-4d7d-8167-ef4a6774a090",
   "metadata": {},
   "outputs": [],
   "source": [
    "obj1 = derived_class()\n"
   ]
  },
  {
   "cell_type": "code",
   "execution_count": 26,
   "id": "7995e74b-4268-4e04-b311-d2ec00992101",
   "metadata": {},
   "outputs": [
    {
     "name": "stdout",
     "output_type": "stream",
     "text": [
      "I am in derived class\n"
     ]
    }
   ],
   "source": [
    "obj1.fun_derive_class()"
   ]
  },
  {
   "cell_type": "code",
   "execution_count": 23,
   "id": "6de6e9ec-53bd-4c8c-a9ac-b2780cd0868e",
   "metadata": {},
   "outputs": [
    {
     "name": "stdout",
     "output_type": "stream",
     "text": [
      "I am in base class 1 \n"
     ]
    }
   ],
   "source": [
    "obj1.function_of_base1()"
   ]
  },
  {
   "cell_type": "code",
   "execution_count": 24,
   "id": "a048a87b-6931-48ac-a59b-717152c7eb2f",
   "metadata": {},
   "outputs": [
    {
     "name": "stdout",
     "output_type": "stream",
     "text": [
      "I am in base class 2 \n"
     ]
    }
   ],
   "source": [
    "obj1.function_of_base2()"
   ]
  },
  {
   "cell_type": "code",
   "execution_count": null,
   "id": "92085874-17aa-44e8-b2be-a461a787a86f",
   "metadata": {},
   "outputs": [],
   "source": [
    "   so we can see that derived_class is Inheriting both the class base_class1, and base_class2 which showes the multiple inheritance."
   ]
  },
  {
   "cell_type": "code",
   "execution_count": null,
   "id": "6f4a5e8d-f1e7-462c-9e2c-61e419b3c033",
   "metadata": {},
   "outputs": [],
   "source": [
    "Q4. What are getter and setter in python? Create a class and create a getter and a setter method in this\n",
    "    class."
   ]
  },
  {
   "cell_type": "code",
   "execution_count": null,
   "id": "157c1a0e-6edd-47e1-99be-07a937e1a93b",
   "metadata": {},
   "outputs": [],
   "source": [
    "Ans -: Getter: A method that allows you to access an attribute in a given class.\n",
    "       Setter: A method that allows you to set or mutate the value of an attribute in a class"
   ]
  },
  {
   "cell_type": "code",
   "execution_count": 31,
   "id": "07620cf5-cf35-48ae-8482-13cfb0923cd8",
   "metadata": {},
   "outputs": [],
   "source": [
    "class vehicle1:\n",
    "    def __init__(self, name_of_vehicle, max_speed):\n",
    "        self._name_of_vehicle = name_of_vehicle\n",
    "        self._max_speed = max_speed\n",
    "       \n",
    "    def get_max_speed(self):\n",
    "        return self._max_speed\n",
    "    def get_name_of_vechicle(self):\n",
    "        return self._name_of_vehicle\n",
    "    \n",
    "    def set_max_speed(self, speed):\n",
    "        self._max_speed = speed\n",
    "    def set_name_of_vehical(self, name):\n",
    "        self._name_of_vehicle = name\n",
    "    "
   ]
  },
  {
   "cell_type": "code",
   "execution_count": 33,
   "id": "3668ea0c-4cb9-4706-b822-a109154fc9ef",
   "metadata": {},
   "outputs": [],
   "source": [
    "obj2 = vehicle1(\"tata\",100)"
   ]
  },
  {
   "cell_type": "code",
   "execution_count": 34,
   "id": "30261cf5-35d7-4e94-a994-08268f763ce2",
   "metadata": {},
   "outputs": [
    {
     "data": {
      "text/plain": [
       "'tata'"
      ]
     },
     "execution_count": 34,
     "metadata": {},
     "output_type": "execute_result"
    }
   ],
   "source": [
    "obj2.get_name_of_vechicle()"
   ]
  },
  {
   "cell_type": "code",
   "execution_count": 35,
   "id": "168866d7-11e7-435f-982a-064d283ca9bd",
   "metadata": {},
   "outputs": [
    {
     "data": {
      "text/plain": [
       "100"
      ]
     },
     "execution_count": 35,
     "metadata": {},
     "output_type": "execute_result"
    }
   ],
   "source": [
    "obj2.get_max_speed()\n"
   ]
  },
  {
   "cell_type": "code",
   "execution_count": 36,
   "id": "271e30c6-8f26-4c92-bee4-acef7bce9351",
   "metadata": {},
   "outputs": [],
   "source": [
    "obj2.set_max_speed(140)"
   ]
  },
  {
   "cell_type": "code",
   "execution_count": 37,
   "id": "5dc256af-0098-458f-91b6-8cc48687a698",
   "metadata": {},
   "outputs": [
    {
     "data": {
      "text/plain": [
       "140"
      ]
     },
     "execution_count": 37,
     "metadata": {},
     "output_type": "execute_result"
    }
   ],
   "source": [
    "obj2.get_max_speed()"
   ]
  },
  {
   "cell_type": "code",
   "execution_count": 38,
   "id": "b5e31c47-b8f1-4147-8af5-91932bf98467",
   "metadata": {},
   "outputs": [],
   "source": [
    "obj2.set_name_of_vehical(\"BMW\")"
   ]
  },
  {
   "cell_type": "code",
   "execution_count": 39,
   "id": "86ec15dc-7eed-4e81-bffe-aaaef8274b4c",
   "metadata": {},
   "outputs": [
    {
     "data": {
      "text/plain": [
       "'BMW'"
      ]
     },
     "execution_count": 39,
     "metadata": {},
     "output_type": "execute_result"
    }
   ],
   "source": [
    "obj2.get_name_of_vechicle()"
   ]
  },
  {
   "cell_type": "code",
   "execution_count": null,
   "id": "232815f7-bbcd-47f3-b400-c54aa68ce881",
   "metadata": {},
   "outputs": [],
   "source": [
    "Q5.What is method overriding in python? Write a python code to demonstrate method overriding."
   ]
  },
  {
   "cell_type": "code",
   "execution_count": null,
   "id": "caf48014-cc52-4a27-acd4-78747ab1481a",
   "metadata": {},
   "outputs": [],
   "source": [
    "Ans-: The overriding method allows a child class to provide a specific implementation \n",
    "      of a method that is already provided by one of its parent classes.\n",
    "    "
   ]
  },
  {
   "cell_type": "code",
   "execution_count": 47,
   "id": "b3c26c6b-8750-4ae4-ac87-886f54958eb0",
   "metadata": {},
   "outputs": [],
   "source": [
    "class student_class:\n",
    "    def __init__(self,class_id, name,roll):\n",
    "        self.class_id = class_id\n",
    "        self.name = name\n",
    "        self.roll = roll\n",
    "        \n",
    "    def get_det(self):\n",
    "        print(self.class_id,self.roll)"
   ]
  },
  {
   "cell_type": "code",
   "execution_count": 48,
   "id": "489cffaa-6651-4379-8140-692d2ac9513c",
   "metadata": {},
   "outputs": [],
   "source": [
    "class student(student_class):\n",
    "    def __init__(self,class_id,roll, mo_number):\n",
    "        self.class_id = class_id\n",
    "        self.roll = roll\n",
    "        self.mo_number = mo_number"
   ]
  },
  {
   "cell_type": "code",
   "execution_count": 49,
   "id": "00e263ed-257a-4ae2-ad09-24dd34f63381",
   "metadata": {},
   "outputs": [],
   "source": [
    "stu = student(101,11,93944774782)"
   ]
  },
  {
   "cell_type": "code",
   "execution_count": 50,
   "id": "ec5d65fc-5be2-4bc9-b96a-a746d3cc6dac",
   "metadata": {},
   "outputs": [
    {
     "name": "stdout",
     "output_type": "stream",
     "text": [
      "101 11\n"
     ]
    }
   ],
   "source": [
    "stu.get_det()"
   ]
  },
  {
   "cell_type": "code",
   "execution_count": 51,
   "id": "d5a0f578-26aa-4a6c-80ee-00ce8fbc47cf",
   "metadata": {},
   "outputs": [],
   "source": [
    "stu1 = student_class(102,\"anu\",11)"
   ]
  },
  {
   "cell_type": "code",
   "execution_count": 53,
   "id": "511afbb5-ad0a-42cd-9eec-4ac0b0229fa7",
   "metadata": {},
   "outputs": [
    {
     "name": "stdout",
     "output_type": "stream",
     "text": [
      "102 11\n"
     ]
    }
   ],
   "source": [
    "stu1.get_det()"
   ]
  },
  {
   "cell_type": "code",
   "execution_count": null,
   "id": "5160bdb9-0444-40f7-9378-2ffcea1751e2",
   "metadata": {},
   "outputs": [],
   "source": []
  }
 ],
 "metadata": {
  "kernelspec": {
   "display_name": "Python 3 (ipykernel)",
   "language": "python",
   "name": "python3"
  },
  "language_info": {
   "codemirror_mode": {
    "name": "ipython",
    "version": 3
   },
   "file_extension": ".py",
   "mimetype": "text/x-python",
   "name": "python",
   "nbconvert_exporter": "python",
   "pygments_lexer": "ipython3",
   "version": "3.10.8"
  }
 },
 "nbformat": 4,
 "nbformat_minor": 5
}
