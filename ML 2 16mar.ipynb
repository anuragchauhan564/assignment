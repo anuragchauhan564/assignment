{
 "cells": [
  {
   "cell_type": "code",
   "execution_count": null,
   "id": "ba74a798-05cc-4bfd-884b-97880938a8e5",
   "metadata": {},
   "outputs": [],
   "source": [
    "Q1: Define overfitting and underfitting in machine learning. What are the consequences of each, and how\n",
    "    can they be mitigated?"
   ]
  },
  {
   "cell_type": "code",
   "execution_count": null,
   "id": "86533148-6306-4988-b4d4-d68ac59d2c9f",
   "metadata": {},
   "outputs": [],
   "source": [
    "Ans : Overfitting : A model is considered overfitting when it does extremely well on training data but fails to \n",
    "                    perform on the same level on the validation data.\n",
    "                    A statistical model is said to be overfitted when the model does not make accurate predictions\n",
    "                    on testing data. When a model gets trained with so much data, it starts learning from the \n",
    "                    noise and inaccurate data entries in our data set. And when testing with test data results \n",
    "                    in High variance. Then the model does not categorize the data correctly, because of too many \n",
    "                    details and noise.\n",
    "                    The causes of overfitting are the non-parametric and non-linear methods because these types\n",
    "                    of machine learning algorithms have more freedom in building the model based on the dataset \n",
    "                    and therefore they can really build unrealistic models.\n",
    "                    \n",
    "                    A solution to avoid overfitting is using a linear algorithm if we have linear data or using\n",
    "                    the parameters like the maximal depth if we are using decision trees. \n",
    "    \n",
    "    Underfitting : Underfitting occurs when a model is not able to make accurate predictions based on training\n",
    "                    data and hence, doesn’t have the capacity to generalize well on new data.\n",
    "                    Another case of underfitting is when a model is not able to learn enough from training data\n",
    "                    making it difficult to capture the dominating trend.\n",
    "                   \n",
    "                Underfitting can be avoided by using more data and also reducing the features by feature selection. "
   ]
  },
  {
   "cell_type": "code",
   "execution_count": null,
   "id": "bfcc3018-c8f2-4d7c-81f8-dd458a950567",
   "metadata": {},
   "outputs": [],
   "source": [
    "Q2: How can we reduce overfitting? Explain in brief."
   ]
  },
  {
   "cell_type": "code",
   "execution_count": null,
   "id": "b6e84f0f-5a5a-4600-92b5-70934f8088b3",
   "metadata": {},
   "outputs": [],
   "source": [
    "Ans: Although overfitting is an error in Machine learning which reduces the performance of the model,\n",
    "     however, we can prevent it in several ways....\n",
    "     Below are several ways that can be used to prevent overfitting:\n",
    "            \n",
    "      1.Early Stopping :   In this technique, the training is paused before the model starts learning the\n",
    "                           noise within the model. In this process, while training the model iteratively, \n",
    "                           measure the performance of the model after each iteration. Continue up to a certain \n",
    "                           number of iterations until a new iteration improves the performance of the model.\n",
    "                \n",
    "    2.Train with More data : Increasing the training set by including more data can enhance the accuracy of \n",
    "                             the model, as it provides more chances to discover the relationship between input \n",
    "                             and output variables.\n",
    "            \n",
    "    3.Cross-Validation : Cross-validation is one of the powerful techniques to prevent overfitting.\n",
    "                        In the general k-fold cross-validation technique, we divided the dataset into \n",
    "                        k-equal-sized subsets of data; these subsets are known as folds.\n",
    "            \n",
    "    "
   ]
  },
  {
   "cell_type": "code",
   "execution_count": null,
   "id": "584000e7-2fbb-46f1-9343-20bec194a512",
   "metadata": {},
   "outputs": [],
   "source": [
    "Q3: Explain underfitting. List scenarios where underfitting can occur in ML."
   ]
  },
  {
   "cell_type": "code",
   "execution_count": null,
   "id": "27f6fd5b-0ed3-4f48-951b-34c691118f5d",
   "metadata": {},
   "outputs": [],
   "source": [
    "Ans: Underfitting :  Underfitting occurs when a model is not able to make accurate predictions based on training\n",
    "                    data and hence, doesn’t have the capacity to generalize well on new data.\n",
    "                    Another case of underfitting is when a model is not able to learn enough from training data\n",
    "                    making it difficult to capture the dominating trend.\n",
    "                   \n",
    "                Underfitting can be avoided by using more data and also reducing the features by feature selection.\n",
    "                \n",
    "                Underfitting occur in ML\n",
    "                    1.Data used for training is not cleaned and contains noise (garbage values) in it\n",
    "                    2.The model has a high bias\n",
    "                    3.The size of the training dataset used is not enough\n",
    "                    4.The model is too simple"
   ]
  },
  {
   "cell_type": "code",
   "execution_count": null,
   "id": "c9137bf1-e429-49c1-95fd-10b5f6e6e28a",
   "metadata": {},
   "outputs": [],
   "source": [
    "Q4: Explain the bias-variance tradeoff in machine learning. What is the relationship between bias and\n",
    "     variance, and how do they affect model performance?"
   ]
  },
  {
   "cell_type": "code",
   "execution_count": null,
   "id": "c5dcf24a-86b1-41a2-8da4-6aa7e80f5631",
   "metadata": {},
   "outputs": [],
   "source": [
    "Ans : Bias: While making predictions, a difference occurs between prediction values made by the model and \n",
    "            actual values/expected values, and this difference is known as bias errors or Errors due to bias.\n",
    "            Assumptions made by a model to make a function easier to learn. \n",
    "            It is actually the error rate of the training data. When the error\n",
    "            rate has a high value, we call it High Bias and when the error rate has\n",
    "            a low value, we call it low Bias.\n",
    "            \n",
    "    Variance: variance tells that how much a random variable is different from its expected value.\n",
    "              The difference between the error rate of training data and testing data is called variance. \n",
    "              If the difference is high then it’s called high variance and when the difference in errors is\n",
    "            low then it’s called low variance. Usually, we want to make a low variance for generalized our model.\n",
    "            \n",
    "            \n",
    "1. Low-Bias, Low-Variance: The combination of low bias and low variance shows an ideal machine learning model.\n",
    "                           However, it is not possible practically.\n",
    "    \n",
    "2.Low-Bias, High-Variance: With low bias and high variance, model predictions are inconsistent and accurate on \n",
    "                           average. This case occurs when the model learns with a large number of parameters and\n",
    "                           hence leads to an overfitting\n",
    "        \n",
    "3.High-Bias, Low-Variance: With High bias and low variance, predictions are consistent but inaccurate on average.\n",
    "                           This case occurs when a model does not learn well with the training dataset or uses few \n",
    "                           numbers of the parameter. It leads to underfitting problems in the model.\n",
    "        \n",
    "4.High-Bias, High-Variance: With high bias and high variance, predictions are inconsistent and also inaccurate \n",
    "                            on average."
   ]
  },
  {
   "cell_type": "code",
   "execution_count": null,
   "id": "35bfb1e2-fcaf-4ba1-a544-9b33b3943215",
   "metadata": {},
   "outputs": [],
   "source": [
    "Q5: Discuss some common methods for detecting overfitting and underfitting in machine learning models.\n",
    "    How can you determine whether your model is overfitting or underfitting?"
   ]
  },
  {
   "cell_type": "code",
   "execution_count": null,
   "id": "a18c6e45-c81b-457a-8066-3aae39aa0e2e",
   "metadata": {},
   "outputs": [],
   "source": [
    "Ans : Overfitting : \n",
    "            The best method to detect overfit models is by testing the machine learning models on more data \n",
    "            with comprehensive representation of possible input data values and types. Typically, part\n",
    "            of the training data is used as test data to check for overfitting. A high error rate in the testing\n",
    "            data indicates overfitting.\n",
    "            One method of testing for overfitting is given below.\n",
    "                K-fold cross-validation\n",
    "                    Cross-validation is one of the testing methods used in practice. In this method,\n",
    "                    data scientists divide the training set into K equally sized subsets or sample sets\n",
    "                    called folds. The training process consists of a series of iterations. During each iteration,\n",
    "                    the steps are:\n",
    "                1.    Keep one subset as the validation data and train the machine learning model on the \n",
    "                      remaining K-1 subsets.\n",
    "                2.    Observe how the model performs on the validation sample.\n",
    "                3.    Score model performance based on output data quality.\n",
    "                \n",
    "    Underfitting : Underfitting occurs when the machine learning model is not well-tuned to the training set. \n",
    "                    The resulting model is not capturing the relationship between input and output well enough. \n",
    "                    Therefore, it doesn’t produce accurate predictions, even for the training dataset. Resultingly,\n",
    "                    an underfitted model generates poor results that lead to high-error decisions, like an \n",
    "                    overfitted model.\n",
    "                    \n",
    "        To determine whether model is overfitting or underfitting \n",
    "        \n",
    "        The cause for overfitting is a misinterpretation of training data. So, the model produces less accurate\n",
    "        results for unseen data. However, an overfitted model generates very high accuracy scores during the \n",
    "        training phase.\n",
    "\n",
    "        Similarly, underfitted models don’t effectively capture the relationship between the input and output \n",
    "        data because it is too simple. As a result, the underfitted model performs poorly, even with the training \n",
    "        data"
   ]
  },
  {
   "cell_type": "code",
   "execution_count": null,
   "id": "5b4cc1e0-8955-4b5b-ac63-400f7b4818d8",
   "metadata": {},
   "outputs": [],
   "source": [
    "Q6: Compare and contrast bias and variance in machine learning. What are some examples of high bias\n",
    "    and high variance models, and how do they differ in terms of their performance?"
   ]
  },
  {
   "cell_type": "code",
   "execution_count": null,
   "id": "fbcc8f1a-5c55-45e8-9fa3-0d0d9b186831",
   "metadata": {},
   "outputs": [],
   "source": [
    "Ans :Bias \n",
    "   1. Bias is a phenomenon that occurs in the machine learning model wherein an algorithm is used and it does \n",
    "      not fit properly.\n",
    "    2.Bias refers to the difference between predicted values and actual values.\n",
    "    3.The model cannot find patterns in the training dataset and fails for both seen and unseen data.\n",
    "    \n",
    "    Variance\n",
    "    1.Variance specifies the amount of variation that the estimate of the target function will change if\n",
    "      different training data was used.\n",
    "    2.Variance says about how much a random variable deviates from its expected value.\n",
    "    3.The model finds most patterns in the dataset and even learns from the unnecessary data or the noise.\n",
    "    \n",
    "    Some example of high bias and high variance models are\n",
    "    A linear machine-learning algorithm will exhibit high bias but low variance. \n",
    "    On the other hand, a non-linear algorithm will exhibit low bias but high variance.\n",
    "    \n",
    "     Linear Regression, Linear Discriminant Analysis and Logistic Regression."
   ]
  },
  {
   "cell_type": "code",
   "execution_count": null,
   "id": "5722718f-4de6-4f29-946e-07a9f8388e6f",
   "metadata": {},
   "outputs": [],
   "source": [
    "Q7: What is regularization in machine learning, and how can it be used to prevent overfitting? Describe\n",
    "    some common regularization techniques and how they work."
   ]
  },
  {
   "cell_type": "code",
   "execution_count": null,
   "id": "85334f88-55e0-4c4b-979d-29d65ff42345",
   "metadata": {},
   "outputs": [],
   "source": [
    "Ans :Regularization is a technique that adds information to a model to prevent the occurrence of overfitting. \n",
    "    It is a type of regression that minimizes the coefficient estimates to zero to reduce the capacity (size) \n",
    "    of a model. In this context, the reduction of the capacity of a model involves the removal of extra weights.\n",
    "    \n",
    "    This technique can be used in such a way that it will allow to maintain all variables or features in the \n",
    "    model by reducing the magnitude of the variables. Hence, it maintains accuracy as well as a generalization \n",
    "    of the model."
   ]
  }
 ],
 "metadata": {
  "kernelspec": {
   "display_name": "Python 3 (ipykernel)",
   "language": "python",
   "name": "python3"
  },
  "language_info": {
   "codemirror_mode": {
    "name": "ipython",
    "version": 3
   },
   "file_extension": ".py",
   "mimetype": "text/x-python",
   "name": "python",
   "nbconvert_exporter": "python",
   "pygments_lexer": "ipython3",
   "version": "3.10.8"
  }
 },
 "nbformat": 4,
 "nbformat_minor": 5
}
