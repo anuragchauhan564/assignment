{
 "cells": [
  {
   "cell_type": "code",
   "execution_count": null,
   "id": "3a6019ce-a8b3-4096-ac45-e0c0a4b0dd9d",
   "metadata": {},
   "outputs": [],
   "source": [
    "Q1. Write a program to accept percentage fro, the user and diplay the grade \n",
    "    according to the followin \n",
    "    \n",
    "    marks             Gread\n",
    "    >90               A\n",
    "    >80 and <=90      B\n",
    "    >=60 and <=80     C\n",
    "    below 60          D"
   ]
  },
  {
   "cell_type": "code",
   "execution_count": 6,
   "id": "a1eee20e-deb8-4a3e-a9e7-c2cc872ab717",
   "metadata": {},
   "outputs": [
    {
     "name": "stdin",
     "output_type": "stream",
     "text": [
      "Enter your Precentage :- 66\n"
     ]
    },
    {
     "name": "stdout",
     "output_type": "stream",
     "text": [
      "C Grade\n"
     ]
    }
   ],
   "source": [
    "pre = float(input(\"Enter your Precentage :-\"))\n",
    "if pre > 90:\n",
    "    print(\"A Grade\")\n",
    "elif pre > 80 and pre <=90:\n",
    "    print(\"B Grade\")\n",
    "elif pre >= 60 and pre <=80:\n",
    "    print(\"C Grade\")\n",
    "else:\n",
    "    print(\"D Grade\")"
   ]
  },
  {
   "cell_type": "code",
   "execution_count": null,
   "id": "f973b3c1-b19c-479d-ad30-e1b1d54e197f",
   "metadata": {},
   "outputs": [],
   "source": [
    "Q2. Write a program to accept the cost price of a bike and dispay\n",
    "    the road tax to be paid according to the following critria:\n",
    "        \n",
    "        Tax                   Cost Price(in Rs)\n",
    "        15%                    >100000\n",
    "        10%                    >50000 and <=100000\n",
    "        5%                     <=50000"
   ]
  },
  {
   "cell_type": "code",
   "execution_count": 8,
   "id": "5a2af1bf-806b-46df-be8a-b43eed246758",
   "metadata": {},
   "outputs": [
    {
     "name": "stdin",
     "output_type": "stream",
     "text": [
      "Enter the price of your Bike :- 1000000\n"
     ]
    },
    {
     "name": "stdout",
     "output_type": "stream",
     "text": [
      "Your Road tax to be paid :-  150000.0\n"
     ]
    }
   ],
   "source": [
    "cost_price = float(input(\"Enter the price of your Bike :-\"))\n",
    "\n",
    "if cost_price > 100000 :\n",
    "    tex = cost_price * .15\n",
    "elif cost_price > 50000 and cost_price <=100000 :\n",
    "    tex = cost_price * .1\n",
    "else:\n",
    "    tex = cost_price * .05\n",
    "\n",
    "print(\"Your Road tax to be paid :- \", tex)\n",
    "    "
   ]
  },
  {
   "cell_type": "code",
   "execution_count": null,
   "id": "a09abebb-ea67-4f20-8c62-f27b48bfd527",
   "metadata": {},
   "outputs": [],
   "source": [
    "Q3. Accept any city from the user and display monuments of that \n",
    "    city. \n",
    "    \n",
    "    City                   Monument\n",
    "    Delhi                  Red Fort             \n",
    "    Agra                   Taj Mahal\n",
    "    Jaipur                 Jal Mahal"
   ]
  },
  {
   "cell_type": "code",
   "execution_count": 10,
   "id": "0b33d502-70f8-4c09-ade8-03e6d014ce7d",
   "metadata": {},
   "outputs": [
    {
     "name": "stdin",
     "output_type": "stream",
     "text": [
      "Enter City Name \n",
      " 1.Delhi \n",
      " 2.Agra \n",
      " 3.Jaipur  Delhi\n"
     ]
    },
    {
     "name": "stdout",
     "output_type": "stream",
     "text": [
      "Monument in  Delhi is Red Fort \n"
     ]
    }
   ],
   "source": [
    "city = input(\"Enter City Name \\n 1.Delhi \\n 2.Agra \\n 3.Jaipur \")\n",
    "\n",
    "if city == \"Delhi\":\n",
    "    print(\"Monument in \",city,\"is Red Fort \")\n",
    "elif city == \"Agra\":\n",
    "    print(\"Monument in \",city,\"is Taj MAhal  \")\n",
    "elif city == \"Jaipur\":\n",
    "    print(\"Monument in \",city,\"is Jal Mahal \")\n",
    "else:\n",
    "    print(\"Wrong input\")"
   ]
  },
  {
   "cell_type": "code",
   "execution_count": null,
   "id": "25dfd0b1-bd11-45ec-bf89-2fd44fe72632",
   "metadata": {},
   "outputs": [],
   "source": [
    "Q4.Check how many times a given number can be divided by 3 \n",
    "   before it is less than or rqual to 10."
   ]
  },
  {
   "cell_type": "code",
   "execution_count": 5,
   "id": "7b3633ea-95eb-4f09-8acc-1c8625e9f454",
   "metadata": {},
   "outputs": [
    {
     "name": "stdin",
     "output_type": "stream",
     "text": [
      "Enter a number 17\n"
     ]
    },
    {
     "name": "stdout",
     "output_type": "stream",
     "text": [
      "3  times a given number can be divided by 3 before it is less than or rqual to 10.\n"
     ]
    }
   ],
   "source": [
    "num = int(input(\"Enter a number\"))\n",
    "count = 0\n",
    "while num >= 10:\n",
    "    # num = num - num%3\n",
    "    num = num -3\n",
    "    count = count +1\n",
    "print(count,\" times a given number can be divided by 3 before it is less than or rqual to 10.\")"
   ]
  },
  {
   "cell_type": "code",
   "execution_count": null,
   "id": "ce5a0b68-38c2-43cc-be67-48904e67faf2",
   "metadata": {},
   "outputs": [],
   "source": [
    "Q5. Why and when to use while loop in python give a detailed description \n",
    "    with example."
   ]
  },
  {
   "cell_type": "code",
   "execution_count": null,
   "id": "9d689943-7cfb-49aa-8721-4e25c5a3fc1a",
   "metadata": {},
   "outputs": [],
   "source": [
    "Ans:-A While loop in Python allows a part of the code to be executed repeatedly \n",
    "     as long as a given condition is true. The While loop in Python is also called a pre-tested loop.\n",
    "    It is typically used when the number of iterations is not known."
   ]
  },
  {
   "cell_type": "code",
   "execution_count": 1,
   "id": "518b1cc1-c5d7-4ba3-9487-2ec27be12c50",
   "metadata": {},
   "outputs": [
    {
     "name": "stdout",
     "output_type": "stream",
     "text": [
      "1\n",
      "2\n",
      "3\n",
      "4\n",
      "5\n"
     ]
    }
   ],
   "source": [
    "i= 1\n",
    "while i<=5:\n",
    "    print(i)\n",
    "    i = i +1"
   ]
  },
  {
   "cell_type": "code",
   "execution_count": 3,
   "id": "26d692d9-b4bf-4100-ac63-3a9bc406650c",
   "metadata": {},
   "outputs": [],
   "source": [
    "  -- Here while executed repeatedly untill the value of i became 5"
   ]
  },
  {
   "cell_type": "code",
   "execution_count": null,
   "id": "3e26f99a-3987-48d1-8ba9-99c3e0d6e463",
   "metadata": {},
   "outputs": [],
   "source": [
    "Q6. Use nested whileloop to print 3 different pattern."
   ]
  },
  {
   "cell_type": "code",
   "execution_count": 8,
   "id": "e514edd6-6e55-4b67-a5b9-59c6298eb3c0",
   "metadata": {},
   "outputs": [
    {
     "name": "stdout",
     "output_type": "stream",
     "text": [
      "* \n",
      "* * \n",
      "* * * \n",
      "* * * * \n",
      "* * * * * \n"
     ]
    }
   ],
   "source": [
    "# Pattern 1\n",
    "i = 1\n",
    "while i<=5:\n",
    "    j = 1\n",
    "    while j <= i:\n",
    "        print(\"* \",end = \"\")\n",
    "        j = j +1\n",
    "    i = i +1\n",
    "    print()\n",
    "    "
   ]
  },
  {
   "cell_type": "code",
   "execution_count": 16,
   "id": "98cb607d-1d56-48f1-9834-2806d98497fa",
   "metadata": {},
   "outputs": [
    {
     "name": "stdout",
     "output_type": "stream",
     "text": [
      "* * * * * \n",
      "* * * * \n",
      "* * * \n",
      "* * \n",
      "* \n",
      "\n"
     ]
    }
   ],
   "source": [
    "#  Pattern 2\n",
    "i = 5\n",
    "while i>=0:\n",
    "    j = 1\n",
    "    while j <= i:\n",
    "        print(\"* \",end = \"\")\n",
    "        j = j +1\n",
    "    i = i -1\n",
    "    print()"
   ]
  },
  {
   "cell_type": "code",
   "execution_count": 48,
   "id": "286741b7-3945-4931-93c5-20b10dbc59bd",
   "metadata": {},
   "outputs": [
    {
     "name": "stdout",
     "output_type": "stream",
     "text": [
      "    * * * * * \n",
      "   * * * * \n",
      "  * * * \n",
      " * * \n",
      "* \n",
      "\n"
     ]
    }
   ],
   "source": [
    "# Pattern 3\n",
    "i = 5\n",
    "while i>=0:\n",
    "    j = 1\n",
    "    k = 1\n",
    "    while j <= i-1:\n",
    "        print(end = \" \")\n",
    "        j =  j +1\n",
    "    while k <=i:\n",
    "        print(\"* \",end = \"\")\n",
    "        k = k+1\n",
    "    i = i -1\n",
    "    print()"
   ]
  },
  {
   "cell_type": "code",
   "execution_count": null,
   "id": "e3191524-d81c-4a59-b1a6-f4978e2a52e1",
   "metadata": {},
   "outputs": [],
   "source": [
    "Q7.Reverse a while loop to display number from 10 to 1."
   ]
  },
  {
   "cell_type": "code",
   "execution_count": 49,
   "id": "60baa776-2e82-4082-840c-679a5a62f304",
   "metadata": {},
   "outputs": [
    {
     "name": "stdout",
     "output_type": "stream",
     "text": [
      "10\n",
      "9\n",
      "8\n",
      "7\n",
      "6\n",
      "5\n",
      "4\n",
      "3\n",
      "2\n",
      "1\n"
     ]
    }
   ],
   "source": [
    "i =10\n",
    "while i>=1:\n",
    "    print(i)\n",
    "    i = i-1"
   ]
  },
  {
   "cell_type": "code",
   "execution_count": null,
   "id": "889213bd-14ee-4e7c-a9d1-ab44cf4b73f9",
   "metadata": {},
   "outputs": [],
   "source": [
    "Q8.Reverse a while loop to display number from 10 to 1."
   ]
  }
 ],
 "metadata": {
  "kernelspec": {
   "display_name": "Python 3 (ipykernel)",
   "language": "python",
   "name": "python3"
  },
  "language_info": {
   "codemirror_mode": {
    "name": "ipython",
    "version": 3
   },
   "file_extension": ".py",
   "mimetype": "text/x-python",
   "name": "python",
   "nbconvert_exporter": "python",
   "pygments_lexer": "ipython3",
   "version": "3.10.8"
  }
 },
 "nbformat": 4,
 "nbformat_minor": 5
}
