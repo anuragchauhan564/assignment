{
 "cells": [
  {
   "cell_type": "code",
   "execution_count": null,
   "id": "8f3cf7e0-46af-4856-a137-9500b544b3a7",
   "metadata": {},
   "outputs": [],
   "source": [
    "Q1. You are writing code for a company. The requirement of the company is that you create a python\n",
    "function that will check whether the password entered by the user is correct or not. The function should\n",
    "take the password as input and return the string “Valid Password” if the entered password follows the\n",
    "below-given password guidelines else it should return “Invalid Password”.\n",
    "    Note: 1. The Password should contain at least two uppercase letters and at least two lowercase letters.\n",
    "          2. The Password should contain at least a number and three special characters.\n",
    "          3. The length of the password should be 10 characters long."
   ]
  },
  {
   "cell_type": "code",
   "execution_count": 81,
   "id": "1eed47b3-2724-4f37-9bd3-58c4e5934af1",
   "metadata": {},
   "outputs": [],
   "source": [
    "import re"
   ]
  },
  {
   "cell_type": "code",
   "execution_count": 100,
   "id": "09e43ec3-d419-42ee-9e11-b4c31c99c078",
   "metadata": {},
   "outputs": [],
   "source": [
    "def password_check1(password):\n",
    "    count = 0\n",
    "    count1 = 0\n",
    "    count2 = 0\n",
    "    count3 = 0\n",
    "    if len(password)>=10:\n",
    "         for i in password:\n",
    "            if i in  '^[@ _ ! # $ % ^ & * ( ) < > ? / \\ | { } ~ : ]':\n",
    "                count = count +1\n",
    "            if i.isupper()==True: \n",
    "                count1 = count1+1\n",
    "            if i.islower()== True:\n",
    "                count2 = count2 + 1\n",
    "            if i in '^[0 1 2 3 4 5 6 7 8 9]':\n",
    "                count3 = count3 +1\n",
    "    if count >= 3 and count1 >=2 and count2 >= 2 and count3>=1:\n",
    "        print(\"Valid Password\")\n",
    "    else:\n",
    "        print(\"Invalid Password\")\n",
    "        \n",
    "                "
   ]
  },
  {
   "cell_type": "code",
   "execution_count": 101,
   "id": "8bbc299a-a919-41b1-b159-f1dd0ba264be",
   "metadata": {},
   "outputs": [
    {
     "name": "stdin",
     "output_type": "stream",
     "text": [
      "Enter Password :  ANUcha@234@@\n"
     ]
    },
    {
     "name": "stdout",
     "output_type": "stream",
     "text": [
      "Valid Password\n"
     ]
    }
   ],
   "source": [
    "your_password = input(\"Enter Password : \")\n",
    "\n",
    "password_check1(your_password)"
   ]
  },
  {
   "cell_type": "code",
   "execution_count": null,
   "id": "175a1aec-c2e5-4bf5-952b-42e1576817e6",
   "metadata": {},
   "outputs": [],
   "source": [
    "Q2. Solve the below-given questions using at least one of the following:\n",
    "1. Lambda function\n",
    "2. Filter function\n",
    "3. Map function\n",
    "4. List Comprehension\n",
    "    - Check if the string starts with a particular letter\n",
    "    - Check if the string is numeric\n",
    "    - Sort a list of tuples having fruit names and their quantity. \n",
    "       [(\"mango\",99),(\"orange\",80), (\"grapes\", 1000)\n",
    "    - Find the squares of numbers from 1 to 10\n",
    "    - Find the cube root of numbers from 1 to 10\n",
    "    - Check if a given number is even\n",
    "    - Filter odd numbers from the given list.\n",
    "       [1,2,3,4,5,6,7,8,9,10]\n",
    "    - Sort a list of integers into positive and negative integers lists.\n",
    "       [1,2,3,4,5,6,-1,-2,-3,-4,-5,0]"
   ]
  },
  {
   "cell_type": "code",
   "execution_count": null,
   "id": "bcd5d74d-032a-4333-9cf0-153921597658",
   "metadata": {},
   "outputs": [],
   "source": [
    "# Check if the string starts with a particular letter"
   ]
  },
  {
   "cell_type": "code",
   "execution_count": 13,
   "id": "ec52105c-1e1e-47ae-8d60-879bf1c2255f",
   "metadata": {},
   "outputs": [],
   "source": [
    "str_input = \"your\"\n",
    "output = lambda s : True if s.startswith(\"y\") else False "
   ]
  },
  {
   "cell_type": "code",
   "execution_count": 14,
   "id": "141a38c5-98a1-4892-9ede-f3e4b83042f4",
   "metadata": {},
   "outputs": [
    {
     "data": {
      "text/plain": [
       "True"
      ]
     },
     "execution_count": 14,
     "metadata": {},
     "output_type": "execute_result"
    }
   ],
   "source": [
    "output(str_input)"
   ]
  },
  {
   "cell_type": "code",
   "execution_count": 15,
   "id": "13932163-4d5c-4074-b1b1-c8d28ad0edb7",
   "metadata": {},
   "outputs": [],
   "source": [
    "# Check if the string is numeric"
   ]
  },
  {
   "cell_type": "code",
   "execution_count": 28,
   "id": "6c0e3653-e0d0-4d33-b66d-a020742bbf35",
   "metadata": {},
   "outputs": [],
   "source": [
    "str1 = \"1234\"\n",
    "str2 = \"abcd123\"\n",
    "output1 = lambda st : True if st.isnumeric() else False"
   ]
  },
  {
   "cell_type": "code",
   "execution_count": 29,
   "id": "856f8dcf-b8ae-4d83-a6ee-2482087ae916",
   "metadata": {},
   "outputs": [
    {
     "data": {
      "text/plain": [
       "True"
      ]
     },
     "execution_count": 29,
     "metadata": {},
     "output_type": "execute_result"
    }
   ],
   "source": [
    "output1(str1)"
   ]
  },
  {
   "cell_type": "code",
   "execution_count": 42,
   "id": "cf92c511-4b74-4379-8a1a-958c5fe6f684",
   "metadata": {},
   "outputs": [
    {
     "data": {
      "text/plain": [
       "False"
      ]
     },
     "execution_count": 42,
     "metadata": {},
     "output_type": "execute_result"
    }
   ],
   "source": [
    "output(str2)"
   ]
  },
  {
   "cell_type": "code",
   "execution_count": null,
   "id": "e5099d99-fbb4-4a65-abf3-80726827a842",
   "metadata": {},
   "outputs": [],
   "source": [
    "# Sort a list of tuples having fruit names and their quantity. \n",
    "       [(\"mango\",99),(\"orange\",80), (\"grapes\", 1000)]"
   ]
  },
  {
   "cell_type": "code",
   "execution_count": 55,
   "id": "00b205fc-e22e-43b9-b028-2179176c6f29",
   "metadata": {},
   "outputs": [],
   "source": [
    "li =  [(\"mango\",99),(\"orange\",80), (\"grapes\", 1000)]\n",
    "output2 = lambda l : l.sort()"
   ]
  },
  {
   "cell_type": "code",
   "execution_count": 56,
   "id": "a0e5d832-81ee-4e07-a933-e96eac701c31",
   "metadata": {},
   "outputs": [],
   "source": [
    "output2(li)"
   ]
  },
  {
   "cell_type": "code",
   "execution_count": 57,
   "id": "0ce65fb2-b295-438c-902f-4b667c189072",
   "metadata": {},
   "outputs": [
    {
     "data": {
      "text/plain": [
       "[('grapes', 1000), ('mango', 99), ('orange', 80)]"
      ]
     },
     "execution_count": 57,
     "metadata": {},
     "output_type": "execute_result"
    }
   ],
   "source": [
    "li"
   ]
  },
  {
   "cell_type": "code",
   "execution_count": 64,
   "id": "8b899986-2c59-4e35-bb2e-02e3f47a3af9",
   "metadata": {},
   "outputs": [
    {
     "data": {
      "text/plain": [
       "[1, 4, 9, 16, 25, 36, 49, 64, 81, 100]"
      ]
     },
     "execution_count": 64,
     "metadata": {},
     "output_type": "execute_result"
    }
   ],
   "source": [
    "#  Find the squares of numbers from 1 to 10\n",
    " \n",
    "l = [1,2,3,4,5,6,7,8,9,10]\n",
    "li1 = []\n",
    "for i in l:\n",
    "    li1.append(i**2)\n",
    "\n",
    "li1"
   ]
  },
  {
   "cell_type": "code",
   "execution_count": 65,
   "id": "a45683fc-2028-47e1-851d-ceadfabd016f",
   "metadata": {},
   "outputs": [
    {
     "data": {
      "text/plain": [
       "[1.0,\n",
       " 1.2599210498948732,\n",
       " 1.4422495703074083,\n",
       " 1.5874010519681994,\n",
       " 1.7099759466766968,\n",
       " 1.8171205928321397,\n",
       " 1.912931182772389,\n",
       " 2.0,\n",
       " 2.080083823051904,\n",
       " 2.154434690031884]"
      ]
     },
     "execution_count": 65,
     "metadata": {},
     "output_type": "execute_result"
    }
   ],
   "source": [
    "#  Find the cube root of numbers from 1 to 10\n",
    "l1 = [1,2,3,4,5,6,7,8,9,10]\n",
    "list(map(lambda x : x**(1/3),l))"
   ]
  },
  {
   "cell_type": "code",
   "execution_count": 66,
   "id": "812eb61c-1482-4796-b94f-3bbbbef32aaa",
   "metadata": {},
   "outputs": [],
   "source": [
    "# Check if a given number is even\n",
    "\n",
    "output1 = lambda x : \"Even \" if x % 2 == 0 else \"not Even \""
   ]
  },
  {
   "cell_type": "code",
   "execution_count": 67,
   "id": "d9c060dd-0480-4d76-8b33-71fec1f511c4",
   "metadata": {},
   "outputs": [
    {
     "data": {
      "text/plain": [
       "'Even '"
      ]
     },
     "execution_count": 67,
     "metadata": {},
     "output_type": "execute_result"
    }
   ],
   "source": [
    "output1(10)"
   ]
  },
  {
   "cell_type": "code",
   "execution_count": 68,
   "id": "381a6ebd-8b58-481f-a050-1fa642f73ecc",
   "metadata": {},
   "outputs": [
    {
     "data": {
      "text/plain": [
       "'not Even '"
      ]
     },
     "execution_count": 68,
     "metadata": {},
     "output_type": "execute_result"
    }
   ],
   "source": [
    "output1(5)"
   ]
  },
  {
   "cell_type": "code",
   "execution_count": null,
   "id": "a69c9781-2d59-4986-b569-c628395e4c23",
   "metadata": {},
   "outputs": [],
   "source": [
    "# Filter odd numbers from the given list.\n",
    "       [1,2,3,4,5,6,7,8,9,10]"
   ]
  },
  {
   "cell_type": "code",
   "execution_count": 69,
   "id": "6f54324e-e10c-425e-b91f-671b052a1571",
   "metadata": {},
   "outputs": [
    {
     "data": {
      "text/plain": [
       "[1, 3, 5, 7, 9]"
      ]
     },
     "execution_count": 69,
     "metadata": {},
     "output_type": "execute_result"
    }
   ],
   "source": [
    "lis = [1,2,3,4,5,6,7,8,9,10]\n",
    "list(filter(lambda x : x % 2 != 0 ,l))\n"
   ]
  },
  {
   "cell_type": "code",
   "execution_count": null,
   "id": "fd8957b9-9259-4e28-bd11-c61421fae3e8",
   "metadata": {},
   "outputs": [],
   "source": [
    "# Sort a list of integers into positive and negative integers lists.\n",
    "       [1,2,3,4,5,6,-1,-2,-3,-4,-5,0]"
   ]
  },
  {
   "cell_type": "code",
   "execution_count": 77,
   "id": "660d2566-58da-4400-8132-c34a394c8b67",
   "metadata": {},
   "outputs": [],
   "source": [
    "given_list =[1,2,3,4,5,6,-1,-2,-3,-4,-5,0]\n",
    "postive_list = []\n",
    "negative_list = []\n",
    "for i in given_list:\n",
    "    if i >= 0 :\n",
    "        postive_list.append(i)\n",
    "    else:\n",
    "        negative_list.append(i)\n",
    "\n",
    "postive_list.sort()\n",
    "negative_list.sort()\n"
   ]
  },
  {
   "cell_type": "code",
   "execution_count": 79,
   "id": "561ff968-68a1-4d94-bb8f-86e04322db4b",
   "metadata": {},
   "outputs": [
    {
     "data": {
      "text/plain": [
       "[0, 1, 2, 3, 4, 5, 6]"
      ]
     },
     "execution_count": 79,
     "metadata": {},
     "output_type": "execute_result"
    }
   ],
   "source": [
    "postive_list\n"
   ]
  },
  {
   "cell_type": "code",
   "execution_count": 80,
   "id": "aac9905d-3b74-4578-b71a-e151de472077",
   "metadata": {},
   "outputs": [
    {
     "data": {
      "text/plain": [
       "[-5, -4, -3, -2, -1]"
      ]
     },
     "execution_count": 80,
     "metadata": {},
     "output_type": "execute_result"
    }
   ],
   "source": [
    "negative_list\n"
   ]
  },
  {
   "cell_type": "code",
   "execution_count": null,
   "id": "5c404efd-94a5-4214-815a-002213c488bd",
   "metadata": {},
   "outputs": [],
   "source": []
  },
  {
   "cell_type": "code",
   "execution_count": null,
   "id": "7362a8c2-2570-41a6-b1fa-1d9980cad938",
   "metadata": {},
   "outputs": [],
   "source": []
  },
  {
   "cell_type": "code",
   "execution_count": null,
   "id": "b7944e2b-eb18-4d62-9fbc-fa07e125a60f",
   "metadata": {},
   "outputs": [],
   "source": []
  }
 ],
 "metadata": {
  "kernelspec": {
   "display_name": "Python 3 (ipykernel)",
   "language": "python",
   "name": "python3"
  },
  "language_info": {
   "codemirror_mode": {
    "name": "ipython",
    "version": 3
   },
   "file_extension": ".py",
   "mimetype": "text/x-python",
   "name": "python",
   "nbconvert_exporter": "python",
   "pygments_lexer": "ipython3",
   "version": "3.10.8"
  }
 },
 "nbformat": 4,
 "nbformat_minor": 5
}
