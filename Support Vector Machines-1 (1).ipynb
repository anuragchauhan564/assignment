{
 "cells": [
  {
   "cell_type": "markdown",
   "id": "74bf4357-8aa4-42a8-8c1e-90c9bf804ae5",
   "metadata": {},
   "source": [
    "Q1. What is the mathematical formula for a linear SVM?"
   ]
  },
  {
   "cell_type": "code",
   "execution_count": null,
   "id": "ff90d63c-5f92-469c-9822-de4265a4f7b3",
   "metadata": {},
   "outputs": [],
   "source": [
    "Ans : Decision Function (Hyperplane Equation):\n",
    "\n",
    "        The decision function of a linear SVM is given by:\n",
    "\n",
    "                f(x)=wT x+b \n",
    "                    Where: f(x) is the decision function.\n",
    "                           w is the weight vector that is orthogonal to the hyperplane.\n",
    "                           b is the bias term (also known as the intercept).\n",
    "                           x is the input feature vector.\n",
    "                        \n",
    "        Margin:\n",
    "            The margin is the distance between the hyperplane and the nearest data point from either class. In a linear SVM, the goal \n",
    "            is to maximize this margin. The margin can be calculated as:\n",
    "                        \n",
    "                          2\n",
    "            Margin =   -------\n",
    "                       || w ||\n",
    "\n",
    "                    || w || is the Euclidean norm (magnitude) of the weight vector  w\n",
    "\n",
    "                    \n",
    "                    The optimization objective can be written as:\n",
    "                                             n\n",
    "                    Minimize  = 1/2 || w || + C ∑  ξi\n",
    "                                             i =1\n",
    "                        \n",
    "                 \n",
    "        C is the regularization parameter that controls the trade-off between maximizing the margin and minimizing the classification error.\n",
    "        A smaller  C leads to a wider margin but allows more misclassification, while a larger C leads to a narrower margin but fewer \n",
    "        misclassifications.       "
   ]
  },
  {
   "cell_type": "markdown",
   "id": "cb7afd53-5d8f-46e5-8e8d-51728a09e189",
   "metadata": {},
   "source": [
    "Q2. What is the objective function of a linear SVM?"
   ]
  },
  {
   "cell_type": "code",
   "execution_count": null,
   "id": "d5c85c36-8170-4a59-b130-2a13517ef42d",
   "metadata": {},
   "outputs": [],
   "source": [
    "Ans : The objective function of a linear Support Vector Machine (SVM) is to find the optimal hyperplane that maximizes the margin between \n",
    "      two classes while considering a penalty for misclassified data points\n",
    "    \n",
    "      Given a training dataset with input features represented as X and corresponding binary class labels y, where X is a matrix with rows \n",
    "      xi  and yi is either -1 (for one class) or 1 (for the other class), the objective of a linear SVM is to find a hyperplane defined by \n",
    "      the weight vector w and bias term b that best separates the two classes.\n",
    "        \n",
    "        The objective function of a linear SVM is typically defined as the following optimization problem:\n",
    "            \n",
    "                                                n\n",
    "                    Minimize  = 1/2 || w || + C ∑  ξi\n",
    "                                                i =1\n",
    "                        where \n",
    "                      || w ||  is the Euclidean norm (magnitude) of the weight vector w\n",
    "                    C is the regularization parameter that controls the trade-off between maximizing the margin and minimizing the\n",
    "                    classification error.\n",
    "                    ξi  are slack variables introduced to handle misclassified data points.\n",
    "                    \n",
    "        The objective function is typically solved using convex optimization techniques to find the optimal values of the weight vector w and \n",
    "        bias term b, which define the separating hyperplane of the linear SVM. The support vectors, which are data points that lie on the\n",
    "        margin or violate the margin, play a crucial role in defining the hyperplane and are instrumental in the SVM's performance."
   ]
  },
  {
   "cell_type": "code",
   "execution_count": null,
   "id": "de815c21-c099-430c-bbaa-b49bcb526324",
   "metadata": {},
   "outputs": [],
   "source": [
    "Q3. What is the kernel trick in SVM?"
   ]
  },
  {
   "cell_type": "code",
   "execution_count": null,
   "id": "7b57077c-d7e9-4582-8072-67d4afd64ec7",
   "metadata": {},
   "outputs": [],
   "source": [
    "Ans : The kernel trick is a fundamental concept in Support Vector Machines (SVMs) that allows SVMs to handle non-linearly separable data\n",
    "      by implicitly transforming it into a higher-dimensional space. This transformation is performed in such a way that the data becomes \n",
    "      linearly separable in the higher-dimensional space, even though it may not be linearly separable in the original feature space.\n",
    "        \n",
    "        Commonly used kernel functions include:\n",
    "        Linear Kernel: \n",
    "        Polynomial Kernel: \n",
    "        Radial Basis Function (RBF) Kernel: \n",
    "        Sigmoid Kernel: \n"
   ]
  },
  {
   "cell_type": "code",
   "execution_count": null,
   "id": "6332a750-726d-40b8-ac0f-062dedb81f7b",
   "metadata": {},
   "outputs": [],
   "source": [
    "Q4. What is the role of support vectors in SVM Explain with example"
   ]
  },
  {
   "cell_type": "code",
   "execution_count": null,
   "id": "b7f865d6-ecc8-4ffa-a825-8c590fa8233d",
   "metadata": {},
   "outputs": [],
   "source": [
    "Ans : Role of Support Vectors:\n",
    "        Support vectors are the data points that either lie on the margin or are misclassified. They play several key roles in SVMs:\n",
    "        1. Defining the Margin: The optimal hyperplane in SVM is positioned in such a way that it maximizes the margin between the \n",
    "                                two classes while ensuring that no data points violate the margin. Support vectors are the data points \n",
    "                                that are closest to the hyperplane and are exactly at the margin. They define the margin's location and \n",
    "                                orientation.\n",
    "\n",
    "        2.Determining the Hyperplane: The support vectors are crucial in determining the equation of the optimal hyperplane. The weight vector \n",
    "                                      w and the bias term b of the hyperplane are computed based on the support vectors. This hyperplane is the \n",
    "                                      one that best separates the  two classes while maximizing the margin.\n",
    "        3.Handling Misclassification: When the training data is not perfectly separable, which is often the case in real-world scenarios,\n",
    "                                      the SVM allows for some misclassification. Support vectors can be data points from both the positive\n",
    "                                      and negative classes that are misclassified or close to being misclassified. The presence of support \n",
    "                                      vectors that are misclassified or near the margin highlights the robustness of the SVM in handling noisy \n",
    "                                       or overlapping data.\n",
    "            \n",
    "            Example:\n",
    "                Let's consider a simple example with two classes, \"Red\" and \"Blue,\" where we want to classify points in a 2D feature space.\n",
    "                    The \"Red\" class has data points in the shape of a circle.\n",
    "                    The \"Blue\" class has data points in the shape of a square.\n",
    "            \n",
    "        In this scenario, the data points on the boundary between the two shapes, where they are closest to each other, will become support\n",
    "        vectors. These support vectors define the optimal hyperplane (the decision boundary) between the two classes. The margin is the \n",
    "        region between the circles and squares that contains no data points. The hyperplane is positioned to maximize this margin while \n",
    "        ensuring that it doesn't cross any data points.\n",
    "\n",
    "        Support vectors may include some data points that are misclassified or near the margin. These points are crucial in determining \n",
    "        the robustness of the SVM and its ability to generalize to new, unseen data."
   ]
  },
  {
   "cell_type": "code",
   "execution_count": null,
   "id": "becdadd3-9023-4caf-9609-48e3ccf4c0c8",
   "metadata": {},
   "outputs": [],
   "source": [
    "Q5. Illustrate with examples and graphs of Hyperplane, Marginal plane, Soft margin and Hard margin in\n",
    "    SVM?"
   ]
  },
  {
   "cell_type": "code",
   "execution_count": null,
   "id": "ee766cdf-c75d-47a1-a729-ca7e75581030",
   "metadata": {},
   "outputs": [],
   "source": [
    "Ans : Consider a 2D classification problem with two classes, \"Positive\" and \"Negative.\"\n",
    "\n",
    "        1. Hyperplane:\n",
    "            The hyperplane is the decision boundary that separates the two classes. In a 2D space, the hyperplane is a line. \n",
    "            The objective is to find the hyperplane that maximizes the margin between the two classes.\n",
    "\n",
    "        2. Marginal Plane:\n",
    "            The marginal plane includes the lines parallel to the hyperplane and touching the nearest data points from each class.\n",
    "            These data points are called support vectors. The distance between these lines is the margin.\n",
    "        \n",
    "        3. Soft Margin:\n",
    "            In scenarios where the data is not linearly separable, a soft margin SVM allows for some misclassification. \n",
    "            The goal is to find a hyperplane that separates the majority of the data correctly while allowing some misclassified points.\n",
    "            The soft margin SVM introduces slack variables (ξ) that allow points to be on the wrong side of the margin or hyperplane,\n",
    "            but with a penalty.\n",
    "\n",
    "        4. Hard Margin:\n",
    "            In contrast, a hard margin SVM aims for perfect separation without any misclassification. It works well when the classes \n",
    "            are perfectly separable, but it may perform poorly with noisy or overlapping data."
   ]
  },
  {
   "cell_type": "code",
   "execution_count": 1,
   "id": "f66d9928-481a-4934-b4b1-e1e8caf2eed1",
   "metadata": {},
   "outputs": [
    {
     "data": {
      "image/png": "[encoded data removed]",
      "text/plain": [
       "<Figure size 640x480 with 1 Axes>"
      ]
     },
     "metadata": {},
     "output_type": "display_data"
    }
   ],
   "source": [
    "import numpy as np\n",
    "import matplotlib.pyplot as plt\n",
    "\n",
    "# Sample data points for illustration\n",
    "positive_points = np.array([[2, 3], [3, 5], [4, 4]])\n",
    "negative_points = np.array([[1, 1], [2, 2], [3, 3]])\n",
    "\n",
    "# Hyperplane (Decision Boundary)\n",
    "w = np.array([1, -1])  # Hyperplane vector\n",
    "b = 0  # Bias term\n",
    "x_hyperplane = np.linspace(0, 5, 100)\n",
    "y_hyperplane = (-w[0] * x_hyperplane + b) / w[1]\n",
    "\n",
    "# Marginal Planes (Support Vectors)\n",
    "margin = 1 / np.linalg.norm(w)  # Margin distance\n",
    "y_margin_up = y_hyperplane + margin\n",
    "y_margin_down = y_hyperplane - margin\n",
    "\n",
    "# Plotting\n",
    "plt.scatter(positive_points[:, 0], positive_points[:, 1], color='red', label='Positive')\n",
    "plt.scatter(negative_points[:, 0], negative_points[:, 1], color='blue', label='Negative')\n",
    "plt.plot(x_hyperplane, y_hyperplane, color='green', label='Hyperplane')\n",
    "plt.plot(x_hyperplane, y_margin_up, linestyle='--', color='orange', label='Margin Up')\n",
    "plt.plot(x_hyperplane, y_margin_down, linestyle='--', color='orange', label='Margin Down')\n",
    "plt.xlabel('Feature 1')\n",
    "plt.ylabel('Feature 2')\n",
    "plt.title('SVM Concepts Illustration')\n",
    "plt.legend()\n",
    "plt.grid(True)\n",
    "plt.axis([0, 5, 0, 6])\n",
    "plt.show()"
   ]
  },
  {
   "cell_type": "code",
   "execution_count": null,
   "id": "3be688e7-7c7b-4ac6-b9fa-5cdd1aad25a5",
   "metadata": {},
   "outputs": [],
   "source": [
    "In this graph:\n",
    "The green line represents the hyperplane.\n",
    "The orange dashed lines represent the marginal planes.\n",
    "The red points are positive class data points.\n",
    "The blue points are negative class data points."
   ]
  },
  {
   "cell_type": "code",
   "execution_count": null,
   "id": "05a947cd-d71b-4762-8781-7fa69670a755",
   "metadata": {},
   "outputs": [],
   "source": [
    "Q6. SVM Implementation through Iris dataset.\n",
    "\n",
    "Bonus task: Implement a linear SVM classifier from scratch using Python and compare its\n",
    "performance with the scikit-learn implementation.\n",
    "~ Load the iris dataset from the scikit-learn library and split it into a training set and a testing sets\n",
    "~ Train a linear SVM classifier on the training set and predict the labels for the testing sets\n",
    "~ Compute the accuracy of the model on the testing sets\n",
    "~ Plot the decision boundaries of the trained model using two of the featuress\n",
    "~ Try different values of the regularisation parameter C and see how it affects the performance of\n",
    "the model."
   ]
  },
  {
   "cell_type": "code",
   "execution_count": 122,
   "id": "6839ae7c-5fc2-4091-a81f-9bc302c05149",
   "metadata": {},
   "outputs": [],
   "source": [
    "import numpy as np\n",
    "import pandas as pd"
   ]
  },
  {
   "cell_type": "code",
   "execution_count": 123,
   "id": "2631b822-9636-4e4f-b8f3-409732e07633",
   "metadata": {},
   "outputs": [],
   "source": [
    "\n",
    "from sklearn.datasets import load_iris"
   ]
  },
  {
   "cell_type": "code",
   "execution_count": 124,
   "id": "1a6c6c46-7877-4804-b0e4-d082526cc51d",
   "metadata": {},
   "outputs": [],
   "source": [
    "data = load_iris()"
   ]
  },
  {
   "cell_type": "code",
   "execution_count": 125,
   "id": "81b97fab-b35d-4749-be76-b68a4da0812e",
   "metadata": {},
   "outputs": [],
   "source": [
    "X = pd.DataFrame(data.data,columns=data.feature_names)"
   ]
  },
  {
   "cell_type": "code",
   "execution_count": 126,
   "id": "baacc2a7-2c81-42be-88f2-6b030531074f",
   "metadata": {},
   "outputs": [
    {
     "data": {
      "text/html": [
       "<div>\n",
       "<style scoped>\n",
       "    .dataframe tbody tr th:only-of-type {\n",
       "        vertical-align: middle;\n",
       "    }\n",
       "\n",
       "    .dataframe tbody tr th {\n",
       "        vertical-align: top;\n",
       "    }\n",
       "\n",
       "    .dataframe thead th {\n",
       "        text-align: right;\n",
       "    }\n",
       "</style>\n",
       "<table border=\"1\" class=\"dataframe\">\n",
       "  <thead>\n",
       "    <tr style=\"text-align: right;\">\n",
       "      <th></th>\n",
       "      <th>sepal length (cm)</th>\n",
       "      <th>sepal width (cm)</th>\n",
       "      <th>petal length (cm)</th>\n",
       "      <th>petal width (cm)</th>\n",
       "    </tr>\n",
       "  </thead>\n",
       "  <tbody>\n",
       "    <tr>\n",
       "      <th>0</th>\n",
       "      <td>5.1</td>\n",
       "      <td>3.5</td>\n",
       "      <td>1.4</td>\n",
       "      <td>0.2</td>\n",
       "    </tr>\n",
       "    <tr>\n",
       "      <th>1</th>\n",
       "      <td>4.9</td>\n",
       "      <td>3.0</td>\n",
       "      <td>1.4</td>\n",
       "      <td>0.2</td>\n",
       "    </tr>\n",
       "    <tr>\n",
       "      <th>2</th>\n",
       "      <td>4.7</td>\n",
       "      <td>3.2</td>\n",
       "      <td>1.3</td>\n",
       "      <td>0.2</td>\n",
       "    </tr>\n",
       "    <tr>\n",
       "      <th>3</th>\n",
       "      <td>4.6</td>\n",
       "      <td>3.1</td>\n",
       "      <td>1.5</td>\n",
       "      <td>0.2</td>\n",
       "    </tr>\n",
       "    <tr>\n",
       "      <th>4</th>\n",
       "      <td>5.0</td>\n",
       "      <td>3.6</td>\n",
       "      <td>1.4</td>\n",
       "      <td>0.2</td>\n",
       "    </tr>\n",
       "  </tbody>\n",
       "</table>\n",
       "</div>"
      ],
      "text/plain": [
       "   sepal length (cm)  sepal width (cm)  petal length (cm)  petal width (cm)\n",
       "0                5.1               3.5                1.4               0.2\n",
       "1                4.9               3.0                1.4               0.2\n",
       "2                4.7               3.2                1.3               0.2\n",
       "3                4.6               3.1                1.5               0.2\n",
       "4                5.0               3.6                1.4               0.2"
      ]
     },
     "execution_count": 126,
     "metadata": {},
     "output_type": "execute_result"
    }
   ],
   "source": [
    "X.head()"
   ]
  },
  {
   "cell_type": "code",
   "execution_count": 127,
   "id": "2bd37dc0-5a2f-4e1f-98a3-12d9e3de8ec7",
   "metadata": {},
   "outputs": [],
   "source": [
    "y = data.target"
   ]
  },
  {
   "cell_type": "code",
   "execution_count": 128,
   "id": "40ebb2b1-0f56-47e9-8c27-046675a1e1a7",
   "metadata": {},
   "outputs": [
    {
     "data": {
      "text/plain": [
       "array([0, 0, 0, 0, 0, 0, 0, 0, 0, 0, 0, 0, 0, 0, 0, 0, 0, 0, 0, 0, 0, 0,\n",
       "       0, 0, 0, 0, 0, 0, 0, 0, 0, 0, 0, 0, 0, 0, 0, 0, 0, 0, 0, 0, 0, 0,\n",
       "       0, 0, 0, 0, 0, 0, 1, 1, 1, 1, 1, 1, 1, 1, 1, 1, 1, 1, 1, 1, 1, 1,\n",
       "       1, 1, 1, 1, 1, 1, 1, 1, 1, 1, 1, 1, 1, 1, 1, 1, 1, 1, 1, 1, 1, 1,\n",
       "       1, 1, 1, 1, 1, 1, 1, 1, 1, 1, 1, 1, 2, 2, 2, 2, 2, 2, 2, 2, 2, 2,\n",
       "       2, 2, 2, 2, 2, 2, 2, 2, 2, 2, 2, 2, 2, 2, 2, 2, 2, 2, 2, 2, 2, 2,\n",
       "       2, 2, 2, 2, 2, 2, 2, 2, 2, 2, 2, 2, 2, 2, 2, 2, 2, 2])"
      ]
     },
     "execution_count": 128,
     "metadata": {},
     "output_type": "execute_result"
    }
   ],
   "source": [
    "y"
   ]
  },
  {
   "cell_type": "code",
   "execution_count": 129,
   "id": "9ba9850c-4109-4330-bda2-ff59aaf6c789",
   "metadata": {},
   "outputs": [],
   "source": [
    "from sklearn.model_selection import train_test_split"
   ]
  },
  {
   "cell_type": "code",
   "execution_count": 130,
   "id": "a5dab7b1-6ac3-49a0-a2a1-171998ee728b",
   "metadata": {},
   "outputs": [],
   "source": [
    "X_train, X_test, y_train, y_test = train_test_split(X,y,test_size=0.25,random_state=42)"
   ]
  },
  {
   "cell_type": "code",
   "execution_count": 131,
   "id": "eb752812-da67-4ed4-9e51-a83ea73d04db",
   "metadata": {},
   "outputs": [
    {
     "data": {
      "text/plain": [
       "((112, 4), (38, 4))"
      ]
     },
     "execution_count": 131,
     "metadata": {},
     "output_type": "execute_result"
    }
   ],
   "source": [
    "X_train.shape, X_test.shape"
   ]
  },
  {
   "cell_type": "code",
   "execution_count": 132,
   "id": "666ff3bd-7d5a-4039-b7c2-7db6eb971620",
   "metadata": {},
   "outputs": [],
   "source": [
    "from sklearn.svm import LinearSVC"
   ]
  },
  {
   "cell_type": "code",
   "execution_count": 133,
   "id": "aee5915b-75b6-4d82-8507-78968ae3e173",
   "metadata": {},
   "outputs": [],
   "source": [
    "svc_classifier = LinearSVC()"
   ]
  },
  {
   "cell_type": "code",
   "execution_count": 134,
   "id": "c4c5d648-7560-4c16-bbfb-06977b259aed",
   "metadata": {},
   "outputs": [
    {
     "name": "stderr",
     "output_type": "stream",
     "text": [
      "/opt/conda/lib/python3.10/site-packages/sklearn/svm/_base.py:1244: ConvergenceWarning: Liblinear failed to converge, increase the number of iterations.\n",
      "  warnings.warn(\n"
     ]
    },
    {
     "data": {
      "text/html": [
       "<style>#sk-container-id-6 {color: black;background-color: white;}#sk-container-id-6 pre{padding: 0;}#sk-container-id-6 div.sk-toggleable {background-color: white;}#sk-container-id-6 label.sk-toggleable__label {cursor: pointer;display: block;width: 100%;margin-bottom: 0;padding: 0.3em;box-sizing: border-box;text-align: center;}#sk-container-id-6 label.sk-toggleable__label-arrow:before {content: \"▸\";float: left;margin-right: 0.25em;color: #696969;}#sk-container-id-6 label.sk-toggleable__label-arrow:hover:before {color: black;}#sk-container-id-6 div.sk-estimator:hover label.sk-toggleable__label-arrow:before {color: black;}#sk-container-id-6 div.sk-toggleable__content {max-height: 0;max-width: 0;overflow: hidden;text-align: left;background-color: #f0f8ff;}#sk-container-id-6 div.sk-toggleable__content pre {margin: 0.2em;color: black;border-radius: 0.25em;background-color: #f0f8ff;}#sk-container-id-6 input.sk-toggleable__control:checked~div.sk-toggleable__content {max-height: 200px;max-width: 100%;overflow: auto;}#sk-container-id-6 input.sk-toggleable__control:checked~label.sk-toggleable__label-arrow:before {content: \"▾\";}#sk-container-id-6 div.sk-estimator input.sk-toggleable__control:checked~label.sk-toggleable__label {background-color: #d4ebff;}#sk-container-id-6 div.sk-label input.sk-toggleable__control:checked~label.sk-toggleable__label {background-color: #d4ebff;}#sk-container-id-6 input.sk-hidden--visually {border: 0;clip: rect(1px 1px 1px 1px);clip: rect(1px, 1px, 1px, 1px);height: 1px;margin: -1px;overflow: hidden;padding: 0;position: absolute;width: 1px;}#sk-container-id-6 div.sk-estimator {font-family: monospace;background-color: #f0f8ff;border: 1px dotted black;border-radius: 0.25em;box-sizing: border-box;margin-bottom: 0.5em;}#sk-container-id-6 div.sk-estimator:hover {background-color: #d4ebff;}#sk-container-id-6 div.sk-parallel-item::after {content: \"\";width: 100%;border-bottom: 1px solid gray;flex-grow: 1;}#sk-container-id-6 div.sk-label:hover label.sk-toggleable__label {background-color: #d4ebff;}#sk-container-id-6 div.sk-serial::before {content: \"\";position: absolute;border-left: 1px solid gray;box-sizing: border-box;top: 0;bottom: 0;left: 50%;z-index: 0;}#sk-container-id-6 div.sk-serial {display: flex;flex-direction: column;align-items: center;background-color: white;padding-right: 0.2em;padding-left: 0.2em;position: relative;}#sk-container-id-6 div.sk-item {position: relative;z-index: 1;}#sk-container-id-6 div.sk-parallel {display: flex;align-items: stretch;justify-content: center;background-color: white;position: relative;}#sk-container-id-6 div.sk-item::before, #sk-container-id-6 div.sk-parallel-item::before {content: \"\";position: absolute;border-left: 1px solid gray;box-sizing: border-box;top: 0;bottom: 0;left: 50%;z-index: -1;}#sk-container-id-6 div.sk-parallel-item {display: flex;flex-direction: column;z-index: 1;position: relative;background-color: white;}#sk-container-id-6 div.sk-parallel-item:first-child::after {align-self: flex-end;width: 50%;}#sk-container-id-6 div.sk-parallel-item:last-child::after {align-self: flex-start;width: 50%;}#sk-container-id-6 div.sk-parallel-item:only-child::after {width: 0;}#sk-container-id-6 div.sk-dashed-wrapped {border: 1px dashed gray;margin: 0 0.4em 0.5em 0.4em;box-sizing: border-box;padding-bottom: 0.4em;background-color: white;}#sk-container-id-6 div.sk-label label {font-family: monospace;font-weight: bold;display: inline-block;line-height: 1.2em;}#sk-container-id-6 div.sk-label-container {text-align: center;}#sk-container-id-6 div.sk-container {/* jupyter's `normalize.less` sets `[hidden] { display: none; }` but bootstrap.min.css set `[hidden] { display: none !important; }` so we also need the `!important` here to be able to override the default hidden behavior on the sphinx rendered scikit-learn.org. See: https://github.com/scikit-learn/scikit-learn/issues/21755 */display: inline-block !important;position: relative;}#sk-container-id-6 div.sk-text-repr-fallback {display: none;}</style><div id=\"sk-container-id-6\" class=\"sk-top-container\"><div class=\"sk-text-repr-fallback\"><pre>LinearSVC()</pre><b>In a Jupyter environment, please rerun this cell to show the HTML representation or trust the notebook. <br />On GitHub, the HTML representation is unable to render, please try loading this page with nbviewer.org.</b></div><div class=\"sk-container\" hidden><div class=\"sk-item\"><div class=\"sk-estimator sk-toggleable\"><input class=\"sk-toggleable__control sk-hidden--visually\" id=\"sk-estimator-id-6\" type=\"checkbox\" checked><label for=\"sk-estimator-id-6\" class=\"sk-toggleable__label sk-toggleable__label-arrow\">LinearSVC</label><div class=\"sk-toggleable__content\"><pre>LinearSVC()</pre></div></div></div></div></div>"
      ],
      "text/plain": [
       "LinearSVC()"
      ]
     },
     "execution_count": 134,
     "metadata": {},
     "output_type": "execute_result"
    }
   ],
   "source": [
    "svc_classifier.fit(X_train,y_train)"
   ]
  },
  {
   "cell_type": "code",
   "execution_count": 135,
   "id": "516f2005-c44b-4cb0-9d2c-e38febe43e18",
   "metadata": {},
   "outputs": [],
   "source": [
    "y_pred = svc_classifier.predict(X_test)"
   ]
  },
  {
   "cell_type": "code",
   "execution_count": 136,
   "id": "25c0c32d-f536-428a-9bb9-595e2547f758",
   "metadata": {},
   "outputs": [
    {
     "data": {
      "text/plain": [
       "array([1, 0, 2, 1, 1, 0, 1, 2, 1, 1, 2, 0, 0, 0, 0, 1, 2, 1, 1, 2, 0, 2,\n",
       "       0, 2, 2, 2, 2, 2, 0, 0, 0, 0, 1, 0, 0, 2, 1, 0])"
      ]
     },
     "execution_count": 136,
     "metadata": {},
     "output_type": "execute_result"
    }
   ],
   "source": [
    "y_pred"
   ]
  },
  {
   "cell_type": "code",
   "execution_count": 137,
   "id": "e1cb804d-76ee-4b34-9410-2f270e2d6da9",
   "metadata": {},
   "outputs": [
    {
     "data": {
      "text/plain": [
       "array([1, 0, 2, 1, 1, 0, 1, 2, 1, 1, 2, 0, 0, 0, 0, 1, 2, 1, 1, 2, 0, 2,\n",
       "       0, 2, 2, 2, 2, 2, 0, 0, 0, 0, 1, 0, 0, 2, 1, 0])"
      ]
     },
     "execution_count": 137,
     "metadata": {},
     "output_type": "execute_result"
    }
   ],
   "source": [
    "y_test"
   ]
  },
  {
   "cell_type": "code",
   "execution_count": 138,
   "id": "364ad69a-dd8e-49a4-af81-e47bae40da87",
   "metadata": {},
   "outputs": [],
   "source": [
    "from sklearn.metrics import accuracy_score, confusion_matrix,classification_report"
   ]
  },
  {
   "cell_type": "code",
   "execution_count": 139,
   "id": "9e475a71-0cc3-45e7-a3cf-7f30a0dd674f",
   "metadata": {},
   "outputs": [
    {
     "name": "stdout",
     "output_type": "stream",
     "text": [
      "1.0\n"
     ]
    }
   ],
   "source": [
    "print(accuracy_score(y_test,y_pred))"
   ]
  },
  {
   "cell_type": "code",
   "execution_count": 140,
   "id": "3647934c-8bde-4f3a-94ea-ff06ef9895f3",
   "metadata": {},
   "outputs": [
    {
     "name": "stdout",
     "output_type": "stream",
     "text": [
      "[[15  0  0]\n",
      " [ 0 11  0]\n",
      " [ 0  0 12]]\n"
     ]
    }
   ],
   "source": [
    "print(confusion_matrix(y_test,y_pred))"
   ]
  },
  {
   "cell_type": "code",
   "execution_count": 141,
   "id": "d51430c3-13b7-4f86-b98a-a3f5912caa57",
   "metadata": {},
   "outputs": [
    {
     "name": "stdout",
     "output_type": "stream",
     "text": [
      "              precision    recall  f1-score   support\n",
      "\n",
      "           0       1.00      1.00      1.00        15\n",
      "           1       1.00      1.00      1.00        11\n",
      "           2       1.00      1.00      1.00        12\n",
      "\n",
      "    accuracy                           1.00        38\n",
      "   macro avg       1.00      1.00      1.00        38\n",
      "weighted avg       1.00      1.00      1.00        38\n",
      "\n"
     ]
    }
   ],
   "source": [
    "print(classification_report(y_test,y_pred))"
   ]
  },
  {
   "cell_type": "code",
   "execution_count": 142,
   "id": "345c3200-5252-44e1-847e-0e98156430e8",
   "metadata": {},
   "outputs": [
    {
     "data": {
      "text/plain": [
       "0      5.1\n",
       "1      4.9\n",
       "2      4.7\n",
       "3      4.6\n",
       "4      5.0\n",
       "      ... \n",
       "145    6.7\n",
       "146    6.3\n",
       "147    6.5\n",
       "148    6.2\n",
       "149    5.9\n",
       "Name: sepal length (cm), Length: 150, dtype: float64"
      ]
     },
     "execution_count": 142,
     "metadata": {},
     "output_type": "execute_result"
    }
   ],
   "source": [
    "X['sepal length (cm)']"
   ]
  },
  {
   "cell_type": "code",
   "execution_count": 146,
   "id": "26676930-a82f-48b3-adb0-872775509f99",
   "metadata": {},
   "outputs": [],
   "source": [
    "# Step 5: Plot the decision boundaries using two features (Sepal Length and Sepal Width)\n",
    "x_min, x_max = X['sepal length (cm)'].min() - 1, X['sepal length (cm)'].max() + 1\n",
    "y_min, y_max = X['sepal width (cm)'].min() - 1, X['sepal width (cm)'].max() + 1"
   ]
  },
  {
   "cell_type": "code",
   "execution_count": 147,
   "id": "408ffb6e-4b23-416f-b4bf-5bf1f050cc5a",
   "metadata": {},
   "outputs": [],
   "source": [
    "xx, yy = np.meshgrid(np.arange(x_min, x_max, 0.02), np.arange(y_min, y_max, 0.02))"
   ]
  },
  {
   "cell_type": "code",
   "execution_count": 148,
   "id": "53e25ee0-7393-49c0-b0e2-59ba883858a9",
   "metadata": {},
   "outputs": [],
   "source": [
    "Z = svm_classifier.predict(np.c_[xx.ravel(), yy.ravel()])\n",
    "Z = Z.reshape(xx.shape)"
   ]
  },
  {
   "cell_type": "code",
   "execution_count": 152,
   "id": "ffa9f4c0-b5b3-4dd0-a9d4-3fdf4d95dcb6",
   "metadata": {},
   "outputs": [
    {
     "data": {
      "image/png": "[encoded data removed]",
      "text/plain": [
       "<Figure size 640x480 with 1 Axes>"
      ]
     },
     "metadata": {},
     "output_type": "display_data"
    }
   ],
   "source": [
    "plt.contourf(xx, yy, Z, alpha=0.8)\n",
    "plt.scatter(X['sepal length (cm)'], X['sepal width (cm)'], c=y, cmap=plt.cm.coolwarm)\n",
    "plt.xlabel('Feature 1')\n",
    "plt.ylabel('Feature 2')\n",
    "plt.title('Decision Boundaries of scikit-learn SVM')\n",
    "plt.show()"
   ]
  },
  {
   "cell_type": "code",
   "execution_count": 153,
   "id": "76e9bfad-ae42-4a87-b01e-6c5c265df3a9",
   "metadata": {},
   "outputs": [],
   "source": [
    "svc_classifier = SVC(kernel=\"linear\", C= 10)"
   ]
  },
  {
   "cell_type": "code",
   "execution_count": 154,
   "id": "fc5ab60a-ae5a-47bc-8760-c88bfed2a697",
   "metadata": {},
   "outputs": [
    {
     "data": {
      "text/html": [
       "<style>#sk-container-id-7 {color: black;background-color: white;}#sk-container-id-7 pre{padding: 0;}#sk-container-id-7 div.sk-toggleable {background-color: white;}#sk-container-id-7 label.sk-toggleable__label {cursor: pointer;display: block;width: 100%;margin-bottom: 0;padding: 0.3em;box-sizing: border-box;text-align: center;}#sk-container-id-7 label.sk-toggleable__label-arrow:before {content: \"▸\";float: left;margin-right: 0.25em;color: #696969;}#sk-container-id-7 label.sk-toggleable__label-arrow:hover:before {color: black;}#sk-container-id-7 div.sk-estimator:hover label.sk-toggleable__label-arrow:before {color: black;}#sk-container-id-7 div.sk-toggleable__content {max-height: 0;max-width: 0;overflow: hidden;text-align: left;background-color: #f0f8ff;}#sk-container-id-7 div.sk-toggleable__content pre {margin: 0.2em;color: black;border-radius: 0.25em;background-color: #f0f8ff;}#sk-container-id-7 input.sk-toggleable__control:checked~div.sk-toggleable__content {max-height: 200px;max-width: 100%;overflow: auto;}#sk-container-id-7 input.sk-toggleable__control:checked~label.sk-toggleable__label-arrow:before {content: \"▾\";}#sk-container-id-7 div.sk-estimator input.sk-toggleable__control:checked~label.sk-toggleable__label {background-color: #d4ebff;}#sk-container-id-7 div.sk-label input.sk-toggleable__control:checked~label.sk-toggleable__label {background-color: #d4ebff;}#sk-container-id-7 input.sk-hidden--visually {border: 0;clip: rect(1px 1px 1px 1px);clip: rect(1px, 1px, 1px, 1px);height: 1px;margin: -1px;overflow: hidden;padding: 0;position: absolute;width: 1px;}#sk-container-id-7 div.sk-estimator {font-family: monospace;background-color: #f0f8ff;border: 1px dotted black;border-radius: 0.25em;box-sizing: border-box;margin-bottom: 0.5em;}#sk-container-id-7 div.sk-estimator:hover {background-color: #d4ebff;}#sk-container-id-7 div.sk-parallel-item::after {content: \"\";width: 100%;border-bottom: 1px solid gray;flex-grow: 1;}#sk-container-id-7 div.sk-label:hover label.sk-toggleable__label {background-color: #d4ebff;}#sk-container-id-7 div.sk-serial::before {content: \"\";position: absolute;border-left: 1px solid gray;box-sizing: border-box;top: 0;bottom: 0;left: 50%;z-index: 0;}#sk-container-id-7 div.sk-serial {display: flex;flex-direction: column;align-items: center;background-color: white;padding-right: 0.2em;padding-left: 0.2em;position: relative;}#sk-container-id-7 div.sk-item {position: relative;z-index: 1;}#sk-container-id-7 div.sk-parallel {display: flex;align-items: stretch;justify-content: center;background-color: white;position: relative;}#sk-container-id-7 div.sk-item::before, #sk-container-id-7 div.sk-parallel-item::before {content: \"\";position: absolute;border-left: 1px solid gray;box-sizing: border-box;top: 0;bottom: 0;left: 50%;z-index: -1;}#sk-container-id-7 div.sk-parallel-item {display: flex;flex-direction: column;z-index: 1;position: relative;background-color: white;}#sk-container-id-7 div.sk-parallel-item:first-child::after {align-self: flex-end;width: 50%;}#sk-container-id-7 div.sk-parallel-item:last-child::after {align-self: flex-start;width: 50%;}#sk-container-id-7 div.sk-parallel-item:only-child::after {width: 0;}#sk-container-id-7 div.sk-dashed-wrapped {border: 1px dashed gray;margin: 0 0.4em 0.5em 0.4em;box-sizing: border-box;padding-bottom: 0.4em;background-color: white;}#sk-container-id-7 div.sk-label label {font-family: monospace;font-weight: bold;display: inline-block;line-height: 1.2em;}#sk-container-id-7 div.sk-label-container {text-align: center;}#sk-container-id-7 div.sk-container {/* jupyter's `normalize.less` sets `[hidden] { display: none; }` but bootstrap.min.css set `[hidden] { display: none !important; }` so we also need the `!important` here to be able to override the default hidden behavior on the sphinx rendered scikit-learn.org. See: https://github.com/scikit-learn/scikit-learn/issues/21755 */display: inline-block !important;position: relative;}#sk-container-id-7 div.sk-text-repr-fallback {display: none;}</style><div id=\"sk-container-id-7\" class=\"sk-top-container\"><div class=\"sk-text-repr-fallback\"><pre>SVC(C=10, kernel=&#x27;linear&#x27;)</pre><b>In a Jupyter environment, please rerun this cell to show the HTML representation or trust the notebook. <br />On GitHub, the HTML representation is unable to render, please try loading this page with nbviewer.org.</b></div><div class=\"sk-container\" hidden><div class=\"sk-item\"><div class=\"sk-estimator sk-toggleable\"><input class=\"sk-toggleable__control sk-hidden--visually\" id=\"sk-estimator-id-7\" type=\"checkbox\" checked><label for=\"sk-estimator-id-7\" class=\"sk-toggleable__label sk-toggleable__label-arrow\">SVC</label><div class=\"sk-toggleable__content\"><pre>SVC(C=10, kernel=&#x27;linear&#x27;)</pre></div></div></div></div></div>"
      ],
      "text/plain": [
       "SVC(C=10, kernel='linear')"
      ]
     },
     "execution_count": 154,
     "metadata": {},
     "output_type": "execute_result"
    }
   ],
   "source": [
    "svc_classifier.fit(X_train,y_train)"
   ]
  },
  {
   "cell_type": "code",
   "execution_count": 119,
   "id": "d32a29c2-2170-4709-abee-da354e126789",
   "metadata": {},
   "outputs": [],
   "source": [
    "y_pred = svc_classifier.predict(X_test)"
   ]
  },
  {
   "cell_type": "code",
   "execution_count": 120,
   "id": "8fa2a57a-e6ae-4d39-bc5c-922ec5f534e2",
   "metadata": {},
   "outputs": [
    {
     "data": {
      "text/plain": [
       "array([1, 0, 2, 1, 2, 0, 1, 2, 1, 1, 2, 0, 0, 0, 0, 2, 2, 1, 1, 2, 0, 1,\n",
       "       0, 2, 2, 2, 2, 2, 0, 0])"
      ]
     },
     "execution_count": 120,
     "metadata": {},
     "output_type": "execute_result"
    }
   ],
   "source": [
    "y_pred"
   ]
  },
  {
   "cell_type": "code",
   "execution_count": 121,
   "id": "3b7d9644-5415-461a-9d6a-e5e726b92416",
   "metadata": {},
   "outputs": [
    {
     "name": "stdout",
     "output_type": "stream",
     "text": [
      "0.9\n"
     ]
    }
   ],
   "source": [
    "print(accuracy_score(y_test,y_pred))"
   ]
  },
  {
   "cell_type": "code",
   "execution_count": null,
   "id": "f8b47491-5e90-43a3-8fe6-d231777f0f08",
   "metadata": {},
   "outputs": [],
   "source": []
  }
 ],
 "metadata": {
  "kernelspec": {
   "display_name": "Python 3 (ipykernel)",
   "language": "python",
   "name": "python3"
  },
  "language_info": {
   "codemirror_mode": {
    "name": "ipython",
    "version": 3
   },
   "file_extension": ".py",
   "mimetype": "text/x-python",
   "name": "python",
   "nbconvert_exporter": "python",
   "pygments_lexer": "ipython3",
   "version": "3.10.8"
  }
 },
 "nbformat": 4,
 "nbformat_minor": 5
}
