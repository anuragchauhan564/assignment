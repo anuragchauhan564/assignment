{
 "cells": [
  {
   "cell_type": "code",
   "execution_count": null,
   "id": "f217fb4d-f4c3-417e-89fc-d7b0e14275fa",
   "metadata": {},
   "outputs": [],
   "source": [
    "Q1. What is the difference between Ordinal Encoding and Label Encoding? Provide an example of when you\n",
    "   might choose one over the other."
   ]
  },
  {
   "cell_type": "code",
   "execution_count": null,
   "id": "127d5643-a81b-4efe-8a1d-454dc5c517c6",
   "metadata": {},
   "outputs": [],
   "source": [
    "Ans: Ordinal Encoding:\n",
    "    1.Ordinal Encoding is a technique where each unique category is assigned a numerical value based on \n",
    "      their order or rank. The assigned values carry information about the order or relative positions of \n",
    "      the categories.\n",
    "    2. Ordinal Encoding is suitable when there is a clear ordering or rank among the categories.\n",
    "    3.For example, in the \"color\" feature with categories \"Red,\" \"Green,\" and \"Blue,\" label encoding\n",
    "      might assign values like 1, 2, and 3, respectively.\n",
    "    \n",
    "    Label Encoding:\n",
    "    1.Label Encoding is a technique where each unique category is assigned a numerical label arbitrarily. \n",
    "      The assigned values do not carry any inherent order or meaning.\n",
    "    2.Label Encoding is suitable when there is no natural ordering or ranking among the categories, and the \n",
    "      numerical values are used simply as identifiers. It is a straightforward method to convert categorical data into numerical format.\n",
    "    3.Example of when to choose one over the other:\n",
    "        Let's consider a dataset with a \"Size\" feature that represents clothing sizes. The possible categories are \n",
    "        \"Small,\" \"Medium,\" and \"Large.\" In this case, the categories have a natural order, as \"Small\" < \"Medium\" < \"Large.\" Here, \n",
    "        ordinal encoding would be appropriate because it captures the order of the sizes and allows the algorithm to understand that \n",
    "        \"Large\" is larger than \"Medium\" and \"Small.\""
   ]
  },
  {
   "cell_type": "code",
   "execution_count": null,
   "id": "41ce55f0-80ac-4251-9288-abd51d3f9599",
   "metadata": {},
   "outputs": [],
   "source": [
    "Q2. Explain how Target Guided Ordinal Encoding works and provide an example of when you might use it in\n",
    "    a machine learning project."
   ]
  },
  {
   "cell_type": "code",
   "execution_count": null,
   "id": "5adc2402-bd61-46cd-a7af-c9912454de1c",
   "metadata": {},
   "outputs": [],
   "source": [
    "Ans : Target Guided Ordinal Encoding : \n",
    "         Target Guided Ordinal Encoding is a technique used to convert categorical variables into ordinal numerical values based on their\n",
    "        relationship with the target variable. It assigns values to categories based on the average or aggregated target variable values \n",
    "        associated with each category. The goal is to create a mapping that captures the impact of the categorical variable on the target variable.\n",
    "        \n",
    "        Here's how Target Guided Ordinal Encoding works:\n",
    "\n",
    "            1.Calculate the mean or aggregated target value for each category in the categorical variable.\n",
    "            2.Sort the categories based on their mean or aggregated target values.\n",
    "            3.Assign ordinal numerical values to the categories based on their order or ranking.\n",
    "            "
   ]
  },
  {
   "cell_type": "code",
   "execution_count": 1,
   "id": "959ab35c-d69f-4389-90dd-2327cc27d96a",
   "metadata": {},
   "outputs": [],
   "source": [
    "import pandas as pd"
   ]
  },
  {
   "cell_type": "code",
   "execution_count": 2,
   "id": "2dadfbc0-1297-4141-b44b-06f5cef65da5",
   "metadata": {},
   "outputs": [],
   "source": [
    "df = pd.DataFrame({\n",
    "    \"fruits\" : ['apple','mango','apple','banana','apple','manog','banana','mango','mango','apple'],\n",
    "    \"price\"  : [20,25,20,25,15,25,30,25,20,15]\n",
    "})"
   ]
  },
  {
   "cell_type": "code",
   "execution_count": 3,
   "id": "c7618dd4-3c4b-4fac-87dd-3ed6799070a6",
   "metadata": {},
   "outputs": [
    {
     "data": {
      "text/html": [
       "<div>\n",
       "<style scoped>\n",
       "    .dataframe tbody tr th:only-of-type {\n",
       "        vertical-align: middle;\n",
       "    }\n",
       "\n",
       "    .dataframe tbody tr th {\n",
       "        vertical-align: top;\n",
       "    }\n",
       "\n",
       "    .dataframe thead th {\n",
       "        text-align: right;\n",
       "    }\n",
       "</style>\n",
       "<table border=\"1\" class=\"dataframe\">\n",
       "  <thead>\n",
       "    <tr style=\"text-align: right;\">\n",
       "      <th></th>\n",
       "      <th>fruits</th>\n",
       "      <th>price</th>\n",
       "    </tr>\n",
       "  </thead>\n",
       "  <tbody>\n",
       "    <tr>\n",
       "      <th>0</th>\n",
       "      <td>apple</td>\n",
       "      <td>20</td>\n",
       "    </tr>\n",
       "    <tr>\n",
       "      <th>1</th>\n",
       "      <td>mango</td>\n",
       "      <td>25</td>\n",
       "    </tr>\n",
       "    <tr>\n",
       "      <th>2</th>\n",
       "      <td>apple</td>\n",
       "      <td>20</td>\n",
       "    </tr>\n",
       "    <tr>\n",
       "      <th>3</th>\n",
       "      <td>banana</td>\n",
       "      <td>25</td>\n",
       "    </tr>\n",
       "    <tr>\n",
       "      <th>4</th>\n",
       "      <td>apple</td>\n",
       "      <td>15</td>\n",
       "    </tr>\n",
       "    <tr>\n",
       "      <th>5</th>\n",
       "      <td>manog</td>\n",
       "      <td>25</td>\n",
       "    </tr>\n",
       "    <tr>\n",
       "      <th>6</th>\n",
       "      <td>banana</td>\n",
       "      <td>30</td>\n",
       "    </tr>\n",
       "    <tr>\n",
       "      <th>7</th>\n",
       "      <td>mango</td>\n",
       "      <td>25</td>\n",
       "    </tr>\n",
       "    <tr>\n",
       "      <th>8</th>\n",
       "      <td>mango</td>\n",
       "      <td>20</td>\n",
       "    </tr>\n",
       "    <tr>\n",
       "      <th>9</th>\n",
       "      <td>apple</td>\n",
       "      <td>15</td>\n",
       "    </tr>\n",
       "  </tbody>\n",
       "</table>\n",
       "</div>"
      ],
      "text/plain": [
       "   fruits  price\n",
       "0   apple     20\n",
       "1   mango     25\n",
       "2   apple     20\n",
       "3  banana     25\n",
       "4   apple     15\n",
       "5   manog     25\n",
       "6  banana     30\n",
       "7   mango     25\n",
       "8   mango     20\n",
       "9   apple     15"
      ]
     },
     "execution_count": 3,
     "metadata": {},
     "output_type": "execute_result"
    }
   ],
   "source": [
    "df"
   ]
  },
  {
   "cell_type": "code",
   "execution_count": 4,
   "id": "75cc81c5-e118-4b36-8eb6-28baacb739b3",
   "metadata": {},
   "outputs": [],
   "source": [
    "mean_df  = df.groupby('fruits')['price'].mean().to_dict()"
   ]
  },
  {
   "cell_type": "code",
   "execution_count": 5,
   "id": "5fcf06c4-725b-404b-8b9d-9541e1d4114a",
   "metadata": {},
   "outputs": [
    {
     "data": {
      "text/plain": [
       "{'apple': 17.5, 'banana': 27.5, 'mango': 23.333333333333332, 'manog': 25.0}"
      ]
     },
     "execution_count": 5,
     "metadata": {},
     "output_type": "execute_result"
    }
   ],
   "source": [
    "mean_df"
   ]
  },
  {
   "cell_type": "code",
   "execution_count": 7,
   "id": "31c183f1-21b6-44b4-aa57-512bdd662dd2",
   "metadata": {},
   "outputs": [],
   "source": [
    "df['fruits_encoded'] = df['fruits'].map(mean_df)"
   ]
  },
  {
   "cell_type": "code",
   "execution_count": 8,
   "id": "d50ce6e5-30fe-4995-9b52-3c2c6dc9c949",
   "metadata": {},
   "outputs": [
    {
     "data": {
      "text/html": [
       "<div>\n",
       "<style scoped>\n",
       "    .dataframe tbody tr th:only-of-type {\n",
       "        vertical-align: middle;\n",
       "    }\n",
       "\n",
       "    .dataframe tbody tr th {\n",
       "        vertical-align: top;\n",
       "    }\n",
       "\n",
       "    .dataframe thead th {\n",
       "        text-align: right;\n",
       "    }\n",
       "</style>\n",
       "<table border=\"1\" class=\"dataframe\">\n",
       "  <thead>\n",
       "    <tr style=\"text-align: right;\">\n",
       "      <th></th>\n",
       "      <th>fruits</th>\n",
       "      <th>price</th>\n",
       "      <th>fruits_encoded</th>\n",
       "    </tr>\n",
       "  </thead>\n",
       "  <tbody>\n",
       "    <tr>\n",
       "      <th>0</th>\n",
       "      <td>apple</td>\n",
       "      <td>20</td>\n",
       "      <td>17.500000</td>\n",
       "    </tr>\n",
       "    <tr>\n",
       "      <th>1</th>\n",
       "      <td>mango</td>\n",
       "      <td>25</td>\n",
       "      <td>23.333333</td>\n",
       "    </tr>\n",
       "    <tr>\n",
       "      <th>2</th>\n",
       "      <td>apple</td>\n",
       "      <td>20</td>\n",
       "      <td>17.500000</td>\n",
       "    </tr>\n",
       "    <tr>\n",
       "      <th>3</th>\n",
       "      <td>banana</td>\n",
       "      <td>25</td>\n",
       "      <td>27.500000</td>\n",
       "    </tr>\n",
       "    <tr>\n",
       "      <th>4</th>\n",
       "      <td>apple</td>\n",
       "      <td>15</td>\n",
       "      <td>17.500000</td>\n",
       "    </tr>\n",
       "    <tr>\n",
       "      <th>5</th>\n",
       "      <td>manog</td>\n",
       "      <td>25</td>\n",
       "      <td>25.000000</td>\n",
       "    </tr>\n",
       "    <tr>\n",
       "      <th>6</th>\n",
       "      <td>banana</td>\n",
       "      <td>30</td>\n",
       "      <td>27.500000</td>\n",
       "    </tr>\n",
       "    <tr>\n",
       "      <th>7</th>\n",
       "      <td>mango</td>\n",
       "      <td>25</td>\n",
       "      <td>23.333333</td>\n",
       "    </tr>\n",
       "    <tr>\n",
       "      <th>8</th>\n",
       "      <td>mango</td>\n",
       "      <td>20</td>\n",
       "      <td>23.333333</td>\n",
       "    </tr>\n",
       "    <tr>\n",
       "      <th>9</th>\n",
       "      <td>apple</td>\n",
       "      <td>15</td>\n",
       "      <td>17.500000</td>\n",
       "    </tr>\n",
       "  </tbody>\n",
       "</table>\n",
       "</div>"
      ],
      "text/plain": [
       "   fruits  price  fruits_encoded\n",
       "0   apple     20       17.500000\n",
       "1   mango     25       23.333333\n",
       "2   apple     20       17.500000\n",
       "3  banana     25       27.500000\n",
       "4   apple     15       17.500000\n",
       "5   manog     25       25.000000\n",
       "6  banana     30       27.500000\n",
       "7   mango     25       23.333333\n",
       "8   mango     20       23.333333\n",
       "9   apple     15       17.500000"
      ]
     },
     "execution_count": 8,
     "metadata": {},
     "output_type": "execute_result"
    }
   ],
   "source": [
    "df"
   ]
  },
  {
   "cell_type": "code",
   "execution_count": null,
   "id": "cb6acb17-66dc-4e18-8d16-2efddb532e93",
   "metadata": {},
   "outputs": [],
   "source": [
    "Q3. Define covariance and explain why it is important in statistical analysis. How is covariance calculated?"
   ]
  },
  {
   "cell_type": "code",
   "execution_count": null,
   "id": "a6c8d061-2082-4b5a-8d70-6bde63f430a5",
   "metadata": {},
   "outputs": [],
   "source": [
    "Ans : Covariance : Covariance is a statistical concept that measures the relationship between two variables.\n",
    "      It quantifies how changes in one variable correspond to changes in another variable. In other words, it \n",
    "      describes the co-movement or joint variability of two random variables.\n",
    "        \n",
    "     Covariance is important in statistical analysis because it provides insights into the linear relationship \n",
    "    between variables. It helps us understand how changes in one variable may be related to changes in another \n",
    "    variable. By examining the covariance between variables, we can gain valuable information about their interdependence \n",
    "    and make predictions about their behavior.\n",
    "    \n",
    "    \n",
    "    The covariance between two variables, X and Y, is calculated using the following formula:\n",
    "\n",
    "        Cov(X, Y) = sum((X_i - x_mean)*(Y_i - y_mean)) / (n - 1) \n",
    "        \n",
    "        X_i and Y_i are individual data points of X and Y, respectively.\n",
    "        x_mean is the mean (average) of the X variable.\n",
    "        y_mean is the mean (average) of the Y variable.\n",
    "        n is the total number of data points"
   ]
  },
  {
   "cell_type": "code",
   "execution_count": null,
   "id": "b5edc0ef-0990-4e80-b52a-446e250fcacc",
   "metadata": {},
   "outputs": [],
   "source": [
    "Q4. For a dataset with the following categorical variables: Color (red, green, blue), Size (small, medium,\n",
    "    large), and Material (wood, metal, plastic), perform label encoding using Python's scikit-learn library.\n",
    "    Show your code and explain the output."
   ]
  },
  {
   "cell_type": "code",
   "execution_count": 9,
   "id": "470bbcc1-4071-4db5-a16d-fb715fabf972",
   "metadata": {},
   "outputs": [],
   "source": [
    "from sklearn.preprocessing import LabelEncoder"
   ]
  },
  {
   "cell_type": "code",
   "execution_count": 10,
   "id": "abe07a05-42b7-4842-a86b-80709f79cef7",
   "metadata": {},
   "outputs": [],
   "source": [
    "df = pd.DataFrame({\n",
    "      \"Color\" : [\"red\",\"green\",\"blue\"],\n",
    "       \"Size\" : [\"small\",\"medium\",\"large\"],\n",
    "      \"Material\": [\"wood\",\"metal\",\"plastic\"]\n",
    "})"
   ]
  },
  {
   "cell_type": "code",
   "execution_count": 11,
   "id": "baed0147-fd0e-40e9-9a88-0cc6dca95891",
   "metadata": {},
   "outputs": [],
   "source": [
    "encoder = LabelEncoder()"
   ]
  },
  {
   "cell_type": "code",
   "execution_count": 15,
   "id": "2a7307c2-fd1b-4ec6-bef2-028caa777fd5",
   "metadata": {},
   "outputs": [],
   "source": [
    "encoded_1 = encoder.fit_transform(df[\"Color\"])"
   ]
  },
  {
   "cell_type": "code",
   "execution_count": 16,
   "id": "9dec0657-fa16-4ed6-a203-15d9c7ea8ef7",
   "metadata": {},
   "outputs": [
    {
     "data": {
      "text/plain": [
       "array([2, 1, 0])"
      ]
     },
     "execution_count": 16,
     "metadata": {},
     "output_type": "execute_result"
    }
   ],
   "source": [
    "encoded_1"
   ]
  },
  {
   "cell_type": "code",
   "execution_count": null,
   "id": "54f5974d-c7ed-4971-a5e8-6b03a1c45bfd",
   "metadata": {},
   "outputs": [],
   "source": [
    "Label encoding convert categorical column in numerical data according to which word comes first in alphabets from 0 ,1,2,3...\n",
    "in above blue comes first sa compare to green and red so it encoded with 0 and green wit 1 and red comes in last so it get 2\n",
    "\n",
    "and the same happens with other colomns "
   ]
  },
  {
   "cell_type": "code",
   "execution_count": 18,
   "id": "04f48eaf-c514-4705-af1c-6aad05b59684",
   "metadata": {},
   "outputs": [],
   "source": [
    "encoded_2 = encoder.fit_transform(df[\"Size\"])"
   ]
  },
  {
   "cell_type": "code",
   "execution_count": 19,
   "id": "6f8c6818-e4d1-46c1-b8a8-2e7a491ae5c8",
   "metadata": {},
   "outputs": [
    {
     "data": {
      "text/plain": [
       "array([2, 1, 0])"
      ]
     },
     "execution_count": 19,
     "metadata": {},
     "output_type": "execute_result"
    }
   ],
   "source": [
    "encoded_2"
   ]
  },
  {
   "cell_type": "code",
   "execution_count": 20,
   "id": "0f2e6d89-3796-4fed-925e-d2d9767e34aa",
   "metadata": {},
   "outputs": [],
   "source": [
    "encoded_3 = encoder.fit_transform(df[\"Material\"])"
   ]
  },
  {
   "cell_type": "code",
   "execution_count": 21,
   "id": "5954e126-d414-4917-9341-45ba936843d6",
   "metadata": {},
   "outputs": [
    {
     "data": {
      "text/plain": [
       "array([2, 0, 1])"
      ]
     },
     "execution_count": 21,
     "metadata": {},
     "output_type": "execute_result"
    }
   ],
   "source": [
    "encoded_3"
   ]
  },
  {
   "cell_type": "code",
   "execution_count": null,
   "id": "4c1df8c3-3e57-47a7-a537-5051a35cd379",
   "metadata": {},
   "outputs": [],
   "source": [
    "Q5. Calculate the covariance matrix for the following variables in a dataset: Age, Income, and Education\n",
    "    level. Interpret the results."
   ]
  },
  {
   "cell_type": "code",
   "execution_count": null,
   "id": "5754151d-29ef-4e33-9c91-92f15c9ee7e7",
   "metadata": {},
   "outputs": [],
   "source": [
    "Ans : To calculate the covariance matrix, we need to calculate the covariance between each pair of variables.\n",
    "        Let's assume we have calculated the following covariances:\n",
    "\n",
    "            Cov(Age, Age) = 10\n",
    "            Cov(Age, Income) = 100\n",
    "            Cov(Age, Education) = 50\n",
    "            Cov(Income, Income) = 2000\n",
    "            Cov(Income, Education) = 150\n",
    "            Cov(Education, Education) = 25\n",
    "            \n",
    "            Substituting the calculated values, the covariance matrix would be:\n",
    "\n",
    "                | 10  100   50 |\n",
    "                | 100 2000 150 |\n",
    "                | 50  150   25 |\n",
    "\n",
    "            1The diagonal elements of the covariance matrix represent the variances of the variables.\n",
    "            2.The off-diagonal elements represent the covariances between the variables.\n",
    "            3.Positive covariances suggest a positive relationship, meaning that when one variable increases, \n",
    "              the other tends to increase as well, and vice versa.\n",
    "            4.Negative covariances indicate an inverse relationship, where one variable tends to decrease when the other \n",
    "              increases, and vice versa."
   ]
  },
  {
   "cell_type": "code",
   "execution_count": null,
   "id": "999fac6b-b324-447c-9a7d-d1a1202f8275",
   "metadata": {},
   "outputs": [],
   "source": [
    "Q6. You are working on a machine learning project with a dataset containing several categorical\n",
    "    variables, including \"Gender\" (Male/Female), \"Education Level\" (High School/Bachelor's/Master's/PhD),\n",
    "    and \"Employment Status\" (Unemployed/Part-Time/Full-Time). Which encoding method would you use for\n",
    "    each variable, and why?"
   ]
  },
  {
   "cell_type": "code",
   "execution_count": null,
   "id": "928e7d44-5187-4224-83d5-6eb75ceb2043",
   "metadata": {},
   "outputs": [],
   "source": [
    "Ans : 1.Gender (Male/Female):\n",
    "        For a binary categorical variable like \"Gender,\" the most straightforward encoding method is binary encoding or label encoding.\n",
    "        In binary encoding, the variable is encoded as 0 or 1, representing the two categories (e.g., Male as 0 and Female as 1).\n",
    "        Label encoding assigns a numerical label to each category (e.g., Male as 0 and Female as 1). Either of these encoding methods \n",
    "        would be suitable for the \"Gender\" variable.\n",
    "       \n",
    "    2.Education Level (High School/Bachelor's/Master's/PhD):\n",
    "        For categorical variables with multiple categories and without any ordinal relationship (no inherent ordering), one-hot encoding or \n",
    "        dummy encoding is typically used. One-hot encoding converts each category into a binary feature column, where 1 indicates the presence\n",
    "        of that category and 0 indicates its absence. In this case, each education level category would be represented by a separate binary feature\n",
    "        column.\n",
    "        \n",
    "    3.Employment Status (Unemployed/Part-Time/Full-Time):\n",
    "        Similar to the \"Education Level\" variable, one-hot encoding or dummy encoding would be suitable for the \"Employment Status\" variable.\n",
    "        Each employment status category would be encoded as a separate binary feature column. For example, the \"Employment Status\" variable \n",
    "        would be encoded as three separate columns: Unemployed, Part-Time, and Full-Time. Each column would have a value of 1 for the corresponding\n",
    "        employment status and 0 for the others.\n",
    "    "
   ]
  },
  {
   "cell_type": "code",
   "execution_count": null,
   "id": "81e6d75d-0235-42d8-be13-6142d5f6cea6",
   "metadata": {},
   "outputs": [],
   "source": [
    "Q7. You are analyzing a dataset with two continuous variables, \"Temperature\" and \"Humidity\", and two\n",
    "    categorical variables, \"Weather Condition\" (Sunny/Cloudy/Rainy) and \"Wind Direction\" (North/South/\n",
    "    East/West). Calculate the covariance between each pair of variables and interpret the results."
   ]
  },
  {
   "cell_type": "code",
   "execution_count": null,
   "id": "491d5e78-071a-4c62-b8e9-57bde1af1bfc",
   "metadata": {},
   "outputs": [],
   "source": [
    "Ans :Covariance is typically calculated between two continuous variables. Since \"Weather Condition\" and \"Wind Direction\" are \n",
    "     categorical variables, it is not appropriate to calculate covariance directly between them and other variables.\n",
    "         so Covariance will be calculate between the  \"Temperature\" and \"Humidity\" continuous variables.\n",
    "        \n",
    "        To calculate the covariance we use the formula \n",
    "        \n",
    "        Cov(X, Y) = sum((X_i - x_mean)*(Y_i - y_mean)) / (n - 1) \n",
    "        \n",
    "         X_i and Y_i are individual data points of X and Y, respectively.\n",
    "        x_mean is the mean (average) of the X variable.\n",
    "        y_mean is the mean (average) of the Y variable.\n",
    "        n is the total number of data points\n",
    "        \n",
    "        let \n",
    "        cov(X,Y) = 50\n",
    "        \n",
    "        A positive covariance of 50 suggests a positive relationship between \"Temperature\" and \"Humidity.\" This means that, on average, \n",
    "        when the temperature tends to be higher than its mean value, the humidity also tends to be higher than its mean value.\n",
    "        Similarly, when the temperature tends to be lower than its mean value, the humidity tends to be lower as well.\n",
    "        \n",
    "        if \n",
    "        cov(X,Y) = -50\n",
    "         A negative covariance of 50 suggests a positive relationship between \"Temperature\" and \"Humidity.\""
   ]
  }
 ],
 "metadata": {
  "kernelspec": {
   "display_name": "Python 3 (ipykernel)",
   "language": "python",
   "name": "python3"
  },
  "language_info": {
   "codemirror_mode": {
    "name": "ipython",
    "version": 3
   },
   "file_extension": ".py",
   "mimetype": "text/x-python",
   "name": "python",
   "nbconvert_exporter": "python",
   "pygments_lexer": "ipython3",
   "version": "3.10.8"
  }
 },
 "nbformat": 4,
 "nbformat_minor": 5
}
